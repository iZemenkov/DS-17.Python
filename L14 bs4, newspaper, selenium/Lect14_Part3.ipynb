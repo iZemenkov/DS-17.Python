{
 "cells": [
  {
   "cell_type": "markdown",
   "id": "3e258d77",
   "metadata": {},
   "source": [
    " # Парсинг данных и анализ. Кассовые сборы фильмов и бюджеты\n",
    " \n",
    "Поработаем с данными о бюджетах фильмов и финансовых показателях с помощью сайта [The Numbers](https://www.the-numbers.com/movie/budgets/all)."
   ]
  },
  {
   "cell_type": "code",
   "execution_count": 1,
   "id": "e4f71ccc",
   "metadata": {},
   "outputs": [
    {
     "name": "stdout",
     "output_type": "stream",
     "text": [
      "Collecting fake_useragent\n",
      "  Downloading fake_useragent-1.5.1-py3-none-any.whl.metadata (15 kB)\n",
      "Downloading fake_useragent-1.5.1-py3-none-any.whl (17 kB)\n",
      "Installing collected packages: fake_useragent\n",
      "Successfully installed fake_useragent-1.5.1\n"
     ]
    }
   ],
   "source": [
    "!pip install fake_useragent"
   ]
  },
  {
   "cell_type": "code",
   "execution_count": 2,
   "id": "bc04ff69",
   "metadata": {},
   "outputs": [],
   "source": [
    "# импортируйте нужные библиотеки\n",
    "import requests\n",
    "from bs4 import BeautifulSoup\n",
    "import pandas as pd\n",
    "from fake_useragent import UserAgent\n",
    "from tqdm import tqdm\n",
    "from time import sleep\n",
    "import matplotlib\n",
    "%matplotlib inline "
   ]
  },
  {
   "cell_type": "code",
   "execution_count": 3,
   "id": "6efbb20e",
   "metadata": {},
   "outputs": [],
   "source": [
    "import warnings\n",
    "warnings.filterwarnings(\"ignore\")"
   ]
  },
  {
   "cell_type": "markdown",
   "id": "09b9db02",
   "metadata": {},
   "source": [
    "### Парсинг данных"
   ]
  },
  {
   "cell_type": "code",
   "execution_count": 4,
   "id": "48c45760",
   "metadata": {},
   "outputs": [
    {
     "name": "stdout",
     "output_type": "stream",
     "text": [
      "<Response [403]>\n"
     ]
    }
   ],
   "source": [
    "req = requests.get('https://www.the-numbers.com/movie/budgets/all')\n",
    "print(req)"
   ]
  },
  {
   "cell_type": "markdown",
   "id": "7c855e28",
   "metadata": {},
   "source": [
    "Мы впервые сталкиваемся с тем, что сервер не отдает нам данные по запросу. Но и из этой ситуации есть выход! Библиотека `fake_useragent`."
   ]
  },
  {
   "cell_type": "code",
   "execution_count": 6,
   "id": "16449db2",
   "metadata": {},
   "outputs": [],
   "source": [
    "ua = UserAgent()\n",
    "headers = {'User-Agent': ua.chrome}"
   ]
  },
  {
   "cell_type": "code",
   "execution_count": 7,
   "id": "05994a6d",
   "metadata": {},
   "outputs": [
    {
     "name": "stdout",
     "output_type": "stream",
     "text": [
      "<Response [200]>\n"
     ]
    }
   ],
   "source": [
    "req = requests.get('https://www.the-numbers.com/movie/budgets/all', headers=headers)\n",
    "print(req)"
   ]
  },
  {
   "cell_type": "code",
   "execution_count": 8,
   "id": "127a0aa7",
   "metadata": {},
   "outputs": [],
   "source": [
    "soup = BeautifulSoup(req.text, 'html')"
   ]
  },
  {
   "cell_type": "code",
   "execution_count": 9,
   "id": "780ad5c4",
   "metadata": {},
   "outputs": [],
   "source": [
    "df = pd.read_html(str(soup.find('table')))[0]"
   ]
  },
  {
   "cell_type": "code",
   "execution_count": 10,
   "id": "3756aa5c",
   "metadata": {},
   "outputs": [
    {
     "data": {
      "text/html": [
       "<div>\n",
       "<style scoped>\n",
       "    .dataframe tbody tr th:only-of-type {\n",
       "        vertical-align: middle;\n",
       "    }\n",
       "\n",
       "    .dataframe tbody tr th {\n",
       "        vertical-align: top;\n",
       "    }\n",
       "\n",
       "    .dataframe thead th {\n",
       "        text-align: right;\n",
       "    }\n",
       "</style>\n",
       "<table border=\"1\" class=\"dataframe\">\n",
       "  <thead>\n",
       "    <tr style=\"text-align: right;\">\n",
       "      <th></th>\n",
       "      <th>Unnamed: 0</th>\n",
       "      <th>Release Date</th>\n",
       "      <th>Movie</th>\n",
       "      <th>Production Budget</th>\n",
       "      <th>Domestic Gross</th>\n",
       "      <th>Worldwide Gross</th>\n",
       "    </tr>\n",
       "  </thead>\n",
       "  <tbody>\n",
       "    <tr>\n",
       "      <th>0</th>\n",
       "      <td>1</td>\n",
       "      <td>Dec 16, 2015</td>\n",
       "      <td>Star Wars Ep. VII: The Force Awakens</td>\n",
       "      <td>$533,200,000</td>\n",
       "      <td>$936,662,225</td>\n",
       "      <td>$2,064,615,817</td>\n",
       "    </tr>\n",
       "    <tr>\n",
       "      <th>1</th>\n",
       "      <td>2</td>\n",
       "      <td>Dec 9, 2022</td>\n",
       "      <td>Avatar: The Way of Water</td>\n",
       "      <td>$460,000,000</td>\n",
       "      <td>$684,075,767</td>\n",
       "      <td>$2,317,514,386</td>\n",
       "    </tr>\n",
       "    <tr>\n",
       "      <th>2</th>\n",
       "      <td>3</td>\n",
       "      <td>Jun 28, 2023</td>\n",
       "      <td>Indiana Jones and the Dial of Destiny</td>\n",
       "      <td>$402,300,000</td>\n",
       "      <td>$174,480,468</td>\n",
       "      <td>$383,963,057</td>\n",
       "    </tr>\n",
       "    <tr>\n",
       "      <th>3</th>\n",
       "      <td>4</td>\n",
       "      <td>Apr 23, 2019</td>\n",
       "      <td>Avengers: Endgame</td>\n",
       "      <td>$400,000,000</td>\n",
       "      <td>$858,373,000</td>\n",
       "      <td>$2,748,242,781</td>\n",
       "    </tr>\n",
       "    <tr>\n",
       "      <th>4</th>\n",
       "      <td>5</td>\n",
       "      <td>May 20, 2011</td>\n",
       "      <td>Pirates of the Caribbean: On Stranger Tides</td>\n",
       "      <td>$379,000,000</td>\n",
       "      <td>$241,071,802</td>\n",
       "      <td>$1,045,713,802</td>\n",
       "    </tr>\n",
       "    <tr>\n",
       "      <th>...</th>\n",
       "      <td>...</td>\n",
       "      <td>...</td>\n",
       "      <td>...</td>\n",
       "      <td>...</td>\n",
       "      <td>...</td>\n",
       "      <td>...</td>\n",
       "    </tr>\n",
       "    <tr>\n",
       "      <th>95</th>\n",
       "      <td>96</td>\n",
       "      <td>Nov 22, 2023</td>\n",
       "      <td>Wish</td>\n",
       "      <td>$200,000,000</td>\n",
       "      <td>$63,973,821</td>\n",
       "      <td>$240,274,313</td>\n",
       "    </tr>\n",
       "    <tr>\n",
       "      <th>96</th>\n",
       "      <td>97</td>\n",
       "      <td>Feb 28, 2020</td>\n",
       "      <td>Onward</td>\n",
       "      <td>$200,000,000</td>\n",
       "      <td>$61,555,145</td>\n",
       "      <td>$133,357,601</td>\n",
       "    </tr>\n",
       "    <tr>\n",
       "      <th>97</th>\n",
       "      <td>98</td>\n",
       "      <td>Nov 22, 2023</td>\n",
       "      <td>Napoleon</td>\n",
       "      <td>$200,000,000</td>\n",
       "      <td>$61,524,375</td>\n",
       "      <td>$217,917,156</td>\n",
       "    </tr>\n",
       "    <tr>\n",
       "      <th>98</th>\n",
       "      <td>99</td>\n",
       "      <td>Dec 16, 2020</td>\n",
       "      <td>Wonder Woman 1984</td>\n",
       "      <td>$200,000,000</td>\n",
       "      <td>$46,801,036</td>\n",
       "      <td>$166,360,232</td>\n",
       "    </tr>\n",
       "    <tr>\n",
       "      <th>99</th>\n",
       "      <td>100</td>\n",
       "      <td>Jan 31, 2024</td>\n",
       "      <td>Argylle</td>\n",
       "      <td>$200,000,000</td>\n",
       "      <td>$45,207,275</td>\n",
       "      <td>$96,210,855</td>\n",
       "    </tr>\n",
       "  </tbody>\n",
       "</table>\n",
       "<p>100 rows × 6 columns</p>\n",
       "</div>"
      ],
      "text/plain": [
       "    Unnamed: 0  Release Date                                        Movie  \\\n",
       "0            1  Dec 16, 2015         Star Wars Ep. VII: The Force Awakens   \n",
       "1            2   Dec 9, 2022                     Avatar: The Way of Water   \n",
       "2            3  Jun 28, 2023        Indiana Jones and the Dial of Destiny   \n",
       "3            4  Apr 23, 2019                            Avengers: Endgame   \n",
       "4            5  May 20, 2011  Pirates of the Caribbean: On Stranger Tides   \n",
       "..         ...           ...                                          ...   \n",
       "95          96  Nov 22, 2023                                         Wish   \n",
       "96          97  Feb 28, 2020                                       Onward   \n",
       "97          98  Nov 22, 2023                                     Napoleon   \n",
       "98          99  Dec 16, 2020                            Wonder Woman 1984   \n",
       "99         100  Jan 31, 2024                                      Argylle   \n",
       "\n",
       "   Production Budget Domestic Gross Worldwide Gross  \n",
       "0       $533,200,000   $936,662,225  $2,064,615,817  \n",
       "1       $460,000,000   $684,075,767  $2,317,514,386  \n",
       "2       $402,300,000   $174,480,468    $383,963,057  \n",
       "3       $400,000,000   $858,373,000  $2,748,242,781  \n",
       "4       $379,000,000   $241,071,802  $1,045,713,802  \n",
       "..               ...            ...             ...  \n",
       "95      $200,000,000    $63,973,821    $240,274,313  \n",
       "96      $200,000,000    $61,555,145    $133,357,601  \n",
       "97      $200,000,000    $61,524,375    $217,917,156  \n",
       "98      $200,000,000    $46,801,036    $166,360,232  \n",
       "99      $200,000,000    $45,207,275     $96,210,855  \n",
       "\n",
       "[100 rows x 6 columns]"
      ]
     },
     "execution_count": 10,
     "metadata": {},
     "output_type": "execute_result"
    }
   ],
   "source": [
    "df"
   ]
  },
  {
   "cell_type": "markdown",
   "id": "d2fd54c0",
   "metadata": {},
   "source": [
    "Спарсим все данные по ссылке выше."
   ]
  },
  {
   "cell_type": "code",
   "execution_count": 11,
   "id": "cdae1958",
   "metadata": {},
   "outputs": [
    {
     "name": "stderr",
     "output_type": "stream",
     "text": [
      "100%|██████████| 65/65 [03:07<00:00,  2.88s/it]\n"
     ]
    }
   ],
   "source": [
    "main = pd.DataFrame()\n",
    "\n",
    "for i in tqdm(range(1, 66)):\n",
    "    req = requests.get(f'https://www.the-numbers.com/movie/budgets/all/{i}01', headers=headers)\n",
    "    soup = BeautifulSoup(req.text, 'html')\n",
    "    table = soup.find('table')\n",
    "    df1 = pd.read_html(str(table))[0]\n",
    "    main = pd.concat([main, df1])\n",
    "    sleep(1)"
   ]
  },
  {
   "cell_type": "code",
   "execution_count": 12,
   "id": "c8a5f52a",
   "metadata": {},
   "outputs": [],
   "source": [
    "df = pd.concat([df, main])"
   ]
  },
  {
   "cell_type": "code",
   "execution_count": 13,
   "id": "26fbbda6",
   "metadata": {},
   "outputs": [],
   "source": [
    "df = df.set_index('Unnamed: 0')"
   ]
  },
  {
   "cell_type": "code",
   "execution_count": 14,
   "id": "be429202",
   "metadata": {},
   "outputs": [
    {
     "data": {
      "text/plain": [
       "(6515, 5)"
      ]
     },
     "execution_count": 14,
     "metadata": {},
     "output_type": "execute_result"
    }
   ],
   "source": [
    "df.shape"
   ]
  },
  {
   "cell_type": "markdown",
   "id": "a4152d7e",
   "metadata": {},
   "source": [
    "### EDA\n",
    "\n",
    "* Сколько строк и столбцов содержит набор данных?\n",
    "* Присутствуют ли значения NaN?\n",
    "* Есть ли дублирующиеся строки?\n",
    "* Какие типы данных столбцов?"
   ]
  },
  {
   "cell_type": "code",
   "execution_count": 15,
   "id": "343d59c5",
   "metadata": {},
   "outputs": [
    {
     "data": {
      "text/plain": [
       "False"
      ]
     },
     "execution_count": 15,
     "metadata": {},
     "output_type": "execute_result"
    }
   ],
   "source": [
    "# ваш код\n",
    "df.isna().values.any()"
   ]
  },
  {
   "cell_type": "code",
   "execution_count": 16,
   "id": "9b02bb5e",
   "metadata": {
    "scrolled": true
   },
   "outputs": [
    {
     "data": {
      "text/plain": [
       "False"
      ]
     },
     "execution_count": 16,
     "metadata": {},
     "output_type": "execute_result"
    }
   ],
   "source": [
    "df.duplicated().values.any()"
   ]
  },
  {
   "cell_type": "code",
   "execution_count": 17,
   "id": "cbab8707",
   "metadata": {},
   "outputs": [],
   "source": [
    "?df.dropna"
   ]
  },
  {
   "cell_type": "code",
   "execution_count": 18,
   "id": "fb019103",
   "metadata": {},
   "outputs": [],
   "source": [
    "?df.drop_duplicates"
   ]
  },
  {
   "cell_type": "code",
   "execution_count": 19,
   "id": "3cf837a9",
   "metadata": {},
   "outputs": [
    {
     "name": "stdout",
     "output_type": "stream",
     "text": [
      "<class 'pandas.core.frame.DataFrame'>\n",
      "Index: 6515 entries, 1 to 6515\n",
      "Data columns (total 5 columns):\n",
      " #   Column             Non-Null Count  Dtype \n",
      "---  ------             --------------  ----- \n",
      " 0   Release Date       6515 non-null   object\n",
      " 1   Movie              6515 non-null   object\n",
      " 2   Production Budget  6515 non-null   object\n",
      " 3   Domestic Gross     6515 non-null   object\n",
      " 4   Worldwide Gross    6515 non-null   object\n",
      "dtypes: object(5)\n",
      "memory usage: 305.4+ KB\n"
     ]
    }
   ],
   "source": [
    "df.info()"
   ]
  },
  {
   "cell_type": "markdown",
   "id": "60bf75ae",
   "metadata": {},
   "source": [
    "### Перевод данных\n",
    "\n",
    "Переводим столбцы в нужные типы данных"
   ]
  },
  {
   "cell_type": "code",
   "execution_count": 20,
   "id": "a46eb39c",
   "metadata": {},
   "outputs": [
    {
     "data": {
      "text/plain": [
       "['Release Date',\n",
       " 'Movie',\n",
       " 'Production Budget',\n",
       " 'Domestic Gross',\n",
       " 'Worldwide Gross']"
      ]
     },
     "execution_count": 20,
     "metadata": {},
     "output_type": "execute_result"
    }
   ],
   "source": [
    "my_cols = list(df.columns)\n",
    "my_cols"
   ]
  },
  {
   "cell_type": "code",
   "execution_count": 22,
   "id": "2d4ec396",
   "metadata": {},
   "outputs": [
    {
     "data": {
      "text/html": [
       "<div>\n",
       "<style scoped>\n",
       "    .dataframe tbody tr th:only-of-type {\n",
       "        vertical-align: middle;\n",
       "    }\n",
       "\n",
       "    .dataframe tbody tr th {\n",
       "        vertical-align: top;\n",
       "    }\n",
       "\n",
       "    .dataframe thead th {\n",
       "        text-align: right;\n",
       "    }\n",
       "</style>\n",
       "<table border=\"1\" class=\"dataframe\">\n",
       "  <thead>\n",
       "    <tr style=\"text-align: right;\">\n",
       "      <th></th>\n",
       "      <th>Release Date</th>\n",
       "      <th>Movie</th>\n",
       "      <th>Production Budget</th>\n",
       "      <th>Domestic Gross</th>\n",
       "      <th>Worldwide Gross</th>\n",
       "    </tr>\n",
       "    <tr>\n",
       "      <th>Unnamed: 0</th>\n",
       "      <th></th>\n",
       "      <th></th>\n",
       "      <th></th>\n",
       "      <th></th>\n",
       "      <th></th>\n",
       "    </tr>\n",
       "  </thead>\n",
       "  <tbody>\n",
       "    <tr>\n",
       "      <th>1</th>\n",
       "      <td>Dec 16, 2015</td>\n",
       "      <td>Star Wars Ep. VII: The Force Awakens</td>\n",
       "      <td>$533,200,000</td>\n",
       "      <td>$936,662,225</td>\n",
       "      <td>$2,064,615,817</td>\n",
       "    </tr>\n",
       "    <tr>\n",
       "      <th>2</th>\n",
       "      <td>Dec 9, 2022</td>\n",
       "      <td>Avatar: The Way of Water</td>\n",
       "      <td>$460,000,000</td>\n",
       "      <td>$684,075,767</td>\n",
       "      <td>$2,317,514,386</td>\n",
       "    </tr>\n",
       "    <tr>\n",
       "      <th>3</th>\n",
       "      <td>Jun 28, 2023</td>\n",
       "      <td>Indiana Jones and the Dial of Destiny</td>\n",
       "      <td>$402,300,000</td>\n",
       "      <td>$174,480,468</td>\n",
       "      <td>$383,963,057</td>\n",
       "    </tr>\n",
       "    <tr>\n",
       "      <th>4</th>\n",
       "      <td>Apr 23, 2019</td>\n",
       "      <td>Avengers: Endgame</td>\n",
       "      <td>$400,000,000</td>\n",
       "      <td>$858,373,000</td>\n",
       "      <td>$2,748,242,781</td>\n",
       "    </tr>\n",
       "    <tr>\n",
       "      <th>5</th>\n",
       "      <td>May 20, 2011</td>\n",
       "      <td>Pirates of the Caribbean: On Stranger Tides</td>\n",
       "      <td>$379,000,000</td>\n",
       "      <td>$241,071,802</td>\n",
       "      <td>$1,045,713,802</td>\n",
       "    </tr>\n",
       "  </tbody>\n",
       "</table>\n",
       "</div>"
      ],
      "text/plain": [
       "            Release Date                                        Movie  \\\n",
       "Unnamed: 0                                                              \n",
       "1           Dec 16, 2015         Star Wars Ep. VII: The Force Awakens   \n",
       "2            Dec 9, 2022                     Avatar: The Way of Water   \n",
       "3           Jun 28, 2023        Indiana Jones and the Dial of Destiny   \n",
       "4           Apr 23, 2019                            Avengers: Endgame   \n",
       "5           May 20, 2011  Pirates of the Caribbean: On Stranger Tides   \n",
       "\n",
       "           Production Budget Domestic Gross Worldwide Gross  \n",
       "Unnamed: 0                                                   \n",
       "1               $533,200,000   $936,662,225  $2,064,615,817  \n",
       "2               $460,000,000   $684,075,767  $2,317,514,386  \n",
       "3               $402,300,000   $174,480,468    $383,963,057  \n",
       "4               $400,000,000   $858,373,000  $2,748,242,781  \n",
       "5               $379,000,000   $241,071,802  $1,045,713,802  "
      ]
     },
     "execution_count": 22,
     "metadata": {},
     "output_type": "execute_result"
    }
   ],
   "source": [
    "df.head()"
   ]
  },
  {
   "cell_type": "code",
   "execution_count": 23,
   "id": "da43a069",
   "metadata": {},
   "outputs": [],
   "source": [
    "cols = ['Production Budget', 'Domestic Gross', 'Worldwide Gross']\n",
    "\n",
    "for col in cols:\n",
    "    df[col] = df[col].str.replace('$', '')\n",
    "    df[col] = df[col].str.replace(',', '')\n",
    "    df[col] = pd.to_numeric(df[col])"
   ]
  },
  {
   "cell_type": "code",
   "execution_count": 24,
   "id": "f3a0bb9a",
   "metadata": {},
   "outputs": [
    {
     "name": "stdout",
     "output_type": "stream",
     "text": [
      "<class 'pandas.core.frame.DataFrame'>\n",
      "Index: 6515 entries, 1 to 6515\n",
      "Data columns (total 5 columns):\n",
      " #   Column             Non-Null Count  Dtype \n",
      "---  ------             --------------  ----- \n",
      " 0   Release Date       6515 non-null   object\n",
      " 1   Movie              6515 non-null   object\n",
      " 2   Production Budget  6515 non-null   int64 \n",
      " 3   Domestic Gross     6515 non-null   int64 \n",
      " 4   Worldwide Gross    6515 non-null   int64 \n",
      "dtypes: int64(3), object(2)\n",
      "memory usage: 305.4+ KB\n"
     ]
    }
   ],
   "source": [
    "df.info()"
   ]
  },
  {
   "cell_type": "markdown",
   "id": "718b07f7",
   "metadata": {},
   "source": [
    "### Описательная статистика\n",
    "\n",
    "* Какой средний бюджет фильмов в наборе данных?\n",
    "* Какой средний мировой доход фильмов?\n",
    "* Какие минимальные показатели мирового и локального дохода фильмов?\n",
    "* Какие самый высокий бюджет и самый высокий мировой доход среди фильмов?\n",
    "* Какой доход принесли фильмы с самым низким и самым высоким бюджетом?"
   ]
  },
  {
   "cell_type": "code",
   "execution_count": 34,
   "id": "0d99b702",
   "metadata": {},
   "outputs": [
    {
     "data": {
      "text/html": [
       "<div>\n",
       "<style scoped>\n",
       "    .dataframe tbody tr th:only-of-type {\n",
       "        vertical-align: middle;\n",
       "    }\n",
       "\n",
       "    .dataframe tbody tr th {\n",
       "        vertical-align: top;\n",
       "    }\n",
       "\n",
       "    .dataframe thead th {\n",
       "        text-align: right;\n",
       "    }\n",
       "</style>\n",
       "<table border=\"1\" class=\"dataframe\">\n",
       "  <thead>\n",
       "    <tr style=\"text-align: right;\">\n",
       "      <th></th>\n",
       "      <th>Production Budget</th>\n",
       "      <th>Domestic Gross</th>\n",
       "      <th>Worldwide Gross</th>\n",
       "    </tr>\n",
       "  </thead>\n",
       "  <tbody>\n",
       "    <tr>\n",
       "      <th>count</th>\n",
       "      <td>6,515.00</td>\n",
       "      <td>6,515.00</td>\n",
       "      <td>6,515.00</td>\n",
       "    </tr>\n",
       "    <tr>\n",
       "      <th>mean</th>\n",
       "      <td>32,788,846.19</td>\n",
       "      <td>42,069,128.22</td>\n",
       "      <td>93,571,239.79</td>\n",
       "    </tr>\n",
       "    <tr>\n",
       "      <th>std</th>\n",
       "      <td>44,646,120.26</td>\n",
       "      <td>72,028,923.18</td>\n",
       "      <td>185,962,801.03</td>\n",
       "    </tr>\n",
       "    <tr>\n",
       "      <th>min</th>\n",
       "      <td>86.00</td>\n",
       "      <td>0.00</td>\n",
       "      <td>0.00</td>\n",
       "    </tr>\n",
       "    <tr>\n",
       "      <th>25%</th>\n",
       "      <td>5,000,000.00</td>\n",
       "      <td>1,070,084.00</td>\n",
       "      <td>3,724,867.00</td>\n",
       "    </tr>\n",
       "    <tr>\n",
       "      <th>50%</th>\n",
       "      <td>17,000,000.00</td>\n",
       "      <td>16,124,543.00</td>\n",
       "      <td>27,176,825.00</td>\n",
       "    </tr>\n",
       "    <tr>\n",
       "      <th>75%</th>\n",
       "      <td>40,000,000.00</td>\n",
       "      <td>51,749,047.00</td>\n",
       "      <td>97,388,766.50</td>\n",
       "    </tr>\n",
       "    <tr>\n",
       "      <th>max</th>\n",
       "      <td>533,200,000.00</td>\n",
       "      <td>936,662,225.00</td>\n",
       "      <td>2,923,706,026.00</td>\n",
       "    </tr>\n",
       "  </tbody>\n",
       "</table>\n",
       "</div>"
      ],
      "text/plain": [
       "      Production Budget  Domestic Gross   Worldwide Gross\n",
       "count          6,515.00        6,515.00          6,515.00\n",
       "mean      32,788,846.19   42,069,128.22     93,571,239.79\n",
       "std       44,646,120.26   72,028,923.18    185,962,801.03\n",
       "min               86.00            0.00              0.00\n",
       "25%        5,000,000.00    1,070,084.00      3,724,867.00\n",
       "50%       17,000,000.00   16,124,543.00     27,176,825.00\n",
       "75%       40,000,000.00   51,749,047.00     97,388,766.50\n",
       "max      533,200,000.00  936,662,225.00  2,923,706,026.00"
      ]
     },
     "execution_count": 34,
     "metadata": {},
     "output_type": "execute_result"
    }
   ],
   "source": [
    "# ваш код\n",
    "df.describe().map('{:,.2f}'.format)"
   ]
  },
  {
   "cell_type": "code",
   "execution_count": 38,
   "id": "da187720",
   "metadata": {},
   "outputs": [
    {
     "data": {
      "text/plain": [
       "<Axes: >"
      ]
     },
     "execution_count": 38,
     "metadata": {},
     "output_type": "execute_result"
    },
    {
     "data": {
      "image/png": "[encoded data removed]",
      "text/plain": [
       "<Figure size 640x480 with 1 Axes>"
      ]
     },
     "metadata": {},
     "output_type": "display_data"
    }
   ],
   "source": [
    "df['Production Budget'].hist(bins=10)"
   ]
  },
  {
   "cell_type": "code",
   "execution_count": 39,
   "id": "d2fbcb78",
   "metadata": {},
   "outputs": [
    {
     "data": {
      "text/html": [
       "<div>\n",
       "<style scoped>\n",
       "    .dataframe tbody tr th:only-of-type {\n",
       "        vertical-align: middle;\n",
       "    }\n",
       "\n",
       "    .dataframe tbody tr th {\n",
       "        vertical-align: top;\n",
       "    }\n",
       "\n",
       "    .dataframe thead th {\n",
       "        text-align: right;\n",
       "    }\n",
       "</style>\n",
       "<table border=\"1\" class=\"dataframe\">\n",
       "  <thead>\n",
       "    <tr style=\"text-align: right;\">\n",
       "      <th></th>\n",
       "      <th>Release Date</th>\n",
       "      <th>Movie</th>\n",
       "      <th>Production Budget</th>\n",
       "      <th>Domestic Gross</th>\n",
       "      <th>Worldwide Gross</th>\n",
       "    </tr>\n",
       "    <tr>\n",
       "      <th>Unnamed: 0</th>\n",
       "      <th></th>\n",
       "      <th></th>\n",
       "      <th></th>\n",
       "      <th></th>\n",
       "      <th></th>\n",
       "    </tr>\n",
       "  </thead>\n",
       "  <tbody>\n",
       "    <tr>\n",
       "      <th>6515</th>\n",
       "      <td>Mar 2, 2021</td>\n",
       "      <td>Neeras</td>\n",
       "      <td>86</td>\n",
       "      <td>0</td>\n",
       "      <td>0</td>\n",
       "    </tr>\n",
       "  </tbody>\n",
       "</table>\n",
       "</div>"
      ],
      "text/plain": [
       "           Release Date   Movie  Production Budget  Domestic Gross  \\\n",
       "Unnamed: 0                                                           \n",
       "6515        Mar 2, 2021  Neeras                 86               0   \n",
       "\n",
       "            Worldwide Gross  \n",
       "Unnamed: 0                   \n",
       "6515                      0  "
      ]
     },
     "execution_count": 39,
     "metadata": {},
     "output_type": "execute_result"
    }
   ],
   "source": [
    "df[df['Production Budget'] == df['Production Budget'].min()]"
   ]
  },
  {
   "cell_type": "code",
   "execution_count": 40,
   "id": "4fc5680f",
   "metadata": {},
   "outputs": [
    {
     "data": {
      "text/html": [
       "<div>\n",
       "<style scoped>\n",
       "    .dataframe tbody tr th:only-of-type {\n",
       "        vertical-align: middle;\n",
       "    }\n",
       "\n",
       "    .dataframe tbody tr th {\n",
       "        vertical-align: top;\n",
       "    }\n",
       "\n",
       "    .dataframe thead th {\n",
       "        text-align: right;\n",
       "    }\n",
       "</style>\n",
       "<table border=\"1\" class=\"dataframe\">\n",
       "  <thead>\n",
       "    <tr style=\"text-align: right;\">\n",
       "      <th></th>\n",
       "      <th>Release Date</th>\n",
       "      <th>Movie</th>\n",
       "      <th>Production Budget</th>\n",
       "      <th>Domestic Gross</th>\n",
       "      <th>Worldwide Gross</th>\n",
       "    </tr>\n",
       "    <tr>\n",
       "      <th>Unnamed: 0</th>\n",
       "      <th></th>\n",
       "      <th></th>\n",
       "      <th></th>\n",
       "      <th></th>\n",
       "      <th></th>\n",
       "    </tr>\n",
       "  </thead>\n",
       "  <tbody>\n",
       "    <tr>\n",
       "      <th>33</th>\n",
       "      <td>Dec 17, 2009</td>\n",
       "      <td>Avatar</td>\n",
       "      <td>237000000</td>\n",
       "      <td>785221649</td>\n",
       "      <td>2923706026</td>\n",
       "    </tr>\n",
       "  </tbody>\n",
       "</table>\n",
       "</div>"
      ],
      "text/plain": [
       "            Release Date   Movie  Production Budget  Domestic Gross  \\\n",
       "Unnamed: 0                                                            \n",
       "33          Dec 17, 2009  Avatar          237000000       785221649   \n",
       "\n",
       "            Worldwide Gross  \n",
       "Unnamed: 0                   \n",
       "33               2923706026  "
      ]
     },
     "execution_count": 40,
     "metadata": {},
     "output_type": "execute_result"
    }
   ],
   "source": [
    "df[df['Worldwide Gross'] == df['Worldwide Gross'].max()]"
   ]
  },
  {
   "cell_type": "code",
   "execution_count": 42,
   "id": "79eb1ef3",
   "metadata": {},
   "outputs": [
    {
     "data": {
      "text/plain": [
       "<Axes: >"
      ]
     },
     "execution_count": 42,
     "metadata": {},
     "output_type": "execute_result"
    },
    {
     "data": {
      "image/png": "[encoded data removed]",
      "text/plain": [
       "<Figure size 640x480 with 1 Axes>"
      ]
     },
     "metadata": {},
     "output_type": "display_data"
    }
   ],
   "source": [
    "df['Worldwide Gross'].plot.box(vert=False)"
   ]
  },
  {
   "cell_type": "code",
   "execution_count": null,
   "id": "1a5dfb81",
   "metadata": {},
   "outputs": [],
   "source": [
    "df['Worldwide Gross']"
   ]
  },
  {
   "cell_type": "markdown",
   "id": "1e064a94",
   "metadata": {},
   "source": [
    "### Фильмы, потерявшие деньги\n",
    "\n",
    "* Какой процент фильмов, в которых затраты на производство превысили мировой доход?"
   ]
  },
  {
   "cell_type": "code",
   "execution_count": 54,
   "id": "8a17f246",
   "metadata": {},
   "outputs": [
    {
     "data": {
      "text/plain": [
       "37.54"
      ]
     },
     "execution_count": 54,
     "metadata": {},
     "output_type": "execute_result"
    }
   ],
   "source": [
    "round(df[df['Production Budget'] > df['Worldwide Gross']].shape[0]/df.shape[0]*100 , 2)"
   ]
  }
 ],
 "metadata": {
  "kernelspec": {
   "display_name": "Python 3 (ipykernel)",
   "language": "python",
   "name": "python3"
  },
  "language_info": {
   "codemirror_mode": {
    "name": "ipython",
    "version": 3
   },
   "file_extension": ".py",
   "mimetype": "text/x-python",
   "name": "python",
   "nbconvert_exporter": "python",
   "pygments_lexer": "ipython3",
   "version": "3.11.7"
  }
 },
 "nbformat": 4,
 "nbformat_minor": 5
}
