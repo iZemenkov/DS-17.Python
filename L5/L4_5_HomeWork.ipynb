{
 "cells": [
  {
   "cell_type": "markdown",
   "id": "a22792b2",
   "metadata": {},
   "source": [
    "## Курсовая работа\n",
    "Дана строка, в которой описано решение комиссии насчет курсовой работы. Выведите \"YES\", если решение начинается с подстроки \"зачесть\", или \"NO\" в ином случае. Учтите, что решение может быть написано любым регистром (например, большими буквами, маленькими или с большой). \n",
    "\n",
    "### ФОРМАТ ВВОДА\n",
    "\n",
    "Непустая строка \n",
    "### ФОРМАТ ВЫВОДА\n",
    "\n",
    "Строка \"YES\" или \"NO\""
   ]
  },
  {
   "cell_type": "code",
   "execution_count": 1,
   "id": "38bd5107",
   "metadata": {},
   "outputs": [
    {
     "name": "stdout",
     "output_type": "stream",
     "text": [
      "Pfzxc\n",
      "NO\n"
     ]
    }
   ],
   "source": [
    "if input().lower().startswith('зачесть'):\n",
    "    print('YES')\n",
    "else:\n",
    "    print('NO')"
   ]
  },
  {
   "cell_type": "markdown",
   "id": "5e6aed30",
   "metadata": {},
   "source": [
    "## Олимпиада\n",
    "В олимпиаде участвовали N человек. Их результаты записаны в формате 'N баллов', причем в начале и в конце строки может быть любое количество пробелов. Посчитайте средний балл участников. \n",
    "\n",
    "### ФОРМАТ ВВОДА\n",
    "\n",
    "Программа получает на вход целое положительное число участников олимпиады N. \n",
    "Далее идет N строк, в каждой строке записан результат участника в вышеописанном формате. \n",
    "### ФОРМАТ ВЫВОДА\n",
    "\n",
    "Вещественное число — средний балл всех участников."
   ]
  },
  {
   "cell_type": "code",
   "execution_count": 2,
   "id": "4875ba3b",
   "metadata": {},
   "outputs": [
    {
     "name": "stdout",
     "output_type": "stream",
     "text": [
      "1\n",
      "2323 fsdf\n",
      "2323.0\n"
     ]
    }
   ],
   "source": [
    "cnt =int(input())\n",
    "grade = 0\n",
    "for i in range(cnt):\n",
    "    grade += float(input().split()[0])\n",
    "print(grade/cnt)\n",
    "\n",
    "    "
   ]
  },
  {
   "cell_type": "markdown",
   "id": "7ccea138",
   "metadata": {},
   "source": [
    "## Корпоративные почты\n",
    "Компания \"Пампарам\" регистрирует сотрудникам корпоративные почты и хочет оставить им логины, которыми они уже привыкли пользоваться. Единственное условие — почты не должна начинаться с цифр или c точки, тире, нижнего подчеркивания, поэтому если такие символы встречаются, то они должны быть отброшены. Помогите компании сформировать новый список почт на домене pamparam.ru \n",
    "\n",
    "### ФОРМАТ ВВОДА \n",
    "\n",
    "Список почтовых адресов сотрудников компании через точку с запятой и пробел. \n",
    "Гарантируется, что в каждом адресе есть хотя бы одна буква. \n",
    "### ФОРМАТ ВЫВОДА \n",
    "\n",
    "Список новых почтовых адресов сотрудников компании — домены (то, что идет после @), должны быть заменены на домен pamparam.ru, а с левой стороны должны быть отброшены символы, на которые не должен начинаться почтовый адрес. \n",
    "Список выведите через точку с запятой и пробел."
   ]
  },
  {
   "cell_type": "code",
   "execution_count": 19,
   "id": "10f68dc0",
   "metadata": {},
   "outputs": [],
   "source": [
    "string = '42.petr.petrov@mail.ru'.split('@')[0]"
   ]
  },
  {
   "cell_type": "code",
   "execution_count": 20,
   "id": "076fe06f",
   "metadata": {},
   "outputs": [
    {
     "data": {
      "text/plain": [
       "'42.petr.petrov'"
      ]
     },
     "execution_count": 20,
     "metadata": {},
     "output_type": "execute_result"
    }
   ],
   "source": [
    "string"
   ]
  },
  {
   "cell_type": "code",
   "execution_count": 21,
   "id": "2d2fa151",
   "metadata": {},
   "outputs": [
    {
     "data": {
      "text/plain": [
       "'petr.petrov'"
      ]
     },
     "execution_count": 21,
     "metadata": {},
     "output_type": "execute_result"
    }
   ],
   "source": [
    "string.lstrip('0123456789-_.')"
   ]
  },
  {
   "cell_type": "code",
   "execution_count": 31,
   "id": "d48dbd94",
   "metadata": {},
   "outputs": [
    {
     "name": "stdout",
     "output_type": "stream",
     "text": [
      "0-1in.ianv00@gmail.com; 42.petr.petrov@mail.ru; _1990_olg0a@hse.ru\n",
      "in.ianv00@pamparam.ru; petr.petrov@pamparam.ru; olg0a@pamparam.ru\n"
     ]
    }
   ],
   "source": [
    "emails = input().split('; ')\n",
    "emails2 = []\n",
    "for email in emails:\n",
    "    emails2.append(email.split('@')[0].lstrip('0123456789-_.') + '@pamparam.ru')\n",
    "print(*emails2, sep = '; ')        "
   ]
  },
  {
   "cell_type": "markdown",
   "id": "446920ba",
   "metadata": {},
   "source": [
    "## Тесты\n",
    "Петя решает тесты из контрольно-измерительных материалов и записывает ответы в виде четырехзначного номера вопроса и ответа на него в виде одной заглавной буквы (например, 4578А). Ответы разделяются запятой и пробелом. В конце задачника есть ответы на вопросы, приведенные в виде последовательности заглавных букв. Помогите Пете сравнить, верно ли он решил тест. \n",
    "\n",
    "### ФОРМАТ ВВОДА\n",
    "\n",
    "Список ответов через запятую и пробел. \n",
    "Строка — последовательность заглавных букв латинского алфавита с верными ответами.\n",
    "### ФОРМАТ ВЫВОДА\n",
    "\n",
    "Две строки: \n",
    "\n",
    "\"Ваш ответ: \" и последовательность заглавных букв латинского алфавита. \n",
    "Если тест решен верно, выводится \"Молодец! Все верно\", а если неверно — \"Тест решен неверно, правильный ответ: \" и последовательность заглавных букв латинского алфавита правильного ответа."
   ]
  },
  {
   "cell_type": "code",
   "execution_count": 43,
   "id": "521d3dc6",
   "metadata": {},
   "outputs": [
    {
     "name": "stdout",
     "output_type": "stream",
     "text": [
      "1456A, 7896A, 0000E, 7777A\n",
      "DCAB\n",
      "Ваш ответ: AAEA\n",
      "Тест решен неверно, правильный ответ: DCAB\n"
     ]
    }
   ],
   "source": [
    "anslst = ''.join([x[4] for x in input().split()])\n",
    "rightans = input()\n",
    "print('Ваш ответ:',anslst)\n",
    "if anslst == rightans:\n",
    "    print('Молодец! Все верно')\n",
    "else:\n",
    "    print(f'Тест решен неверно, правильный ответ: {rightans}')"
   ]
  },
  {
   "cell_type": "code",
   "execution_count": 39,
   "id": "db695548",
   "metadata": {},
   "outputs": [
    {
     "data": {
      "text/plain": [
       "'ABCB'"
      ]
     },
     "execution_count": 39,
     "metadata": {},
     "output_type": "execute_result"
    }
   ],
   "source": [
    "anslst"
   ]
  },
  {
   "cell_type": "markdown",
   "id": "6b2cac61",
   "metadata": {},
   "source": [
    "## Спортивный сезон\n",
    "В течение спортивного сезона проводится 5 соревнований, по результатам которых начисляются очки:\n",
    "\n",
    "Если спортсмен выиграл, то начисляется 5 очков рейтинга.\n",
    "Если не выиграл, но вошел в первую тройку — 3 очка.\n",
    "За участие без призового места начисляется 1 очко.\n",
    "Напишите программу, которая по турнирной таблице и фамилии спортсмена считает рейтинг (сумму очков) этого спортсмена. \n",
    "### ФОРМАТ ВВОДА \n",
    "\n",
    "Турнирная таблица — пять строк, в каждой из которых через запятую имена спортсменов в том порядке, какие места они заняли на соответствующем соревновании. \n",
    "После этого вводится еще одна строка — имя спортсмена \n",
    "### ФОРМАТ ВЫВОДА \n",
    "\n",
    "Целое число — рейтинг введенного спортсмена\n",
    "\n",
    "\n",
    "Иванов, Петров, Сидоров, Пупкин, Яблочкин\n",
    "\n",
    "Петров, Яблочкин, Макаров, Смирнов, Кузнецов\n",
    "\n",
    "Петров, Пупкин, Смирнов, Сидоров\n",
    "\n",
    "Иванов, Кузнецов, Пупкин, Макаров\n",
    "\n",
    "Пупкин, Петров, Яблочкин, Сидоров, Смирнов"
   ]
  },
  {
   "cell_type": "code",
   "execution_count": 62,
   "id": "780ec810",
   "metadata": {},
   "outputs": [
    {
     "name": "stdout",
     "output_type": "stream",
     "text": [
      "Иванов, Петров, Сидоров, Пупкин, Яблочкин\n",
      "Петров, Яблочкин, Макаров, Смирнов, Кузнецов\n",
      "Петров, Пупкин, Смирнов, Сидоров\n",
      "Иванов, Кузнецов, Пупкин, Макаров\n",
      "Пупкин, Петров, Яблочкин, Сидоров, Смирнов\n"
     ]
    }
   ],
   "source": [
    "sport_list = []\n",
    "for i in range(5):\n",
    "    sport_list.append(input().split(', '))"
   ]
  },
  {
   "cell_type": "code",
   "execution_count": 63,
   "id": "1b9f0929",
   "metadata": {},
   "outputs": [
    {
     "name": "stdout",
     "output_type": "stream",
     "text": [
      "Пупкин\n"
     ]
    }
   ],
   "source": [
    "sportsman = input()"
   ]
  },
  {
   "cell_type": "code",
   "execution_count": 64,
   "id": "392cb926",
   "metadata": {},
   "outputs": [
    {
     "name": "stdout",
     "output_type": "stream",
     "text": [
      "12\n"
     ]
    }
   ],
   "source": [
    "rating = 0\n",
    "for action in sport_list:\n",
    "    if sportsman in action:\n",
    "        if action.index(sportsman) == 0:\n",
    "            rating += 5\n",
    "        elif action.index(sportsman) <=2:\n",
    "            rating += 3\n",
    "        else: rating += 1\n",
    "print(rating)"
   ]
  },
  {
   "cell_type": "code",
   "execution_count": 65,
   "id": "8eef3508",
   "metadata": {},
   "outputs": [
    {
     "data": {
      "text/plain": [
       "[['Иванов', 'Петров', 'Сидоров', 'Пупкин', 'Яблочкин'],\n",
       " ['Петров', 'Яблочкин', 'Макаров', 'Смирнов', 'Кузнецов'],\n",
       " ['Петров', 'Пупкин', 'Смирнов', 'Сидоров'],\n",
       " ['Иванов', 'Кузнецов', 'Пупкин', 'Макаров'],\n",
       " ['Пупкин', 'Петров', 'Яблочкин', 'Сидоров', 'Смирнов']]"
      ]
     },
     "execution_count": 65,
     "metadata": {},
     "output_type": "execute_result"
    }
   ],
   "source": [
    "sport_list"
   ]
  },
  {
   "cell_type": "code",
   "execution_count": 67,
   "id": "33f69c34",
   "metadata": {},
   "outputs": [
    {
     "name": "stdout",
     "output_type": "stream",
     "text": [
      "маша петя ваня\n",
      "иванова кириллов дебряхин\n",
      "маша иванова\n",
      "петя кириллов\n",
      "ваня дебряхин\n"
     ]
    }
   ],
   "source": [
    "names = input().split()\n",
    "surnames = input().split()\n",
    "for i in range(len(names)):\n",
    "    print(names[i], surnames[i])"
   ]
  },
  {
   "cell_type": "code",
   "execution_count": 68,
   "id": "ae4316d2",
   "metadata": {},
   "outputs": [
    {
     "name": "stdout",
     "output_type": "stream",
     "text": [
      "ghbdtn\n",
      "Все буквы строчные: True\n",
      "Все буквы заглавные: False\n"
     ]
    }
   ],
   "source": [
    "string = input()\n",
    "\n",
    "print(f'Все буквы строчные: {string.islower()}')\n",
    "print(f'Все буквы заглавные: {string.isupper()}')"
   ]
  },
  {
   "cell_type": "code",
   "execution_count": 70,
   "id": "3e697b34",
   "metadata": {},
   "outputs": [
    {
     "name": "stdout",
     "output_type": "stream",
     "text": [
      "22;45;31\n",
      "45\n"
     ]
    }
   ],
   "source": [
    "print(max(list(map(int, input().split(';')))))"
   ]
  },
  {
   "cell_type": "code",
   "execution_count": 134,
   "id": "cfe7a629",
   "metadata": {},
   "outputs": [],
   "source": [
    "def replacer(strings):\n",
    "    for i in range(len(strings)):\n",
    "        strings[i] = strings[i].replace('Ё','Е')\n",
    "        strings[i] = strings[i].replace('ё','е')"
   ]
  },
  {
   "cell_type": "code",
   "execution_count": 135,
   "id": "13fb0b95",
   "metadata": {},
   "outputs": [],
   "source": [
    "strings= ['Ёж', 'зелёный', 'ЕЁ', 'гЁТЬёсЮёёзЪЁЁЙ']"
   ]
  },
  {
   "cell_type": "code",
   "execution_count": 136,
   "id": "17f2b0a4",
   "metadata": {},
   "outputs": [],
   "source": [
    "replacer(strings)"
   ]
  },
  {
   "cell_type": "code",
   "execution_count": 137,
   "id": "049ea735",
   "metadata": {},
   "outputs": [
    {
     "data": {
      "text/plain": [
       "['Еж', 'зеленый', 'ЕЕ', 'гЕТЬесЮеезЪЕЕЙ']"
      ]
     },
     "execution_count": 137,
     "metadata": {},
     "output_type": "execute_result"
    }
   ],
   "source": [
    "strings"
   ]
  },
  {
   "cell_type": "code",
   "execution_count": 140,
   "id": "1a55df57",
   "metadata": {},
   "outputs": [
    {
     "name": "stdout",
     "output_type": "stream",
     "text": [
      "\"На что нужен экипаж в городе, где нет и четырех тысяч жителей? Долой папу! (Дела с Римом запутывались.) Я за Цезаря, и только за Цезаря. И т.д. и т.д.\".\n",
      "НА ЧТО НУЖЕН ЭКИПАЖ В ГОРОДЕ ГДЕ НЕТ И ЧЕТЫРЕХ ТЫСЯЧ ЖИТЕЛЕЙ ДОЛОЙ ПАПУ ДЕЛА С РИМОМ ЗАПУТЫВАЛИСЬ Я ЗА ЦЕЗАРЯ И ТОЛЬКО ЗА ЦЕЗАРЯ И ТД И ТД\n"
     ]
    }
   ],
   "source": [
    "from string import punctuation\n",
    "\n",
    "string = input()\n",
    "for char in punctuation:\n",
    "    string = string.replace(char, '')\n",
    "print(string.upper())"
   ]
  },
  {
   "cell_type": "code",
   "execution_count": 141,
   "id": "ecee7c93",
   "metadata": {},
   "outputs": [],
   "source": [
    "accounts = {'@blogger13999': 2308, '@dragondragon': 1473, '@account': 1400, '@flowers': 1250, '@banana': 1500}\n",
    "min_followers = 1400\n",
    "max_followers = 1500"
   ]
  },
  {
   "cell_type": "code",
   "execution_count": 147,
   "id": "4dabec69",
   "metadata": {},
   "outputs": [],
   "source": [
    "def filter_accounts(accounts, min_followers, max_followers):\n",
    "    acc_lst = []\n",
    "    for k, v in accounts.items():\n",
    "        if min_followers <= v <= max_followers:\n",
    "            acc_lst.append(k)\n",
    "    acc_lst = sorted(acc_lst)\n",
    "    return acc_lst"
   ]
  },
  {
   "cell_type": "code",
   "execution_count": 148,
   "id": "169ded26",
   "metadata": {},
   "outputs": [
    {
     "data": {
      "text/plain": [
       "['@account', '@banana', '@dragondragon']"
      ]
     },
     "execution_count": 148,
     "metadata": {},
     "output_type": "execute_result"
    }
   ],
   "source": [
    "filter_accounts(accounts, min_followers, max_followers)"
   ]
  },
  {
   "cell_type": "code",
   "execution_count": 150,
   "id": "04f850f3",
   "metadata": {},
   "outputs": [
    {
     "name": "stdout",
     "output_type": "stream",
     "text": [
      "4\n",
      "6.283185307179586\n"
     ]
    }
   ],
   "source": [
    "from math import pi\n",
    "RoomSqare = int(input())\n",
    "print((RoomSqare**0.5) * pi)"
   ]
  },
  {
   "cell_type": "code",
   "execution_count": 153,
   "id": "147617c6",
   "metadata": {},
   "outputs": [],
   "source": [
    "def changer(lst, *args):\n",
    "    lst[args[1]] = args[0]"
   ]
  },
  {
   "cell_type": "code",
   "execution_count": 152,
   "id": "b615937f",
   "metadata": {},
   "outputs": [],
   "source": [
    "lst = ['Марат', '20', 'Москва', 'ВШЭ']\n",
    "newname = 'Дима'\n",
    "number = 0"
   ]
  },
  {
   "cell_type": "code",
   "execution_count": 154,
   "id": "e0a98ba3",
   "metadata": {},
   "outputs": [],
   "source": [
    "changer(lst, newname, number)"
   ]
  },
  {
   "cell_type": "code",
   "execution_count": 155,
   "id": "52613c1e",
   "metadata": {},
   "outputs": [
    {
     "data": {
      "text/plain": [
       "['Дима', '20', 'Москва', 'ВШЭ']"
      ]
     },
     "execution_count": 155,
     "metadata": {},
     "output_type": "execute_result"
    }
   ],
   "source": [
    "lst"
   ]
  },
  {
   "cell_type": "code",
   "execution_count": 179,
   "id": "58e180c5",
   "metadata": {},
   "outputs": [],
   "source": [
    "from calendar import weekday\n",
    "\n",
    "def is_birthday_weekend(string, year):\n",
    "    day = int(string[0:2])\n",
    "    month = int(string[3:5])\n",
    "    if weekday(year, month, day) > 4:\n",
    "        return 'Ура, выходной в День рождения!'\n",
    "    else:\n",
    "        return 'В День рождения придется поработать.'"
   ]
  },
  {
   "cell_type": "code",
   "execution_count": 176,
   "id": "c4c7ff45",
   "metadata": {},
   "outputs": [],
   "source": [
    "string = \"'14-11-1995', 2020\""
   ]
  },
  {
   "cell_type": "code",
   "execution_count": 180,
   "id": "42cba234",
   "metadata": {},
   "outputs": [
    {
     "data": {
      "text/plain": [
       "'Ура, выходной в День рождения!'"
      ]
     },
     "execution_count": 180,
     "metadata": {},
     "output_type": "execute_result"
    }
   ],
   "source": [
    "is_birthday_weekend('14-11-1995', 2020)"
   ]
  },
  {
   "cell_type": "code",
   "execution_count": 181,
   "id": "2ee199f1",
   "metadata": {},
   "outputs": [],
   "source": [
    "def multiples_50(summ):\n",
    "    if summ % 50 == 0:\n",
    "        return f'Банкомат может выдать эту сумму'\n",
    "    return f'Банкомат не может выдать эту сумму'"
   ]
  },
  {
   "cell_type": "code",
   "execution_count": 183,
   "id": "84101fd7",
   "metadata": {},
   "outputs": [
    {
     "data": {
      "text/plain": [
       "'Банкомат может выдать эту сумму'"
      ]
     },
     "execution_count": 183,
     "metadata": {},
     "output_type": "execute_result"
    }
   ],
   "source": [
    "multiples_50(16700)"
   ]
  },
  {
   "cell_type": "code",
   "execution_count": 184,
   "id": "06a9775a",
   "metadata": {},
   "outputs": [],
   "source": [
    "goods_lst = ['молоко; молочные продукты', 'помидоры; овощи', 'огурцы; овощи', 'творог; молочные продукты', 'сыр; молочные продукты']"
   ]
  },
  {
   "cell_type": "code",
   "execution_count": 185,
   "id": "cf20c9ae",
   "metadata": {},
   "outputs": [
    {
     "data": {
      "text/plain": [
       "['молоко; молочные продукты',\n",
       " 'помидоры; овощи',\n",
       " 'огурцы; овощи',\n",
       " 'творог; молочные продукты',\n",
       " 'сыр; молочные продукты']"
      ]
     },
     "execution_count": 185,
     "metadata": {},
     "output_type": "execute_result"
    }
   ],
   "source": [
    "goods_lst"
   ]
  },
  {
   "cell_type": "code",
   "execution_count": 189,
   "id": "cf92a390",
   "metadata": {},
   "outputs": [],
   "source": [
    "def group_goods(goods_lst):\n",
    "    goods = {}\n",
    "    for _ in goods_lst:\n",
    "        v, k = _.split('; ')\n",
    "        if k in goods:\n",
    "            goods[k].append(v)\n",
    "        else:\n",
    "            goods[k] = [v]\n",
    "    return goods"
   ]
  },
  {
   "cell_type": "code",
   "execution_count": 190,
   "id": "565f01eb",
   "metadata": {},
   "outputs": [
    {
     "data": {
      "text/plain": [
       "{'молочные продукты': ['молоко', 'творог', 'сыр'],\n",
       " 'овощи': ['помидоры', 'огурцы']}"
      ]
     },
     "execution_count": 190,
     "metadata": {},
     "output_type": "execute_result"
    }
   ],
   "source": [
    "group_goods(goods_lst)"
   ]
  },
  {
   "cell_type": "code",
   "execution_count": 218,
   "id": "6881cf0a",
   "metadata": {},
   "outputs": [],
   "source": [
    "def weather_stat(observations):\n",
    "    return min(observations), max(observations), round((sum([i for i in observations]))/len(observations),4), max(observations) - min(observations)"
   ]
  },
  {
   "cell_type": "code",
   "execution_count": 220,
   "id": "dabafb98",
   "metadata": {},
   "outputs": [
    {
     "data": {
      "text/plain": [
       "(-86.7001, 91.9444, -0.4934, 178.6445)"
      ]
     },
     "execution_count": 220,
     "metadata": {},
     "output_type": "execute_result"
    }
   ],
   "source": [
    "weather_stat([-77.8874, -64.1202, 29.6946, 73.6522, 69.3968, -13.9534, -82.6001, 79.1074, -7.3194, 4.3518, 6.925, -69.4356, -7.127, -31.7698, 49.5321, -67.3312, -76.3036, -37.0821, 78.5122, 78.4804, 38.1691, -53.9157, 25.0968, -5.2388, -86.7001, -41.5536, 83.6603, 91.9444])"
   ]
  }
 ],
 "metadata": {
  "kernelspec": {
   "display_name": "Python 3 (ipykernel)",
   "language": "python",
   "name": "python3"
  },
  "language_info": {
   "codemirror_mode": {
    "name": "ipython",
    "version": 3
   },
   "file_extension": ".py",
   "mimetype": "text/x-python",
   "name": "python",
   "nbconvert_exporter": "python",
   "pygments_lexer": "ipython3",
   "version": "3.11.7"
  }
 },
 "nbformat": 4,
 "nbformat_minor": 5
}
