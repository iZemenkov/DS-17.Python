{
 "cells": [
  {
   "cell_type": "markdown",
   "metadata": {
    "id": "MskMCY_xVRdQ"
   },
   "source": [
    "# Кейс 1. Рулетка \"Кто платит сегодня за ужин?\"\n",
    "\n",
    "Вам нужно написать программу, которая будет выбирать случайное имя из списка имен. Выбранный человек должен будет оплатить общий счет за ужин.\n",
    "\n",
    "**Пример ввода** \\\n",
    "Ангелина, Иван, Михаил, Мария, Элен\n",
    "\n",
    "**Пример вывода** \\\n",
    "Михаил сегодня платит за всех!"
   ]
  },
  {
   "cell_type": "markdown",
   "metadata": {
    "id": "rVSuv5qUV0W3"
   },
   "source": [
    "Нам понадобится рандомизация. Это очень важная концепция, когда мы хотим создавать компьютерные программы, которые имеют определенную степень непредсказуемости. Самая большая категория таких программ - это, конечно же, игры.\n",
    "\n",
    "Есть целая куча математических вычислений, которые можно применить для создания того, что называется \"генераторы псевдослучайных чисел\". Один из них, который использует Python, называется Mersenne Twister. "
   ]
  },
  {
   "cell_type": "markdown",
   "metadata": {
    "id": "_6dNWkY2Ww2t"
   },
   "source": [
    "Для решения этой задачи мы воспользуемся библиотекой **random**. Что такое библиотека? Можно представить ее как папку с готовыми функциями, к которой мы обращаемся за специфическими функциями. Таких папок (библиотек) огромное количество."
   ]
  },
  {
   "cell_type": "code",
   "execution_count": 2,
   "metadata": {
    "colab": {
     "base_uri": "https://localhost:8080/"
    },
    "id": "dZO6V1owVzpi",
    "outputId": "c0355383-b548-48be-dcf8-ddfb7b6f0b94"
   },
   "outputs": [
    {
     "name": "stdout",
     "output_type": "stream",
     "text": [
      "9\n"
     ]
    }
   ],
   "source": [
    "import random # импортируем бибилотеку в эту конкретную тетрадку\n",
    "\n",
    "random_int = random.randint(1, 10) # обращаемся к библиотеке и через точку вызываем оттуда функцию randint()\n",
    "                                   # функция randint(start, stop) выкидывает рандомное число от start до stop включительно\n",
    "print(random_int)"
   ]
  },
  {
   "cell_type": "markdown",
   "metadata": {
    "id": "gfwmiMDGXlFT"
   },
   "source": [
    "Воспользуемся этой функцией и решим наш кейс."
   ]
  },
  {
   "cell_type": "code",
   "execution_count": 6,
   "metadata": {
    "colab": {
     "base_uri": "https://localhost:8080/"
    },
    "id": "f30q_oRvXoFi",
    "outputId": "1dd5e377-f422-44d7-d300-c43fea367370"
   },
   "outputs": [
    {
     "name": "stdout",
     "output_type": "stream",
     "text": [
      "Катя, Игорь, Кристи\n",
      "Кристи\n"
     ]
    }
   ],
   "source": [
    "names = input().split(\", \")\n",
    "\n",
    "# Находим кол-во людей в списке\n",
    "num_items = len(names)\n",
    "\n",
    "# Генерируем рандомное число от 0 до кол-ва людей-1 (почему минус 1?)\n",
    "random_choice = random.randint(0, num_items - 1)\n",
    "\n",
    "# Печатаем рандомное имя\n",
    "print(names[random_choice])"
   ]
  },
  {
   "cell_type": "markdown",
   "metadata": {
    "id": "ljUzrP8uYH_e"
   },
   "source": [
    "# Кейс 2. Камень-ножницы-бумага\n",
    "\n",
    "Напишите игру \"камень, бумага, ножницы\" с компьютером.\n",
    "\n",
    "Для вас уже сохранены в ячейке ASCII-рисунки в переменные rock, paper, scissors. Это позволит легко выводить их в консоль.\n",
    "\n",
    "Начните игру, спросив игрока:\n",
    "\n",
    "\"Что ты выберешь? Введите 0 для камня, 1 для бумаги или 2 для ножниц\".\n",
    "\n",
    "Далее вам нужно разобраться:\n",
    "\n",
    "* Как вы будете хранить вводимые пользователем данные.\n",
    "* Как вы будете генерировать случайный выбор для компьютера.\n",
    "* Как вы будете сравнивать выбор пользователя и компьютера, чтобы определить победителя (или ничью).\n",
    "* Как вы будете давать обратную связь игроку?\n",
    "\n",
    "Официальные правила игры можно найти на сайте [Всемирной ассоциации  игры \"Камень-ножницы-бумага\"](https://wrpsa.com/the-official-rules-of-rock-paper-scissors/).\n"
   ]
  },
  {
   "cell_type": "code",
   "execution_count": 41,
   "metadata": {
    "id": "KLtU_zfRYM0T"
   },
   "outputs": [],
   "source": [
    "def cuefa():\n",
    "    rock = '''\n",
    "        _______\n",
    "    ---'   ____)\n",
    "          (_____)\n",
    "          (_____)\n",
    "          (____)\n",
    "    ---.__(___)\n",
    "    '''\n",
    "\n",
    "    paper = '''\n",
    "        _______\n",
    "    ---'   ____)____\n",
    "              ______)\n",
    "              _______)\n",
    "             _______)\n",
    "    ---.__________)\n",
    "    '''\n",
    "\n",
    "    scissors = '''\n",
    "        _______\n",
    "    ---'   ____)____\n",
    "              ______)\n",
    "           __________)\n",
    "          (____)\n",
    "    ---.__(___)\n",
    "    '''\n",
    "\n",
    "    game_images = [rock, paper, scissors]\n",
    "\n",
    "    user_choise = game_images[int(input(\"Что ты выберешь? Введите 0 для камня, 1 для бумаги или 2 для ножниц\"))]\n",
    "    comp_choise = game_images[random.randint(0, 2)]\n",
    "    print(\"Твой выбор:\")\n",
    "    print(user_choise)\n",
    "    print()\n",
    "    print('Выбор оппонента')\n",
    "    print(comp_choise)\n",
    "\n",
    "    if user_choise == rock:\n",
    "        if comp_choise == paper:\n",
    "            print('You lose')\n",
    "        elif comp_choise == scissors:\n",
    "            print('You win')\n",
    "        else:\n",
    "            cuefa()\n",
    "    elif user_choise == paper:\n",
    "        if comp_choise == scissors:\n",
    "            print('You lose')\n",
    "        elif comp_choise == rock:\n",
    "            print('You win')\n",
    "        else:\n",
    "            print('Ничья, играем снова:')\n",
    "            cuefa()\n",
    "    else:\n",
    "        if comp_choise == rock:\n",
    "            print('You win')\n",
    "        elif comp_choise == paper:\n",
    "            print('You win')\n",
    "        else:\n",
    "            cuefa()"
   ]
  },
  {
   "cell_type": "code",
   "execution_count": 42,
   "metadata": {
    "scrolled": false
   },
   "outputs": [
    {
     "name": "stdout",
     "output_type": "stream",
     "text": [
      "Что ты выберешь? Введите 0 для камня, 1 для бумаги или 2 для ножниц1\n",
      "Твой выбор:\n",
      "\n",
      "        _______\n",
      "    ---'   ____)____\n",
      "              ______)\n",
      "              _______)\n",
      "             _______)\n",
      "    ---.__________)\n",
      "    \n",
      "\n",
      "Выбор оппонента\n",
      "\n",
      "        _______\n",
      "    ---'   ____)____\n",
      "              ______)\n",
      "              _______)\n",
      "             _______)\n",
      "    ---.__________)\n",
      "    \n",
      "Ничья, играем снова:\n",
      "Что ты выберешь? Введите 0 для камня, 1 для бумаги или 2 для ножниц1\n",
      "Твой выбор:\n",
      "\n",
      "        _______\n",
      "    ---'   ____)____\n",
      "              ______)\n",
      "              _______)\n",
      "             _______)\n",
      "    ---.__________)\n",
      "    \n",
      "\n",
      "Выбор оппонента\n",
      "\n",
      "        _______\n",
      "    ---'   ____)____\n",
      "              ______)\n",
      "              _______)\n",
      "             _______)\n",
      "    ---.__________)\n",
      "    \n",
      "Ничья, играем снова:\n",
      "Что ты выберешь? Введите 0 для камня, 1 для бумаги или 2 для ножниц1\n",
      "Твой выбор:\n",
      "\n",
      "        _______\n",
      "    ---'   ____)____\n",
      "              ______)\n",
      "              _______)\n",
      "             _______)\n",
      "    ---.__________)\n",
      "    \n",
      "\n",
      "Выбор оппонента\n",
      "\n",
      "        _______\n",
      "    ---'   ____)____\n",
      "              ______)\n",
      "           __________)\n",
      "          (____)\n",
      "    ---.__(___)\n",
      "    \n",
      "You lose\n"
     ]
    }
   ],
   "source": [
    "cuefa()"
   ]
  },
  {
   "cell_type": "markdown",
   "metadata": {
    "id": "YbTXdzyzaNX7"
   },
   "source": [
    "# Кейс 3. FizzBuzz Game\n",
    "\n",
    "Вам нужно написать программу, которая играет с вами в [FizzBuzz](https://ru.wikipedia.org/wiki/Fizz_buzz) (это групповая детская игра для обучения правилам деления).\n",
    "\n",
    "\n",
    "Вот правила игры FizzBuzz:\n",
    "\n",
    "1. Ваша программа должна поочередно выводить каждое число от 1 до 100 (включительно).\n",
    "\n",
    "2. Если число делится на 3, то вместо числа нужно вывести \"Fizz\".\n",
    "\n",
    "3. Если число делится на 5, то вместо числа нужно вывести \"Buzz\".\n",
    "\n",
    "4. А если число делится и на 3, и на 5, например, 15, то вместо числа следует вывести \"FizzBuzz\".\n",
    "\n",
    "Например:\n",
    "\n",
    "1 \\\n",
    "2 \\\n",
    "Fizz \\\n",
    "4 \\\n",
    "Buzz \\\n",
    "FizzBuzz \\\n",
    "7 \\\n",
    "8 \\\n",
    "Fizz \\\n",
    "Buzz \\\n",
    "11 \\\n",
    "Fizz \\\n",
    "13 \\\n",
    "14 \\\n",
    "FizzBuzz \\\n",
    "и т.д."
   ]
  },
  {
   "cell_type": "code",
   "execution_count": 44,
   "metadata": {
    "id": "j4a67Pfvay4Y"
   },
   "outputs": [
    {
     "name": "stdout",
     "output_type": "stream",
     "text": [
      "1\n",
      "2\n",
      "Fizz\n",
      "4\n",
      "Buzz\n",
      "Fizz\n",
      "7\n",
      "8\n",
      "Fizz\n",
      "Buzz\n",
      "11\n",
      "Fizz\n",
      "13\n",
      "14\n",
      "FizzBuzz\n",
      "16\n",
      "17\n",
      "Fizz\n",
      "19\n",
      "Buzz\n",
      "Fizz\n",
      "22\n",
      "23\n",
      "Fizz\n",
      "Buzz\n",
      "26\n",
      "Fizz\n",
      "28\n",
      "29\n",
      "FizzBuzz\n",
      "31\n",
      "32\n",
      "Fizz\n",
      "34\n",
      "Buzz\n",
      "Fizz\n",
      "37\n",
      "38\n",
      "Fizz\n",
      "Buzz\n",
      "41\n",
      "Fizz\n",
      "43\n",
      "44\n",
      "FizzBuzz\n",
      "46\n",
      "47\n",
      "Fizz\n",
      "49\n",
      "Buzz\n",
      "Fizz\n",
      "52\n",
      "53\n",
      "Fizz\n",
      "Buzz\n",
      "56\n",
      "Fizz\n",
      "58\n",
      "59\n",
      "FizzBuzz\n",
      "61\n",
      "62\n",
      "Fizz\n",
      "64\n",
      "Buzz\n",
      "Fizz\n",
      "67\n",
      "68\n",
      "Fizz\n",
      "Buzz\n",
      "71\n",
      "Fizz\n",
      "73\n",
      "74\n",
      "FizzBuzz\n",
      "76\n",
      "77\n",
      "Fizz\n",
      "79\n",
      "Buzz\n",
      "Fizz\n",
      "82\n",
      "83\n",
      "Fizz\n",
      "Buzz\n",
      "86\n",
      "Fizz\n",
      "88\n",
      "89\n",
      "FizzBuzz\n",
      "91\n",
      "92\n",
      "Fizz\n",
      "94\n",
      "Buzz\n",
      "Fizz\n",
      "97\n",
      "98\n",
      "Fizz\n",
      "Buzz\n"
     ]
    }
   ],
   "source": [
    "for i in range(1,101):\n",
    "    if i % 3 == 0 and i % 5 == 0:\n",
    "        print('FizzBuzz')\n",
    "    elif i % 3 == 0:\n",
    "        print('Fizz')\n",
    "    elif i % 5 == 0:\n",
    "        print('Buzz')\n",
    "    else: print(i)"
   ]
  }
 ],
 "metadata": {
  "colab": {
   "provenance": []
  },
  "kernelspec": {
   "display_name": "Python 3 (ipykernel)",
   "language": "python",
   "name": "python3"
  },
  "language_info": {
   "codemirror_mode": {
    "name": "ipython",
    "version": 3
   },
   "file_extension": ".py",
   "mimetype": "text/x-python",
   "name": "python",
   "nbconvert_exporter": "python",
   "pygments_lexer": "ipython3",
   "version": "3.11.7"
  }
 },
 "nbformat": 4,
 "nbformat_minor": 1
}
