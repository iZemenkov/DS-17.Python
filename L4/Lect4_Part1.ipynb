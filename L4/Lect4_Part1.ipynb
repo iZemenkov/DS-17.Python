{
 "cells": [
  {
   "cell_type": "markdown",
   "metadata": {},
   "source": [
    "Центр непрерывного образования\n",
    "\n",
    "# Программа «Python для автоматизации и анализа данных»"
   ]
  },
  {
   "cell_type": "markdown",
   "metadata": {},
   "source": [
    "## Вспомним строки, списки, кортежи, множества\n",
    "\n",
    "[CheatSheet](https://dfedorov.spb.ru/pandas/cheatsheet/Python_Notes.pdf)"
   ]
  },
  {
   "cell_type": "code",
   "execution_count": 1,
   "metadata": {},
   "outputs": [],
   "source": [
    "a = 'Это какая-то строка для преобразований.'"
   ]
  },
  {
   "cell_type": "code",
   "execution_count": 2,
   "metadata": {},
   "outputs": [
    {
     "name": "stdout",
     "output_type": "stream",
     "text": [
      "['Э', 'т', 'о', ' ', 'к', 'а', 'к', 'а', 'я', '-', 'т', 'о', ' ', 'с', 'т', 'р', 'о', 'к', 'а', ' ', 'д', 'л', 'я', ' ', 'п', 'р', 'е', 'о', 'б', 'р', 'а', 'з', 'о', 'в', 'а', 'н', 'и', 'й', '.']\n"
     ]
    }
   ],
   "source": [
    "print(list(a))"
   ]
  },
  {
   "cell_type": "code",
   "execution_count": 3,
   "metadata": {},
   "outputs": [
    {
     "name": "stdout",
     "output_type": "stream",
     "text": [
      "['Это', 'какая-то', 'строка', 'для', 'преобразований.']\n"
     ]
    }
   ],
   "source": [
    "print(a.split())"
   ]
  },
  {
   "cell_type": "code",
   "execution_count": 4,
   "metadata": {},
   "outputs": [
    {
     "name": "stdout",
     "output_type": "stream",
     "text": [
      "('Э', 'т', 'о', ' ', 'к', 'а', 'к', 'а', 'я', '-', 'т', 'о', ' ', 'с', 'т', 'р', 'о', 'к', 'а', ' ', 'д', 'л', 'я', ' ', 'п', 'р', 'е', 'о', 'б', 'р', 'а', 'з', 'о', 'в', 'а', 'н', 'и', 'й', '.')\n"
     ]
    }
   ],
   "source": [
    "print(tuple(a))"
   ]
  },
  {
   "cell_type": "code",
   "execution_count": 5,
   "metadata": {},
   "outputs": [
    {
     "name": "stdout",
     "output_type": "stream",
     "text": [
      "{'Э', 'л', 'р', 'е', '-', 'и', 'к', 'о', 'з', 'п', 'б', 'д', 'н', 'с', 'а', 'т', 'я', ' ', 'в', '.', 'й'}\n"
     ]
    }
   ],
   "source": [
    "print(set(a))"
   ]
  },
  {
   "cell_type": "code",
   "execution_count": 14,
   "metadata": {},
   "outputs": [
    {
     "data": {
      "text/plain": [
       "{'Это': 1, 'какая-то': 1, 'строка': 1, 'для': 1, 'преобразований.': 1}"
      ]
     },
     "execution_count": 14,
     "metadata": {},
     "output_type": "execute_result"
    }
   ],
   "source": [
    "dict.fromkeys(a.split(),1)"
   ]
  },
  {
   "cell_type": "markdown",
   "metadata": {
    "id": "nkBj5Zg7BkoG"
   },
   "source": [
    "## Словари\n"
   ]
  },
  {
   "cell_type": "markdown",
   "metadata": {
    "id": "VUzAmsF7Bvm6"
   },
   "source": [
    "### Первый способ создать словарь:"
   ]
  },
  {
   "cell_type": "code",
   "execution_count": 15,
   "metadata": {
    "id": "YfmKvrh7B8ms"
   },
   "outputs": [],
   "source": [
    "# Пустой словарь\n",
    "empty_dict = {}\n",
    "# Словарь с двумя парами ключ-значение\n",
    "value_dict = {'cat': 'кошка', 'dog': \"собака\"}"
   ]
  },
  {
   "cell_type": "code",
   "execution_count": 16,
   "metadata": {},
   "outputs": [
    {
     "data": {
      "text/plain": [
       "dict"
      ]
     },
     "execution_count": 16,
     "metadata": {},
     "output_type": "execute_result"
    }
   ],
   "source": [
    "type(value_dict)"
   ]
  },
  {
   "cell_type": "markdown",
   "metadata": {
    "id": "FUrf4uzDCDnm"
   },
   "source": [
    "### Второй способ создать словарь:"
   ]
  },
  {
   "cell_type": "code",
   "execution_count": 17,
   "metadata": {
    "id": "lO8FFoZgBu4n"
   },
   "outputs": [],
   "source": [
    "dct = dict(cat='кошка', dog=\"собака\")"
   ]
  },
  {
   "cell_type": "code",
   "execution_count": 18,
   "metadata": {
    "colab": {
     "base_uri": "https://localhost:8080/"
    },
    "id": "pEeLYtUJBp3C",
    "outputId": "1ebf7033-38dd-49fb-8597-77d3a2823e93"
   },
   "outputs": [
    {
     "data": {
      "text/plain": [
       "{'cat': 'кошка', 'dog': 'собака'}"
      ]
     },
     "execution_count": 18,
     "metadata": {},
     "output_type": "execute_result"
    }
   ],
   "source": [
    "dct"
   ]
  },
  {
   "cell_type": "markdown",
   "metadata": {
    "id": "ATccfIIQCiFh"
   },
   "source": [
    "## Вернуть значение ключа"
   ]
  },
  {
   "cell_type": "code",
   "execution_count": 10,
   "metadata": {
    "colab": {
     "base_uri": "https://localhost:8080/",
     "height": 35
    },
    "id": "MAC8aHOyClgf",
    "outputId": "e311a550-a0f3-44ed-fa07-679628029616"
   },
   "outputs": [
    {
     "data": {
      "text/plain": [
       "'кошка'"
      ]
     },
     "execution_count": 10,
     "metadata": {},
     "output_type": "execute_result"
    }
   ],
   "source": [
    "dct.get(\"cat\")"
   ]
  },
  {
   "cell_type": "markdown",
   "metadata": {
    "id": "aWYMVDjYCyZ2"
   },
   "source": [
    "### Вернуть пары"
   ]
  },
  {
   "cell_type": "code",
   "execution_count": 11,
   "metadata": {
    "colab": {
     "base_uri": "https://localhost:8080/"
    },
    "id": "-ycna0t4C1T-",
    "outputId": "a6435541-81f0-4182-98a9-445a639c4ad6"
   },
   "outputs": [
    {
     "data": {
      "text/plain": [
       "dict_items([('cat', 'кошка'), ('dog', 'собака')])"
      ]
     },
     "execution_count": 11,
     "metadata": {},
     "output_type": "execute_result"
    }
   ],
   "source": [
    "dct.items()"
   ]
  },
  {
   "cell_type": "markdown",
   "metadata": {
    "id": "mRxbeI_7C6jc"
   },
   "source": [
    "### Вернуть ключи"
   ]
  },
  {
   "cell_type": "code",
   "execution_count": 14,
   "metadata": {
    "colab": {
     "base_uri": "https://localhost:8080/"
    },
    "id": "Tmrk0VxRDAOZ",
    "outputId": "e7cab3fa-cc51-4be6-ac21-0adff69a4193"
   },
   "outputs": [
    {
     "data": {
      "text/plain": [
       "dict_keys(['cat', 'dog'])"
      ]
     },
     "execution_count": 14,
     "metadata": {},
     "output_type": "execute_result"
    }
   ],
   "source": [
    "dct.keys()"
   ]
  },
  {
   "cell_type": "markdown",
   "metadata": {
    "id": "-VoZCjzKGkPa"
   },
   "source": [
    "### Вернуть значения"
   ]
  },
  {
   "cell_type": "code",
   "execution_count": 21,
   "metadata": {
    "colab": {
     "base_uri": "https://localhost:8080/"
    },
    "id": "LSSViuD0Gma0",
    "outputId": "17af3e47-cb54-40f2-8b8b-27f8e9abfa95"
   },
   "outputs": [
    {
     "data": {
      "text/plain": [
       "dict_values(['кошка', 'собака'])"
      ]
     },
     "execution_count": 21,
     "metadata": {},
     "output_type": "execute_result"
    }
   ],
   "source": [
    "dct.values()"
   ]
  },
  {
   "cell_type": "code",
   "execution_count": 22,
   "metadata": {
    "colab": {
     "base_uri": "https://localhost:8080/"
    },
    "id": "38aXc_hDGtkP",
    "outputId": "37320fdb-c1de-4cab-bd4d-08d1018d1975"
   },
   "outputs": [
    {
     "name": "stdout",
     "output_type": "stream",
     "text": [
      "яблоко\n",
      "яблоко\n",
      "dict_items([('apple', 'яблоко'), ('pineapple', 'ананас')])\n",
      "dict_keys(['apple', 'pineapple'])\n",
      "{'pineapple': 'ананас'}\n",
      "{'pineapple': 'ананас', 'cherry': 'вишня'}\n"
     ]
    }
   ],
   "source": [
    "# Создать словарь\n",
    "df = dict(apple='яблоко', pineapple=\"ананас\")\n",
    "\n",
    "# Получить значение по ключу\n",
    "print(df['apple'])\n",
    "\n",
    "# Получить значение по ключу\n",
    "print(df.get('apple'))\n",
    "\n",
    "# Получить пары ключ-значение\n",
    "print(df.items())\n",
    "\n",
    "# Получить все ключи в словаре\n",
    "print(df.keys())\n",
    "\n",
    "# Получить значение по ключу, после чего удалить\n",
    "df.pop('apple')\n",
    "print(df)\n",
    "\n",
    "# Добавить новое значение в словарь\n",
    "df['cherry'] = 'вишня'\n",
    "print(df)"
   ]
  },
  {
   "cell_type": "markdown",
   "metadata": {},
   "source": [
    "### Задача\n",
    "\n",
    "Дан словарь с числовыми значениями. Необходимо их все перемножить и вывести на экран результат"
   ]
  },
  {
   "cell_type": "code",
   "execution_count": 1,
   "metadata": {},
   "outputs": [],
   "source": [
    "my_dictionary = {'data1': '375', 'data2': '567.2', 'data3': '-37', \n",
    "                 'data4': '21'}\n",
    "\n",
    "# ваш код"
   ]
  },
  {
   "cell_type": "code",
   "execution_count": 2,
   "metadata": {},
   "outputs": [],
   "source": [
    "b = list(map(float, my_dictionary.values()))"
   ]
  },
  {
   "cell_type": "code",
   "execution_count": 3,
   "metadata": {},
   "outputs": [
    {
     "name": "stdout",
     "output_type": "stream",
     "text": [
      "-37.0\n",
      "926.2\n",
      "231.55\n"
     ]
    }
   ],
   "source": [
    "print(min(b))\n",
    "print(sum(b))\n",
    "print(sum(b)/len(b))"
   ]
  },
  {
   "cell_type": "code",
   "execution_count": 4,
   "metadata": {},
   "outputs": [
    {
     "name": "stdout",
     "output_type": "stream",
     "text": [
      "-165267900\n"
     ]
    }
   ],
   "source": [
    "f = 1\n",
    "for i in b:\n",
    "    f *= i\n",
    "print(round(f))"
   ]
  },
  {
   "cell_type": "code",
   "execution_count": 35,
   "metadata": {},
   "outputs": [
    {
     "name": "stdout",
     "output_type": "stream",
     "text": [
      "Ты, да я, да мы с тобой! Ты, да я, да мы с тобой! Нас не разлучит ничто и никогда. Даже если мы расстаёмся, Дружба всё равно остаётся, Дружба остаётся с нами навсегда.\n",
      "всё, да, даже, если, и, мы, нами, нас, не, с, ты, я\n"
     ]
    }
   ],
   "source": [
    "sentence = input()\n",
    "\n",
    "print(', '.join(sorted(list({_.strip('.,!-*') for _ in sentence.lower().split() if len(_) < 5}))))"
   ]
  },
  {
   "cell_type": "code",
   "execution_count": 21,
   "metadata": {},
   "outputs": [
    {
     "name": "stdout",
     "output_type": "stream",
     "text": [
      "Шла саша ПО шоссе и сосала сушку\n"
     ]
    }
   ],
   "source": [
    "word = input().replace(' ', '').lower()"
   ]
  },
  {
   "cell_type": "code",
   "execution_count": 36,
   "metadata": {},
   "outputs": [
    {
     "data": {
      "text/plain": [
       "'шласашапошоссеисосаласушку'"
      ]
     },
     "execution_count": 36,
     "metadata": {},
     "output_type": "execute_result"
    }
   ],
   "source": [
    "word"
   ]
  },
  {
   "cell_type": "code",
   "execution_count": 38,
   "metadata": {},
   "outputs": [
    {
     "ename": "SyntaxError",
     "evalue": "invalid syntax (445804545.py, line 1)",
     "output_type": "error",
     "traceback": [
      "\u001b[1;36m  Cell \u001b[1;32mIn[38], line 1\u001b[1;36m\u001b[0m\n\u001b[1;33m    {i: 1 if i not in dict else dict[i] += 1 for i in word}\u001b[0m\n\u001b[1;37m                                        ^\u001b[0m\n\u001b[1;31mSyntaxError\u001b[0m\u001b[1;31m:\u001b[0m invalid syntax\n"
     ]
    }
   ],
   "source": [
    "{i: 1 if i not in dict else dict[i] += 1 for i in word}"
   ]
  },
  {
   "cell_type": "code",
   "execution_count": 40,
   "metadata": {},
   "outputs": [
    {
     "ename": "TypeError",
     "evalue": "argument of type 'type' is not iterable",
     "output_type": "error",
     "traceback": [
      "\u001b[1;31m---------------------------------------------------------------------------\u001b[0m",
      "\u001b[1;31mTypeError\u001b[0m                                 Traceback (most recent call last)",
      "Cell \u001b[1;32mIn[40], line 1\u001b[0m\n\u001b[1;32m----> 1\u001b[0m \u001b[38;5;28mdict\u001b[39m \u001b[38;5;241m=\u001b[39m {i: \u001b[38;5;241m1\u001b[39m \u001b[38;5;28;01mfor\u001b[39;00m i \u001b[38;5;129;01min\u001b[39;00m word \u001b[38;5;28;01mif\u001b[39;00m i \u001b[38;5;129;01mnot\u001b[39;00m \u001b[38;5;129;01min\u001b[39;00m \u001b[38;5;28mdict\u001b[39m}\n",
      "Cell \u001b[1;32mIn[40], line 1\u001b[0m, in \u001b[0;36m<dictcomp>\u001b[1;34m(.0)\u001b[0m\n\u001b[1;32m----> 1\u001b[0m \u001b[38;5;28mdict\u001b[39m \u001b[38;5;241m=\u001b[39m {i: \u001b[38;5;241m1\u001b[39m \u001b[38;5;28;01mfor\u001b[39;00m i \u001b[38;5;129;01min\u001b[39;00m word \u001b[38;5;28;01mif\u001b[39;00m i \u001b[38;5;129;01mnot\u001b[39;00m \u001b[38;5;129;01min\u001b[39;00m \u001b[38;5;28mdict\u001b[39m}\n",
      "\u001b[1;31mTypeError\u001b[0m: argument of type 'type' is not iterable"
     ]
    }
   ],
   "source": [
    "{i: 1 for i in word if i not in dict}"
   ]
  }
 ],
 "metadata": {
  "colab": {
   "name": "Лекция6_ИЯиМК.ipynb\"",
   "provenance": []
  },
  "kernelspec": {
   "display_name": "Python 3 (ipykernel)",
   "language": "python",
   "name": "python3"
  },
  "language_info": {
   "codemirror_mode": {
    "name": "ipython",
    "version": 3
   },
   "file_extension": ".py",
   "mimetype": "text/x-python",
   "name": "python",
   "nbconvert_exporter": "python",
   "pygments_lexer": "ipython3",
   "version": "3.11.7"
  }
 },
 "nbformat": 4,
 "nbformat_minor": 1
}
