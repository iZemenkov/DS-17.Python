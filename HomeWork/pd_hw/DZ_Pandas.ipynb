{
 "cells": [
  {
   "cell_type": "markdown",
   "metadata": {},
   "source": [
    "## История олимпийских игр\n",
    "\n",
    "Данные содержат следующие признаки:\n",
    "\n",
    "* ID - Unique number for each athlete\n",
    "* Name - Athlete's name\n",
    "* Sex - M or F\n",
    "* Age - Integer\n",
    "* Height - In centimeters\n",
    "* Weight - In kilograms\n",
    "* Team - Team name\n",
    "* NOC - National Olympic Committee 3-letter code\n",
    "* Games - Year and season\n",
    "* Year - Integer\n",
    "* Season - Summer or Winter\n",
    "* City - Host city\n",
    "* Sport - Sport\n",
    "* Event - Event\n",
    "* Medal - Gold, Silver, Bronze, or NA\n"
   ]
  },
  {
   "cell_type": "code",
   "execution_count": 1,
   "metadata": {},
   "outputs": [],
   "source": [
    "import pandas as pd"
   ]
  },
  {
   "cell_type": "code",
   "execution_count": 2,
   "metadata": {},
   "outputs": [
    {
     "data": {
      "text/html": [
       "<div>\n",
       "<style scoped>\n",
       "    .dataframe tbody tr th:only-of-type {\n",
       "        vertical-align: middle;\n",
       "    }\n",
       "\n",
       "    .dataframe tbody tr th {\n",
       "        vertical-align: top;\n",
       "    }\n",
       "\n",
       "    .dataframe thead th {\n",
       "        text-align: right;\n",
       "    }\n",
       "</style>\n",
       "<table border=\"1\" class=\"dataframe\">\n",
       "  <thead>\n",
       "    <tr style=\"text-align: right;\">\n",
       "      <th></th>\n",
       "      <th>ID</th>\n",
       "      <th>Name</th>\n",
       "      <th>Sex</th>\n",
       "      <th>Age</th>\n",
       "      <th>Height</th>\n",
       "      <th>Weight</th>\n",
       "      <th>Team</th>\n",
       "      <th>NOC</th>\n",
       "      <th>Games</th>\n",
       "      <th>Year</th>\n",
       "      <th>Season</th>\n",
       "      <th>City</th>\n",
       "      <th>Sport</th>\n",
       "      <th>Event</th>\n",
       "      <th>Medal</th>\n",
       "    </tr>\n",
       "  </thead>\n",
       "  <tbody>\n",
       "    <tr>\n",
       "      <th>0</th>\n",
       "      <td>1</td>\n",
       "      <td>A Dijiang</td>\n",
       "      <td>M</td>\n",
       "      <td>24.0</td>\n",
       "      <td>180.0</td>\n",
       "      <td>80.0</td>\n",
       "      <td>China</td>\n",
       "      <td>CHN</td>\n",
       "      <td>1992 Summer</td>\n",
       "      <td>1992</td>\n",
       "      <td>Summer</td>\n",
       "      <td>Barcelona</td>\n",
       "      <td>Basketball</td>\n",
       "      <td>Basketball Men's Basketball</td>\n",
       "      <td>NaN</td>\n",
       "    </tr>\n",
       "    <tr>\n",
       "      <th>1</th>\n",
       "      <td>2</td>\n",
       "      <td>A Lamusi</td>\n",
       "      <td>M</td>\n",
       "      <td>23.0</td>\n",
       "      <td>170.0</td>\n",
       "      <td>60.0</td>\n",
       "      <td>China</td>\n",
       "      <td>CHN</td>\n",
       "      <td>2012 Summer</td>\n",
       "      <td>2012</td>\n",
       "      <td>Summer</td>\n",
       "      <td>London</td>\n",
       "      <td>Judo</td>\n",
       "      <td>Judo Men's Extra-Lightweight</td>\n",
       "      <td>NaN</td>\n",
       "    </tr>\n",
       "    <tr>\n",
       "      <th>2</th>\n",
       "      <td>3</td>\n",
       "      <td>Gunnar Nielsen Aaby</td>\n",
       "      <td>M</td>\n",
       "      <td>24.0</td>\n",
       "      <td>NaN</td>\n",
       "      <td>NaN</td>\n",
       "      <td>Denmark</td>\n",
       "      <td>DEN</td>\n",
       "      <td>1920 Summer</td>\n",
       "      <td>1920</td>\n",
       "      <td>Summer</td>\n",
       "      <td>Antwerpen</td>\n",
       "      <td>Football</td>\n",
       "      <td>Football Men's Football</td>\n",
       "      <td>NaN</td>\n",
       "    </tr>\n",
       "    <tr>\n",
       "      <th>3</th>\n",
       "      <td>4</td>\n",
       "      <td>Edgar Lindenau Aabye</td>\n",
       "      <td>M</td>\n",
       "      <td>34.0</td>\n",
       "      <td>NaN</td>\n",
       "      <td>NaN</td>\n",
       "      <td>Denmark/Sweden</td>\n",
       "      <td>DEN</td>\n",
       "      <td>1900 Summer</td>\n",
       "      <td>1900</td>\n",
       "      <td>Summer</td>\n",
       "      <td>Paris</td>\n",
       "      <td>Tug-Of-War</td>\n",
       "      <td>Tug-Of-War Men's Tug-Of-War</td>\n",
       "      <td>Gold</td>\n",
       "    </tr>\n",
       "    <tr>\n",
       "      <th>4</th>\n",
       "      <td>5</td>\n",
       "      <td>Christine Jacoba Aaftink</td>\n",
       "      <td>F</td>\n",
       "      <td>21.0</td>\n",
       "      <td>185.0</td>\n",
       "      <td>82.0</td>\n",
       "      <td>Netherlands</td>\n",
       "      <td>NED</td>\n",
       "      <td>1988 Winter</td>\n",
       "      <td>1988</td>\n",
       "      <td>Winter</td>\n",
       "      <td>Calgary</td>\n",
       "      <td>Speed Skating</td>\n",
       "      <td>Speed Skating Women's 500 metres</td>\n",
       "      <td>NaN</td>\n",
       "    </tr>\n",
       "  </tbody>\n",
       "</table>\n",
       "</div>"
      ],
      "text/plain": [
       "   ID                      Name Sex   Age  Height  Weight            Team  \\\n",
       "0   1                 A Dijiang   M  24.0   180.0    80.0           China   \n",
       "1   2                  A Lamusi   M  23.0   170.0    60.0           China   \n",
       "2   3       Gunnar Nielsen Aaby   M  24.0     NaN     NaN         Denmark   \n",
       "3   4      Edgar Lindenau Aabye   M  34.0     NaN     NaN  Denmark/Sweden   \n",
       "4   5  Christine Jacoba Aaftink   F  21.0   185.0    82.0     Netherlands   \n",
       "\n",
       "   NOC        Games  Year  Season       City          Sport  \\\n",
       "0  CHN  1992 Summer  1992  Summer  Barcelona     Basketball   \n",
       "1  CHN  2012 Summer  2012  Summer     London           Judo   \n",
       "2  DEN  1920 Summer  1920  Summer  Antwerpen       Football   \n",
       "3  DEN  1900 Summer  1900  Summer      Paris     Tug-Of-War   \n",
       "4  NED  1988 Winter  1988  Winter    Calgary  Speed Skating   \n",
       "\n",
       "                              Event Medal  \n",
       "0       Basketball Men's Basketball   NaN  \n",
       "1      Judo Men's Extra-Lightweight   NaN  \n",
       "2           Football Men's Football   NaN  \n",
       "3       Tug-Of-War Men's Tug-Of-War  Gold  \n",
       "4  Speed Skating Women's 500 metres   NaN  "
      ]
     },
     "execution_count": 2,
     "metadata": {},
     "output_type": "execute_result"
    }
   ],
   "source": [
    "data = pd.read_csv('athlete_events.csv')\n",
    "data.head()"
   ]
  },
  {
   "cell_type": "markdown",
   "metadata": {},
   "source": [
    "**1. Сколько лет было самым молодым участникам (мужчина и женщина) олимпийских игр в 1992 году?**\n"
   ]
  },
  {
   "cell_type": "code",
   "execution_count": 3,
   "metadata": {},
   "outputs": [
    {
     "name": "stdout",
     "output_type": "stream",
     "text": [
      "Самый молодой участник женского пола в 1992 году: Carlos Bienvenido Front Barrera, его возраст: 11.0 лет\n",
      "Самый молодой участник женского пола в 1992 году: Judit Kiss, её возраст: 12.0 лет\n"
     ]
    }
   ],
   "source": [
    "min92MaleAge = data[(data.Year == 1992) & (data.Sex == 'M')].Age.min() # сохраняем возраст младшего участника мужского пола\n",
    "youngestMale = list(data[(data.Year == 1992) & (data.Sex == 'M') & (data.Age == min92MaleAge)].Name)[0] # Находим имя младшего участника мужского пола\n",
    "min92FemaleAge = data[(data.Year == 1992) & (data.Sex == 'F')].Age.min() # сохраняем возраст младшего участника женского пола\n",
    "youngestFemale = list(data[(data.Year == 1992) & (data.Sex == 'F') & (data.Age == min92FemaleAge)].Name)[0] # Находим имя младшего участника женского пола\n",
    "\n",
    "# выводим результат для обоих полов:\n",
    "print(f'Самый молодой участник женского пола в 1992 году: {youngestMale}, его возраст: {min92MaleAge} лет')\n",
    "print(f'Самый молодой участник женского пола в 1992 году: {youngestFemale}, её возраст: {min92FemaleAge} лет')"
   ]
  },
  {
   "cell_type": "markdown",
   "metadata": {},
   "source": [
    "__2. Найдите среднее для роста теннисисток (большой теннис), которые участвовали в играх 2000 года.__"
   ]
  },
  {
   "cell_type": "code",
   "execution_count": 4,
   "metadata": {},
   "outputs": [
    {
     "data": {
      "text/plain": [
       "array(['Basketball', 'Judo', 'Football', 'Tug-Of-War', 'Speed Skating',\n",
       "       'Cross Country Skiing', 'Athletics', 'Ice Hockey', 'Swimming',\n",
       "       'Badminton', 'Sailing', 'Biathlon', 'Gymnastics',\n",
       "       'Art Competitions', 'Alpine Skiing', 'Handball', 'Weightlifting',\n",
       "       'Wrestling', 'Luge', 'Water Polo', 'Hockey', 'Rowing', 'Bobsleigh',\n",
       "       'Fencing', 'Equestrianism', 'Shooting', 'Boxing', 'Taekwondo',\n",
       "       'Cycling', 'Diving', 'Canoeing', 'Tennis', 'Modern Pentathlon',\n",
       "       'Figure Skating', 'Golf', 'Softball', 'Archery', 'Volleyball',\n",
       "       'Synchronized Swimming', 'Table Tennis', 'Nordic Combined',\n",
       "       'Baseball', 'Rhythmic Gymnastics', 'Freestyle Skiing',\n",
       "       'Rugby Sevens', 'Trampolining', 'Beach Volleyball', 'Triathlon',\n",
       "       'Ski Jumping', 'Curling', 'Snowboarding', 'Rugby',\n",
       "       'Short Track Speed Skating', 'Skeleton', 'Lacrosse', 'Polo',\n",
       "       'Cricket', 'Racquets', 'Motorboating', 'Military Ski Patrol',\n",
       "       'Croquet', 'Jeu De Paume', 'Roque', 'Alpinism', 'Basque Pelota',\n",
       "       'Aeronautics'], dtype=object)"
      ]
     },
     "execution_count": 4,
     "metadata": {},
     "output_type": "execute_result"
    }
   ],
   "source": [
    "data.Sport.unique() # определяем искомый вид спорта: 'Tennis'"
   ]
  },
  {
   "cell_type": "code",
   "execution_count": 5,
   "metadata": {},
   "outputs": [
    {
     "name": "stdout",
     "output_type": "stream",
     "text": [
      "Средний рост теннисисток в 2000 году составил: 171.8 см.\n"
     ]
    }
   ],
   "source": [
    "meanFemHeight2000 = data[(data.Sport == 'Tennis') & (data.Year == 2000) & (data.Sex == 'F')].Height.mean() # Находим значение и сохраняем в переменную\n",
    "print(f'Средний рост теннисисток в 2000 году составил: {round(meanFemHeight2000,1)} см.')"
   ]
  },
  {
   "cell_type": "markdown",
   "metadata": {},
   "source": [
    "__3. Выведите названия всех уникальных дисциплин, связанных с катанием на коньках (Skating). Посчитайте их количество__ "
   ]
  },
  {
   "cell_type": "code",
   "execution_count": 6,
   "metadata": {},
   "outputs": [
    {
     "name": "stdout",
     "output_type": "stream",
     "text": [
      "Дисциплины, связанные с катанием на коньках:\n",
      "1. Figure Skating\n",
      "2. Short Track Speed Skating\n",
      "3. Speed Skating\n",
      "Всего дисциплин, связанных с катанием на коньках: 3\n"
     ]
    }
   ],
   "source": [
    "cnt = 0\n",
    "print('Дисциплины, связанные с катанием на коньках:')\n",
    "counter = 1\n",
    "for _ in sorted(list(data.Sport.unique())):\n",
    "    if 'Skating' in _:\n",
    "        print(f'{counter}. {_}')\n",
    "        cnt += 1\n",
    "        counter += 1\n",
    "print(f'Всего дисциплин, связанных с катанием на коньках: {cnt}')"
   ]
  },
  {
   "cell_type": "markdown",
   "metadata": {},
   "source": [
    "__4. Выведите всех спортсменов, которые завоевали серебрянные медали в Париже. Посчитайте их количество__ "
   ]
  },
  {
   "cell_type": "code",
   "execution_count": 7,
   "metadata": {
    "scrolled": true
   },
   "outputs": [
    {
     "name": "stdout",
     "output_type": "stream",
     "text": [
      "Серебрянных медалистов Парижа: 509\n",
      "\n",
      "Их полный список:\n",
      "Max \"Xam\" Abegglen, Harold Maurice Abrahams, Anselm Ahlfors, Franz Aigner, Auguste Albert, Cyril Albert Alden, Richard Louis Pierre Allemane, Franz Albert Amrhein, William Wallace Anderson, Paul Eugne Albert Anspach, Ren Araou, Archenoul, Sidney James Montford \"Sid\" Atkinson, William Dunbar \"Willie\" Attrill, Louis Dsir Bach, Florence Barker, Thomas William Barnes, Franois \"Nol\" Bas, Denis Raymond Basset, Jacques Baudrier, Irving Knott \"Irv\" Baxter, Irving Knott \"Irv\" Baxter, Irving Knott \"Irv\" Baxter, Honor Jean Bayard, Francis Charles \"Frank\" Bayliss, George Beattie, Dsir Beaurain, Francis Joseph Edmund \"Frank\" De Beaurepaire, Elizabeth Anna \"Betty\" Becker-Pinkston (-Campbell), Flix Bdouret, Louis Bguet, Jean-Baptiste Andr Bhotguy, Arthur Armstrong Bell, Charles Bennett, Marcel Louis Berr, Lszl Berti (Berty), Romeo Bertini, J. Bertrand, Hugo Adolf Betting, Alexandre Jacques Joseph Baptiste Henri \"Alex\" Bioussa, John Henry Birtles, Archibald Campbell \"Archie\" Black, John Hutchison Black, Grard Blitz, Jr., Maurice Jean Blitz, Alfred Bloch, Elmer Julius Boeseke, Jr., tienne Bonnes, Verne Hobson Booth, Claes Arne Borg, Claes Arne Borg, Gilbert Bougnol, Adolphe Ren Bousquet, J. Braid, Hermanus Gerardus Brockmann, Leroy Taylor Brown, W. Browning, Prospre Bruggeman, Jacques Marie Stanislas Jean Brugnon, Luis ngel Brunetto, Walter Selby Buckmaster, Hans Ulrich Eduard Bhler, Bror Erik Bylhn, Victor Antoine Jules Cadet, John Selwin Calverley, Ivor M. Campbell, Fernand mile Canelle, James Cantion, Gustaf Vilhelm Carlberg, Laurent Aim Cassayet-Armagnac, Andr Castanet, Philippe Louis Eugne Cattiau, mile Julien Champion, Albert Alphonse Champoudry, Jean-Baptiste tienne August Charcot, Jean-Baptiste tienne August Charcot, Andrew Murray \"Boy\" Charlton, Jean Chastani, Maurice Froomes \"Moss\" Christie, Arthur T. Clark, Joseph Cludts, Henri Jean Cochet, Henri Jean Cochet, Henri Cohen, Paul Ren Colas, Meredith Bright Colket, Jean Collas, James Brendan Bennet Connolly, Eugne Louis Constant, Alfredo Copello, Eugne Louis Auguste Cordonnier, Albert Courquin, Phyllis Lindrea Covell (Howkins-), Charles Jean Albert Marie Edmond Crahay, John Francis Cregan, Arthur John Lovett Darby, Gladys Mary Davis, Jean De Backer, Victor De Behr, Jules Maria Adolphe Henri De Bisschop, Oscar De Cock, Joseph De Combe, Joseph De Combe, Joseph Ghislain Henri Maria De Craecker, Basil Spalding de Garmendia, Jean Pierre Marie Joseph  De Madre De Loos, Fernand Alphonse Marie Frdric de Montigny, Fernand Alphonse Marie Frdric de Montigny, Bernard Alexandre Georges Edmond de Pourtals, Hlne de Pourtals (Barbey-), Hermann Alexandre de Pourtals, Albert Louis De Roocker, Oscar Charles de Somville, Jean lie Louis Octave Guillaume Svre Amanieu Decazes et de Glucksbierg, Maxime Omer Mathieu \"Max\" Omer-Dcugis, Knud Oluf Jessen Degn, Henry Lon mile Deloge, Henry Lon mile Deloge, Charles Jules Delporte, Lon Delsarte, Ulise Joseph \"Pete\" Desjardins, Marc Pierre Detton, Pierre Dewin, Clement Pemberton Deykin, Walter Dietrich, Marcus Walthall Dinwiddie, Jacques Doucet, Jacques Doucet, Druart, Jr., A. Dubois, J. Dubois, Roger Franois Ducret, Roger Franois Ducret, Karl Duill, R. Duparc, Clment Dupont, Albert Dupouy, Albert Paul Durant, Louis Charles Marie Dutfoy, Albert Duval, Gustaf Peder Wilhelm Dyrssen, Karl Ehrenbolger, John \"Jack\" Elliott, Nils Erik Engdahl, Jean Etcheberry, August Oliver \"Gus\" Fager (Fagerstrm-), David Athelstane \"Dave\" Fall, Paul Fssler, Fernand Feyaerts, Colin Herbert Bain Finlayson, Horatio May Fitch, Georges Fleurix, Ramn Fonst Segundo, Harold Gordon Fowler, Maurice Eugne Fraysse, Frederick Charles Maitland \"Freddie\" Freake, Olaf Emil Frydenlund, Ren Paul Virgile Gaillard, Paul Gailly, Henri Galau, Franois Lucien Gangloff, Franois Lucien Gangloff, Jnos Garay, Georges Garnier, Charles Andr Gaudin, Alphonse Gemuseus, Agnes Geraghty (-McAndrews), Gilbert Antonin Jules Claude Marie Grints, Ernest Jules Henri Jean Marie Gevers, William Evans Garrett Gilmore, Victor Auguste Godinet, Victor Auguste Godinet, Charles Marius Duma Adolphe Gondouin, Gordon Reginald Goodwin, Raoul Got, Jean Honor  Gounot, Jean Honor  Gounot, Edward Orval \"Ned\" Gourdin, Glenn Graham, Ren Grandjean, John Joseph Gray, Oscar Grgoire, Jr., Louis Auguste Gressier, Henri Napolon Marie Maurice Gufflet, Robert Gufflet, Charles Guiraist, Jean Gutweniger, Jean Gutweniger, Ren Guyot, Gustaf Wilhelm Hagelin, Alfrd (Arnold-) Hajs (Guttmann-), Edmund Carl Marius Mller Hansen, Willy Falck Hansen, Phyllis May Harding (-Turner), Pierre douard Hardy, Thomas Truxtun Hare, Samuel Glenn Hartranft, Franois Frantz Heldenstein, Henri Hyacinthe Helle, Maurice Constant Maria Hemelsoet, James P. \"Jimmy\" Henigan, Francis Henriquez de Zubira, George Ernest Morrison Henry, Arthur Alfred Hermann, Jacob Hermann, Helmer Hermansen, Coenraad Christiaan Hiebendaal, Alphonse Higelin (Hglin-), Lloyd Augustin Biden Hildebrand, Thomas \"Tommy\" Hitchcock, Jr., Maurice Louis Hochepied, Victor Fernand Hochepied, Henri \"Rik\" Hoevenaers, Henri \"Rik\" Hoevenaers, Willy Hofmeister, William Joseph \"Bill\" Holland, L. Hood, Christoffel \"Chris\" Hooijkaas, Robert Horne, Franois Joseph Huber (Hber-), Konrad Walentin \"Konni\" Huber, Charles Hugo, Otto Ferdinand Hultberg, Friedrich \"Fritz\" Hnenberger, Robert Sinclair \"Bob\" Hunter, Lucien Paul Nol Huteau, Edwin Ellis Jacob, Frantiek Janda-Suk, Carl Johan Erik Jansson, Adolphe Jaurguy, Constance Mabel \"Connie\" Jeans, Marion Hall Jessup (Zinderstein-, -MacLure), Gustaf Mauritz Johansson (-Fritzing), Georges douard Johin, Robert Earl Johnson, Herbert Arthur \"Bert\" Johnston, Timothe Jordan, Duke Paoa Kahino Makoe Hulikohoa Kahanamoku, Elias Katz, Emil Kellenberger, Lajos Keresztes, Simon Alphonse Kirchhoffer, Frode Rasmussen Kirkebjerg, Clas Henrik Magnus Knig, Jan Koutn, Edmond Kramer III, Hermann Kreuzer, Marcel Lambert, Per Fredric Landelius, William Arnold Landvoigt, Jzef Lange, William Frederick Langford, Flix \"Ren\" Lasserre, Hans Latscha, Dezs Lauber, Jan azarski, Gabriel Charles Jean Le Bret, Patrick Joseph \"Pat\" Leahy, Georges Marcel Lecointe, Maurice Marie Lecoq, Eino Aukusti Leino, Marcel Pierre Lepan, Tommaso Lequio di Assaba, Carl Gustaf Moritz Thure Lewenhaupt, Einar Liberg, Ole Andreas Lilloe-Olsen, Arthur Richard Lindfors, Nils Gunnar Lindstrm, Robert Linzeler, Robert Linzeler, Harold Boyd Little, M. L. Logan, Gerhard Oswald \"Geert\" Lotsij, Paulus Jan \"Paul\" Lotsij, Herbert Arthur Loveitt, Marcel-Frdric Lubin-Lebrre, Erich Ludwig, Richard Ludwig, Georges Joseph Lumpp, Maurice Macaire, Bertram Hector \"Bert\" Macdonald, Arthur MacEvoy, George Findlay Aberach MacKay, Cyril Winthrop Mackworth-Praed, Cyril Winthrop Mackworth-Praed, Harold Segerson Mahony, Harold Segerson Mahony, Kaarlo Edvin Mkinen, Flix mile Marcotte, Paul-Ren Martin, Charles William Martin, Lucien Martinet, Eugne Henri Masson, Josiah Calvin McCracken, Jr., Walter Adolph McCreery, Matthew John \"Matt\" McGrath, Kathleen \"Kitty\" McKane (-Godfree), Grace McKenzie (-Nelson, -Morgan), James McKenzie, John Frederick McLean, Jacob \"Jaap\" Meijer, Hctor Eugene Mndez, Adolfo \"Adolphe\" Mengotti Arniz, Marcel Meran, Mathias Joseph Ferdinand Jules Henri Mialaret, Mathias Joseph Ferdinand Jules Henri Mialaret, Albert Michant, Camille mile Gaston Michelet, Maurice Paul Ren Monney-Bouton, Robert James Montgomery, Lon Ernest Moreaux, Fritz Mller, Harald Natvig, Georg Naue, Alfred Karl Neuland (Neiland-), Chester Willard \"Chet\" Newton, Samuel Robert Newton, Wilfred Paulin Nichol, Herbert Saint John Nicol, Anders Peter Nielsen, Anders Peter Nielsen, Anders Peter Nielsen, Christian Sren Nielsen, Vilho Aleksander Niittymaa, Emerson Carlysle Norton, August Oberhauser, Frank Olof Odberg, Ercole Olgeni, Pierre Ollivier, Otto Martin Olsen, Carl Townsend Osburn, Ole stmo, Ole stmo, Robert Pache, Charles William \"Charley\" Paddock, Alphonse Parfondry, Nicolas Achille Paroche, Nicolas Achille Paroche, Gaston Peltier, Louis Lonce Thophile Perre, Charles Jean Baptiste Perrin, Heinrich Peters, Josef Petersen, Sren Peter Petersen, Thyge Alexander Petersen, Georges Piot, tienne Piquiral, Joseph Pletinckx, Aron Pollitz, Eduard Poppe, Walter Harold Porter, Sndor Psta, Robert Prak, Robert Prak, Robert Prak, Yvonne Prvost (-Boppe), Yvonne Prvost (-Boppe), Meyer Prinstein, Norman Gilbert Pritchard (-Trevor), Norman Gilbert Pritchard (-Trevor), Hans Pulver, Jzsef Rdy, Adolphe Gaston Ragueneau, Rudolf Ramseyer, Walter Rangeley, Heinrich Reitz, Adolphe Reymond, Vincent \"Vinnie\" Richards, Aileen Muriel Riggin (-Soule), Thomas Cooper Riggs, Walter Riggs, Viljo Eino \"Ville\" Ritola (Koukkari-), Viljo Eino \"Ville\" Ritola (Koukkari-), Henrik Duntzfeldt Robert, Douglas Francis Robinson, Sidney John Robinson, Fred Roe, Sr., Georges Charles Roes, Louis Joseph Roffo, Georges Romas, Ernest John Roney, H. F. Roques, Edil Albert Rosenqvist, Lancelot Carrington \"Lance\" Royle, Karl August Ruberl, Paul Joseph mile Rumeau, Walter Mathers Rutherford, Fernand Dieudonn Coussaint Julien Saiv, Joseph \"Joe\" Salas, Karl Bertil Sandstrm, Italo Santelli, Fernando \"Fernand\" Sanz y Martinez de Arizala, mile Pierre Sarrade, Ole Andreas Sther, Giovanni Scatturin, Wilhelm \"Willy\" Schrer, Zoltn Schenker (Ozoray), Paul Schmiedlin, August Friedrich Christian Schmierer, Alfred John Schneidau, Jackson Volney Scholz, William Raymond Seagrove, Tom Seeberg, Albert Sguin, Albert Sguin, Guillaume Sron, Auguste Serrurier, Auguste Serrurier, Andr Jules Henri Six, John David \"Jack\" Smith, V. Smith, Henricus Petrus Augustinus Johannes \"Henri\" Smulders, Warren Bertram Snyder, Elemr Somfay (Stromfeld-), Victor Jean Marie Sonnemans, Gino Sopracordevole, Ovide Daniel Louis Henri Soubeyran, Andreas Stadler, Tomasz Stankiewicz, Ivan Cuthbert Stedman, Jean-Pierre Stock, Adolf Stockhausen, Dorothy Margaret Stuart Browne, Werner Mortimer Stuber, Arthur Addison \"Art\" Studenroth, Paul Sturzenegger, Henri Lon Victor Susse, Henri Lon Victor Susse, Artur Hjalmar Slve Svensson, Johan Rudolf Svensson, Johan Rudolf Svensson, Alfred Gomer Albert \"Alf\" Swahn, Carl Torsten Leopold Sylvan, Lszl Szchy, Franciszek Ksawery Szymczyk, M. W. Talbott, Raymond mile Julien Talleux, Iris Vera Tanner (-Murrell, -Curran), Henri Alexis Tauzin, Norman William Taylor, Henry John Terry, Jr., Johannes Hester Lambertus Terwogt, Walter Beardsley Tewksbury, Walter Beardsley Tewksbury, Texier I, Texier I, Texier II, Texier II, Victor Thibault, Victor Thibault, Lon Thibaut, Jules Thiry, Lon Thome, Aleksanteri Toivola, Lon Tom, Philip Humphreys Tomalin, Jules Cyrus Angelle Trinit, Salvatore Peter \"Al\" Tripoli, Giovanni Giorgio \"Giangiorgio\" Trissino, Jen Uhlyrik, A. R. Upton, Henri Jules Valton, Marcel Lucien Charles Van Crombrugge, Maurice E. Van Damme, Jean Van Den Bosch, Georges Van Der Poele, Arie van der Velden, Gerard Theodor Hubert Van Innis, Gerard Theodor Hubert Van Innis, Alfred Van Landeghem, Samuel Goodwin \"Sam\" Vance, Jean mile Vaysse, Jules Louis Verbecke (Gaillard-), Maurice Justin Verdonck, Jean-Pierre Vermetten, Vilhelm Vett, Maurice Marie Joseph Vignerot, Franois Antoine Vilamitjana (Caubet-), Pnlope Julie Vlasto (-Serpieri), Henri Raoul Marie von der Weid, Zoltn Imre dn von Halmay, Zoltn Imre dn von Halmay, dn von Tersztynszky, Otto Wahle, Otto Wahle, Helen E. Wainwright (-Stelling), Maxime Ren Waleff, William Lawrence \"Laurie\" Wallace, Joseph Godfrey Wallis, Rodman Lewis \"Rod\" Wanamaker, George Joseph Webber, mile Robert Wegelin, Mariechen M. Wehselau (-Jackson), Ottokar Weise, Carl Gustaf Olof Wejnarth, Georg Wenderoth, Henri Wernli, Pauline \"Polly\" Whittier (-Iselin), Claud Whittindale, Raymond Whittindale, Emil Edvin Wide (Hermansson-), Paul Wiesner, Volmar Valdemar Wikstrm, Erik Wilhelm \"Erkka\" Wiln, Frank Henry Wilson, William \"Bill\" Wood, Paul H. (-Paul Knuth) Wyatt, Jack Butler Yeats, Anton Zwerina\n"
     ]
    }
   ],
   "source": [
    "ParisSilverLst = list(data[(data.City == 'Paris') & (data.Medal == 'Silver')].Name)\n",
    "print(f'Серебрянных медалистов Парижа: {len(ParisSilverLst)}')\n",
    "print('\\nИх полный список:')\n",
    "print(*ParisSilverLst, sep = ', ')"
   ]
  },
  {
   "cell_type": "markdown",
   "metadata": {},
   "source": [
    "__5. Найдите самую легкую (по весу) атлетку игр 2006 года. В каком виде спорта она участвовала?__\n"
   ]
  },
  {
   "cell_type": "code",
   "execution_count": 8,
   "metadata": {},
   "outputs": [],
   "source": [
    "lightweight = data[(data.Year == 2006) & (data.Sex == 'F') & (data.Weight == data[(data.Year == 2006) & (data.Sex == 'F')].Weight.min())][['Weight','Name', 'Sport']]"
   ]
  },
  {
   "cell_type": "code",
   "execution_count": 9,
   "metadata": {},
   "outputs": [
    {
     "name": "stdout",
     "output_type": "stream",
     "text": [
      "Самая легкая спортсменка 2006 года: Phyo Yong-Myong\n",
      "Её вес: 38 кг\n",
      "Она выступала в следующем виде спорта: Figure Skating\n"
     ]
    }
   ],
   "source": [
    "print(f'Самая легкая спортсменка 2006 года: {lightweight[\"Name\"].values[0]}')\n",
    "print(f'Её вес: {int(lightweight[\"Weight\"].values[0])} кг')\n",
    "print(f'Она выступала в следующем виде спорта: {lightweight[\"Sport\"].values[0]}')"
   ]
  },
  {
   "cell_type": "markdown",
   "metadata": {},
   "source": [
    "__6. В скольких олимпиадах принимал участие John Aalberg?__"
   ]
  },
  {
   "cell_type": "code",
   "execution_count": 10,
   "metadata": {},
   "outputs": [
    {
     "name": "stdout",
     "output_type": "stream",
     "text": [
      "John Aalberg принимал участик в 2 Олимпиадах: 1992 Winter, 1994 Winter."
     ]
    }
   ],
   "source": [
    "print(f\"John Aalberg принимал участик в {int(data[data['Name'] == 'John Aalberg'].Games.nunique())} Олимпиадах: {', '.join(list(data[data['Name'] == 'John Aalberg'].Games.unique()))}\", end = '.')"
   ]
  },
  {
   "cell_type": "markdown",
   "metadata": {},
   "source": [
    "__7. Сколько золотых медалей настольном теннисе выиграл Китай на Олимпиаде в 2008 году?__"
   ]
  },
  {
   "cell_type": "code",
   "execution_count": 11,
   "metadata": {},
   "outputs": [
    {
     "name": "stdout",
     "output_type": "stream",
     "text": [
      "В 2008 году Китай выйграл в настольном теннисе 8 золотых медалей\n"
     ]
    }
   ],
   "source": [
    "print(\"В 2008 году Китай выйграл в настольном теннисе\",data[(data.Team == 'China') & (data.Year == 2008) & (data.Medal == 'Gold') & (data.Sport == 'Table Tennis')].shape[0],'золотых медалей')"
   ]
  },
  {
   "cell_type": "markdown",
   "metadata": {},
   "source": [
    "__8. Правда ли, что Испания выиграла меньше медалей чем Италия на играх 2016 года? Не учитывайте NaN в колонке _Medal_.__\n"
   ]
  },
  {
   "cell_type": "code",
   "execution_count": 12,
   "metadata": {},
   "outputs": [
    {
     "name": "stdout",
     "output_type": "stream",
     "text": [
      "Да, это правда, что Испания выиграла меньше медалей чем Италия на играх 2016 года\n"
     ]
    }
   ],
   "source": [
    "spainMedals = data[(data['Team'] == 'Spain') & (data['Year'] == 2016)].Medal.count()\n",
    "itMedals = data[(data['Team'] == 'Italy') & (data['Year'] == 2016)].Medal.count()\n",
    "if spainMedals < itMedals:\n",
    "    print('Да, это правда, что Испания выиграла меньше медалей чем Италия на играх 2016 года')\n",
    "else:\n",
    "    print('Неправда')"
   ]
  },
  {
   "cell_type": "markdown",
   "metadata": {},
   "source": [
    "__9. Какая страна завоевала больше всех медалей в Figure Skating за всю историю?__"
   ]
  },
  {
   "cell_type": "code",
   "execution_count": 44,
   "metadata": {},
   "outputs": [
    {
     "data": {
      "text/html": [
       "<div>\n",
       "<style scoped>\n",
       "    .dataframe tbody tr th:only-of-type {\n",
       "        vertical-align: middle;\n",
       "    }\n",
       "\n",
       "    .dataframe tbody tr th {\n",
       "        vertical-align: top;\n",
       "    }\n",
       "\n",
       "    .dataframe thead th {\n",
       "        text-align: right;\n",
       "    }\n",
       "</style>\n",
       "<table border=\"1\" class=\"dataframe\">\n",
       "  <thead>\n",
       "    <tr style=\"text-align: right;\">\n",
       "      <th></th>\n",
       "      <th>Medal</th>\n",
       "    </tr>\n",
       "    <tr>\n",
       "      <th>Team</th>\n",
       "      <th></th>\n",
       "    </tr>\n",
       "  </thead>\n",
       "  <tbody>\n",
       "    <tr>\n",
       "      <th>United States</th>\n",
       "      <td>46</td>\n",
       "    </tr>\n",
       "  </tbody>\n",
       "</table>\n",
       "</div>"
      ],
      "text/plain": [
       "               Medal\n",
       "Team                \n",
       "United States     46"
      ]
     },
     "execution_count": 44,
     "metadata": {},
     "output_type": "execute_result"
    }
   ],
   "source": [
    "data[(data.Sport == 'Figure Skating') & (data.Medal.notnull())].groupby('Team').count()[['Medal']].sort_values(by='Medal',ascending=False).head(1)"
   ]
  },
  {
   "cell_type": "markdown",
   "metadata": {},
   "source": [
    "### Наблюдение по заданию 9"
   ]
  },
  {
   "cell_type": "markdown",
   "metadata": {},
   "source": [
    "Судя по всему в данных есть дополнительные параметры для команды (f.e. Russia-1, Russia-2 etc.), в связи с чем ответ выше нельзя считать однозначным, без написания функции, обеспечивающей отбрасывание доп. индекса и определение количества медалей для каждой из команд"
   ]
  }
 ],
 "metadata": {
  "kernelspec": {
   "display_name": "Python 3 (ipykernel)",
   "language": "python",
   "name": "python3"
  },
  "language_info": {
   "codemirror_mode": {
    "name": "ipython",
    "version": 3
   },
   "file_extension": ".py",
   "mimetype": "text/x-python",
   "name": "python",
   "nbconvert_exporter": "python",
   "pygments_lexer": "ipython3",
   "version": "3.11.7"
  }
 },
 "nbformat": 4,
 "nbformat_minor": 2
}
