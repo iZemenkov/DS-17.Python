{
 "cells": [
  {
   "cell_type": "markdown",
   "id": "0a1b24fc",
   "metadata": {},
   "source": [
    "# Практика EDA (разведочный анализ данных)"
   ]
  },
  {
   "cell_type": "markdown",
   "id": "9bca479d",
   "metadata": {},
   "source": [
    "Анализируем датасет с информацией об атлетах, участвовавших в Олимпийских играх (olymp.csv). Разделитель запятая.\n",
    "\n",
    "Данные содержат следующие признаки: \\\n",
    "ID - уникальный номер спортсмена \\\n",
    "Name - имя атлета \\\n",
    "Sex - пол (мужской - M,  женский - F) \\\n",
    "Age - возраст атлета \\\n",
    "Height - рост (в см) \\\n",
    "Weight - вес (в кг) \\\n",
    "Team - cтрана \\\n",
    "NOC - код страны от Олимпийского комитета (3 буквы) \\\n",
    "Games - год и сезон Олимпийских игр \\\n",
    "Year - год Олимпийских игр \\\n",
    "Season - сезон (Зимние - Winter,  Лето - Summer) \\\n",
    "City - город проведения Олимпийских игр \\\n",
    "Sport - спортивная дисциплина \\\n",
    "Event - категория спортивной дисциплины \\\n",
    "Medal - достоинство медали (Золото - Gold, Серебро - Silver, Бронза - Bronze, Без медали - NaN)"
   ]
  },
  {
   "cell_type": "code",
   "execution_count": 1,
   "id": "6c6d4de2",
   "metadata": {},
   "outputs": [],
   "source": [
    "import pandas as pd"
   ]
  },
  {
   "cell_type": "markdown",
   "id": "231d9f6c",
   "metadata": {},
   "source": [
    "**Задание 1**. Загрузите данные"
   ]
  },
  {
   "cell_type": "code",
   "execution_count": 2,
   "id": "8cf1d54d",
   "metadata": {},
   "outputs": [],
   "source": [
    "df = pd.read_csv('olymp.csv')"
   ]
  },
  {
   "cell_type": "code",
   "execution_count": 3,
   "id": "47878c31",
   "metadata": {},
   "outputs": [
    {
     "data": {
      "text/html": [
       "<div>\n",
       "<style scoped>\n",
       "    .dataframe tbody tr th:only-of-type {\n",
       "        vertical-align: middle;\n",
       "    }\n",
       "\n",
       "    .dataframe tbody tr th {\n",
       "        vertical-align: top;\n",
       "    }\n",
       "\n",
       "    .dataframe thead th {\n",
       "        text-align: right;\n",
       "    }\n",
       "</style>\n",
       "<table border=\"1\" class=\"dataframe\">\n",
       "  <thead>\n",
       "    <tr style=\"text-align: right;\">\n",
       "      <th></th>\n",
       "      <th>ID</th>\n",
       "      <th>Name</th>\n",
       "      <th>Sex</th>\n",
       "      <th>Age</th>\n",
       "      <th>Height</th>\n",
       "      <th>Weight</th>\n",
       "      <th>Team</th>\n",
       "      <th>NOC</th>\n",
       "      <th>Games</th>\n",
       "      <th>Year</th>\n",
       "      <th>Season</th>\n",
       "      <th>City</th>\n",
       "      <th>Sport</th>\n",
       "      <th>Event</th>\n",
       "      <th>Medal</th>\n",
       "    </tr>\n",
       "  </thead>\n",
       "  <tbody>\n",
       "    <tr>\n",
       "      <th>0</th>\n",
       "      <td>1</td>\n",
       "      <td>A Dijiang</td>\n",
       "      <td>M</td>\n",
       "      <td>24.0</td>\n",
       "      <td>180.0</td>\n",
       "      <td>80.0</td>\n",
       "      <td>China</td>\n",
       "      <td>CHN</td>\n",
       "      <td>1992 Summer</td>\n",
       "      <td>1992</td>\n",
       "      <td>Summer</td>\n",
       "      <td>Barcelona</td>\n",
       "      <td>Basketball</td>\n",
       "      <td>Basketball Men's Basketball</td>\n",
       "      <td>NaN</td>\n",
       "    </tr>\n",
       "    <tr>\n",
       "      <th>1</th>\n",
       "      <td>2</td>\n",
       "      <td>A Lamusi</td>\n",
       "      <td>M</td>\n",
       "      <td>23.0</td>\n",
       "      <td>170.0</td>\n",
       "      <td>60.0</td>\n",
       "      <td>China</td>\n",
       "      <td>CHN</td>\n",
       "      <td>2012 Summer</td>\n",
       "      <td>2012</td>\n",
       "      <td>Summer</td>\n",
       "      <td>London</td>\n",
       "      <td>Judo</td>\n",
       "      <td>Judo Men's Extra-Lightweight</td>\n",
       "      <td>NaN</td>\n",
       "    </tr>\n",
       "    <tr>\n",
       "      <th>2</th>\n",
       "      <td>3</td>\n",
       "      <td>Gunnar Nielsen Aaby</td>\n",
       "      <td>M</td>\n",
       "      <td>24.0</td>\n",
       "      <td>NaN</td>\n",
       "      <td>NaN</td>\n",
       "      <td>Denmark</td>\n",
       "      <td>DEN</td>\n",
       "      <td>1920 Summer</td>\n",
       "      <td>1920</td>\n",
       "      <td>Summer</td>\n",
       "      <td>Antwerpen</td>\n",
       "      <td>Football</td>\n",
       "      <td>Football Men's Football</td>\n",
       "      <td>NaN</td>\n",
       "    </tr>\n",
       "    <tr>\n",
       "      <th>3</th>\n",
       "      <td>4</td>\n",
       "      <td>Edgar Lindenau Aabye</td>\n",
       "      <td>M</td>\n",
       "      <td>34.0</td>\n",
       "      <td>NaN</td>\n",
       "      <td>NaN</td>\n",
       "      <td>Denmark/Sweden</td>\n",
       "      <td>DEN</td>\n",
       "      <td>1900 Summer</td>\n",
       "      <td>1900</td>\n",
       "      <td>Summer</td>\n",
       "      <td>Paris</td>\n",
       "      <td>Tug-Of-War</td>\n",
       "      <td>Tug-Of-War Men's Tug-Of-War</td>\n",
       "      <td>Gold</td>\n",
       "    </tr>\n",
       "    <tr>\n",
       "      <th>4</th>\n",
       "      <td>5</td>\n",
       "      <td>Christine Jacoba Aaftink</td>\n",
       "      <td>F</td>\n",
       "      <td>21.0</td>\n",
       "      <td>185.0</td>\n",
       "      <td>82.0</td>\n",
       "      <td>Netherlands</td>\n",
       "      <td>NED</td>\n",
       "      <td>1988 Winter</td>\n",
       "      <td>1988</td>\n",
       "      <td>Winter</td>\n",
       "      <td>Calgary</td>\n",
       "      <td>Speed Skating</td>\n",
       "      <td>Speed Skating Women's 500 metres</td>\n",
       "      <td>NaN</td>\n",
       "    </tr>\n",
       "  </tbody>\n",
       "</table>\n",
       "</div>"
      ],
      "text/plain": [
       "   ID                      Name Sex   Age  Height  Weight            Team  \\\n",
       "0   1                 A Dijiang   M  24.0   180.0    80.0           China   \n",
       "1   2                  A Lamusi   M  23.0   170.0    60.0           China   \n",
       "2   3       Gunnar Nielsen Aaby   M  24.0     NaN     NaN         Denmark   \n",
       "3   4      Edgar Lindenau Aabye   M  34.0     NaN     NaN  Denmark/Sweden   \n",
       "4   5  Christine Jacoba Aaftink   F  21.0   185.0    82.0     Netherlands   \n",
       "\n",
       "   NOC        Games  Year  Season       City          Sport  \\\n",
       "0  CHN  1992 Summer  1992  Summer  Barcelona     Basketball   \n",
       "1  CHN  2012 Summer  2012  Summer     London           Judo   \n",
       "2  DEN  1920 Summer  1920  Summer  Antwerpen       Football   \n",
       "3  DEN  1900 Summer  1900  Summer      Paris     Tug-Of-War   \n",
       "4  NED  1988 Winter  1988  Winter    Calgary  Speed Skating   \n",
       "\n",
       "                              Event Medal  \n",
       "0       Basketball Men's Basketball   NaN  \n",
       "1      Judo Men's Extra-Lightweight   NaN  \n",
       "2           Football Men's Football   NaN  \n",
       "3       Tug-Of-War Men's Tug-Of-War  Gold  \n",
       "4  Speed Skating Women's 500 metres   NaN  "
      ]
     },
     "execution_count": 3,
     "metadata": {},
     "output_type": "execute_result"
    }
   ],
   "source": [
    "df.head()"
   ]
  },
  {
   "cell_type": "markdown",
   "id": "24c6ed82",
   "metadata": {},
   "source": [
    "**Задание 2**. Проверьте данные на пропуски"
   ]
  },
  {
   "cell_type": "code",
   "execution_count": 15,
   "id": "b8655254",
   "metadata": {},
   "outputs": [
    {
     "data": {
      "text/plain": [
       "ID             0\n",
       "Name           0\n",
       "Sex            0\n",
       "Age         9474\n",
       "Height     60171\n",
       "Weight     62875\n",
       "Team           0\n",
       "NOC            0\n",
       "Games          0\n",
       "Year           0\n",
       "Season         0\n",
       "City           0\n",
       "Sport          0\n",
       "Event          0\n",
       "Medal     231333\n",
       "dtype: int64"
      ]
     },
     "execution_count": 15,
     "metadata": {},
     "output_type": "execute_result"
    }
   ],
   "source": [
    "df.isna().sum()"
   ]
  },
  {
   "cell_type": "code",
   "execution_count": 14,
   "id": "b6ffdc5c",
   "metadata": {},
   "outputs": [
    {
     "name": "stdout",
     "output_type": "stream",
     "text": [
      "<class 'pandas.core.frame.DataFrame'>\n",
      "RangeIndex: 271116 entries, 0 to 271115\n",
      "Data columns (total 15 columns):\n",
      " #   Column  Non-Null Count   Dtype  \n",
      "---  ------  --------------   -----  \n",
      " 0   ID      271116 non-null  int64  \n",
      " 1   Name    271116 non-null  object \n",
      " 2   Sex     271116 non-null  object \n",
      " 3   Age     261642 non-null  float64\n",
      " 4   Height  210945 non-null  float64\n",
      " 5   Weight  208241 non-null  float64\n",
      " 6   Team    271116 non-null  object \n",
      " 7   NOC     271116 non-null  object \n",
      " 8   Games   271116 non-null  object \n",
      " 9   Year    271116 non-null  int64  \n",
      " 10  Season  271116 non-null  object \n",
      " 11  City    271116 non-null  object \n",
      " 12  Sport   271116 non-null  object \n",
      " 13  Event   271116 non-null  object \n",
      " 14  Medal   39783 non-null   object \n",
      "dtypes: float64(3), int64(2), object(10)\n",
      "memory usage: 31.0+ MB\n"
     ]
    }
   ],
   "source": [
    "df.info()"
   ]
  },
  {
   "cell_type": "markdown",
   "id": "13ee25f8",
   "metadata": {},
   "source": [
    "**Задание 3**. Узнайте размер датафрейма. Получите список всех колонок."
   ]
  },
  {
   "cell_type": "code",
   "execution_count": 16,
   "id": "1451ff41",
   "metadata": {},
   "outputs": [
    {
     "data": {
      "text/plain": [
       "(271116, 15)"
      ]
     },
     "execution_count": 16,
     "metadata": {},
     "output_type": "execute_result"
    }
   ],
   "source": [
    "df.shape"
   ]
  },
  {
   "cell_type": "code",
   "execution_count": 35,
   "id": "6b5fa2d8",
   "metadata": {},
   "outputs": [
    {
     "name": "stdout",
     "output_type": "stream",
     "text": [
      "ID, Name, Sex, Age, Height, Weight, Team, NOC, Games, Year, Season, City, Sport, Event, Medal\n"
     ]
    }
   ],
   "source": [
    "print(*list(df.columns),sep = ', ')"
   ]
  },
  {
   "cell_type": "markdown",
   "id": "3c7a8be2",
   "metadata": {},
   "source": [
    "**Задание 4**. Сколько лет было самому молодому участнику олимпийских игр в 1992 году?"
   ]
  },
  {
   "cell_type": "code",
   "execution_count": 47,
   "id": "52f40bfe",
   "metadata": {},
   "outputs": [],
   "source": [
    "min_age_92 = df[df.Year == 1992].Age.min()"
   ]
  },
  {
   "cell_type": "code",
   "execution_count": 53,
   "id": "764ab7d5",
   "metadata": {},
   "outputs": [
    {
     "data": {
      "text/html": [
       "<div>\n",
       "<style scoped>\n",
       "    .dataframe tbody tr th:only-of-type {\n",
       "        vertical-align: middle;\n",
       "    }\n",
       "\n",
       "    .dataframe tbody tr th {\n",
       "        vertical-align: top;\n",
       "    }\n",
       "\n",
       "    .dataframe thead th {\n",
       "        text-align: right;\n",
       "    }\n",
       "</style>\n",
       "<table border=\"1\" class=\"dataframe\">\n",
       "  <thead>\n",
       "    <tr style=\"text-align: right;\">\n",
       "      <th></th>\n",
       "      <th>ID</th>\n",
       "      <th>Name</th>\n",
       "      <th>Sex</th>\n",
       "      <th>Age</th>\n",
       "      <th>Height</th>\n",
       "      <th>Weight</th>\n",
       "      <th>Team</th>\n",
       "      <th>NOC</th>\n",
       "      <th>Games</th>\n",
       "      <th>Year</th>\n",
       "      <th>Season</th>\n",
       "      <th>City</th>\n",
       "      <th>Sport</th>\n",
       "      <th>Event</th>\n",
       "      <th>Medal</th>\n",
       "    </tr>\n",
       "  </thead>\n",
       "  <tbody>\n",
       "    <tr>\n",
       "      <th>73461</th>\n",
       "      <td>37333</td>\n",
       "      <td>Carlos Bienvenido Front Barrera</td>\n",
       "      <td>M</td>\n",
       "      <td>11.0</td>\n",
       "      <td>NaN</td>\n",
       "      <td>NaN</td>\n",
       "      <td>Spain</td>\n",
       "      <td>ESP</td>\n",
       "      <td>1992 Summer</td>\n",
       "      <td>1992</td>\n",
       "      <td>Summer</td>\n",
       "      <td>Barcelona</td>\n",
       "      <td>Rowing</td>\n",
       "      <td>Rowing Men's Coxed Eights</td>\n",
       "      <td>NaN</td>\n",
       "    </tr>\n",
       "  </tbody>\n",
       "</table>\n",
       "</div>"
      ],
      "text/plain": [
       "          ID                             Name Sex   Age  Height  Weight  \\\n",
       "73461  37333  Carlos Bienvenido Front Barrera   M  11.0     NaN     NaN   \n",
       "\n",
       "        Team  NOC        Games  Year  Season       City   Sport  \\\n",
       "73461  Spain  ESP  1992 Summer  1992  Summer  Barcelona  Rowing   \n",
       "\n",
       "                           Event Medal  \n",
       "73461  Rowing Men's Coxed Eights   NaN  "
      ]
     },
     "execution_count": 53,
     "metadata": {},
     "output_type": "execute_result"
    }
   ],
   "source": [
    "df[(df.Year == 1992) & (df.Age == min_age_92)]"
   ]
  },
  {
   "cell_type": "markdown",
   "id": "795d1eb6",
   "metadata": {},
   "source": [
    "**Задание 5**. Сколько всего уникальных участников Олимпийских игр было в 2012 году? Примените метод `.drop_duplicates(\"признак\")` по признаку ID, чтобы оставить строки, только с уникальными атлетами"
   ]
  },
  {
   "cell_type": "code",
   "execution_count": 54,
   "id": "2761fd5b",
   "metadata": {},
   "outputs": [
    {
     "data": {
      "text/plain": [
       "10517"
      ]
     },
     "execution_count": 54,
     "metadata": {},
     "output_type": "execute_result"
    }
   ],
   "source": [
    "df[df['Year'] == 2012].drop_duplicates('ID').Name.count()"
   ]
  },
  {
   "cell_type": "code",
   "execution_count": 56,
   "id": "6e4c9e0f",
   "metadata": {},
   "outputs": [],
   "source": [
    "cnt2012 = df[df['Year'] == 2012].drop_duplicates('ID').Name.count()"
   ]
  },
  {
   "cell_type": "markdown",
   "id": "7ee359d3",
   "metadata": {},
   "source": [
    "**Задание 6**. Какую долю составляют мужчины-баскетболисты среди всех участников игр 2012 года? Округлите ответ до двух знаков."
   ]
  },
  {
   "cell_type": "code",
   "execution_count": 71,
   "id": "7f745c16",
   "metadata": {},
   "outputs": [
    {
     "name": "stdout",
     "output_type": "stream",
     "text": [
      "1.37%\n"
     ]
    }
   ],
   "source": [
    "print(round(df[(df['Year'] == 2012) & (df['Sport'] == 'Basketball') & (df['Sex'] == 'M')].drop_duplicates('ID').Name.count()/cnt2012*100,2),'%', sep ='')"
   ]
  },
  {
   "cell_type": "markdown",
   "id": "f47268db",
   "metadata": {},
   "source": [
    "**Задание 7**. В каких годах проводились соревнования по керлингу (Curling)? Примените метод `.unique()` к столбцу `Year`."
   ]
  },
  {
   "cell_type": "code",
   "execution_count": 72,
   "id": "a6b0096f",
   "metadata": {},
   "outputs": [
    {
     "name": "stdout",
     "output_type": "stream",
     "text": [
      "1924, 1998, 2002, 2006, 2010, 2014\n"
     ]
    }
   ],
   "source": [
    "print(*sorted(list(df[df['Sport'] == 'Curling'].Year.unique())), sep=', ')"
   ]
  },
  {
   "cell_type": "markdown",
   "id": "40804cd6",
   "metadata": {},
   "source": [
    "**Задание 8**\n",
    "\n",
    "Cоздайте новый признак BMI в датафрейме, который содержит информацию об индексе массы тела для каждого спортсмена на основе столбца с массой (Weight) и ростом (Height):\n",
    "\n",
    "$$𝐵𝑀𝐼=\\frac{Масса(кг.)}{Рост(м.)^2}$$\n",
    "\n",
    "HINT: Обратите внимание, что рост(Height) в таблице дан в сантиметрах, а по формуле рост нужен в метрах"
   ]
  },
  {
   "cell_type": "code",
   "execution_count": 84,
   "id": "8484d2f4",
   "metadata": {},
   "outputs": [],
   "source": [
    "df['BMI'] = round(df.Weight / (0.01 * df.Height)**2,2)"
   ]
  },
  {
   "cell_type": "code",
   "execution_count": 85,
   "id": "069d8f14",
   "metadata": {},
   "outputs": [
    {
     "data": {
      "text/html": [
       "<div>\n",
       "<style scoped>\n",
       "    .dataframe tbody tr th:only-of-type {\n",
       "        vertical-align: middle;\n",
       "    }\n",
       "\n",
       "    .dataframe tbody tr th {\n",
       "        vertical-align: top;\n",
       "    }\n",
       "\n",
       "    .dataframe thead th {\n",
       "        text-align: right;\n",
       "    }\n",
       "</style>\n",
       "<table border=\"1\" class=\"dataframe\">\n",
       "  <thead>\n",
       "    <tr style=\"text-align: right;\">\n",
       "      <th></th>\n",
       "      <th>ID</th>\n",
       "      <th>Name</th>\n",
       "      <th>Sex</th>\n",
       "      <th>Age</th>\n",
       "      <th>Height</th>\n",
       "      <th>Weight</th>\n",
       "      <th>Team</th>\n",
       "      <th>NOC</th>\n",
       "      <th>Games</th>\n",
       "      <th>Year</th>\n",
       "      <th>Season</th>\n",
       "      <th>City</th>\n",
       "      <th>Sport</th>\n",
       "      <th>Event</th>\n",
       "      <th>Medal</th>\n",
       "      <th>BMI</th>\n",
       "    </tr>\n",
       "  </thead>\n",
       "  <tbody>\n",
       "    <tr>\n",
       "      <th>0</th>\n",
       "      <td>1</td>\n",
       "      <td>A Dijiang</td>\n",
       "      <td>M</td>\n",
       "      <td>24.0</td>\n",
       "      <td>180.0</td>\n",
       "      <td>80.0</td>\n",
       "      <td>China</td>\n",
       "      <td>CHN</td>\n",
       "      <td>1992 Summer</td>\n",
       "      <td>1992</td>\n",
       "      <td>Summer</td>\n",
       "      <td>Barcelona</td>\n",
       "      <td>Basketball</td>\n",
       "      <td>Basketball Men's Basketball</td>\n",
       "      <td>NaN</td>\n",
       "      <td>24.69</td>\n",
       "    </tr>\n",
       "    <tr>\n",
       "      <th>1</th>\n",
       "      <td>2</td>\n",
       "      <td>A Lamusi</td>\n",
       "      <td>M</td>\n",
       "      <td>23.0</td>\n",
       "      <td>170.0</td>\n",
       "      <td>60.0</td>\n",
       "      <td>China</td>\n",
       "      <td>CHN</td>\n",
       "      <td>2012 Summer</td>\n",
       "      <td>2012</td>\n",
       "      <td>Summer</td>\n",
       "      <td>London</td>\n",
       "      <td>Judo</td>\n",
       "      <td>Judo Men's Extra-Lightweight</td>\n",
       "      <td>NaN</td>\n",
       "      <td>20.76</td>\n",
       "    </tr>\n",
       "    <tr>\n",
       "      <th>2</th>\n",
       "      <td>3</td>\n",
       "      <td>Gunnar Nielsen Aaby</td>\n",
       "      <td>M</td>\n",
       "      <td>24.0</td>\n",
       "      <td>NaN</td>\n",
       "      <td>NaN</td>\n",
       "      <td>Denmark</td>\n",
       "      <td>DEN</td>\n",
       "      <td>1920 Summer</td>\n",
       "      <td>1920</td>\n",
       "      <td>Summer</td>\n",
       "      <td>Antwerpen</td>\n",
       "      <td>Football</td>\n",
       "      <td>Football Men's Football</td>\n",
       "      <td>NaN</td>\n",
       "      <td>NaN</td>\n",
       "    </tr>\n",
       "    <tr>\n",
       "      <th>3</th>\n",
       "      <td>4</td>\n",
       "      <td>Edgar Lindenau Aabye</td>\n",
       "      <td>M</td>\n",
       "      <td>34.0</td>\n",
       "      <td>NaN</td>\n",
       "      <td>NaN</td>\n",
       "      <td>Denmark/Sweden</td>\n",
       "      <td>DEN</td>\n",
       "      <td>1900 Summer</td>\n",
       "      <td>1900</td>\n",
       "      <td>Summer</td>\n",
       "      <td>Paris</td>\n",
       "      <td>Tug-Of-War</td>\n",
       "      <td>Tug-Of-War Men's Tug-Of-War</td>\n",
       "      <td>Gold</td>\n",
       "      <td>NaN</td>\n",
       "    </tr>\n",
       "    <tr>\n",
       "      <th>4</th>\n",
       "      <td>5</td>\n",
       "      <td>Christine Jacoba Aaftink</td>\n",
       "      <td>F</td>\n",
       "      <td>21.0</td>\n",
       "      <td>185.0</td>\n",
       "      <td>82.0</td>\n",
       "      <td>Netherlands</td>\n",
       "      <td>NED</td>\n",
       "      <td>1988 Winter</td>\n",
       "      <td>1988</td>\n",
       "      <td>Winter</td>\n",
       "      <td>Calgary</td>\n",
       "      <td>Speed Skating</td>\n",
       "      <td>Speed Skating Women's 500 metres</td>\n",
       "      <td>NaN</td>\n",
       "      <td>23.96</td>\n",
       "    </tr>\n",
       "  </tbody>\n",
       "</table>\n",
       "</div>"
      ],
      "text/plain": [
       "   ID                      Name Sex   Age  Height  Weight            Team  \\\n",
       "0   1                 A Dijiang   M  24.0   180.0    80.0           China   \n",
       "1   2                  A Lamusi   M  23.0   170.0    60.0           China   \n",
       "2   3       Gunnar Nielsen Aaby   M  24.0     NaN     NaN         Denmark   \n",
       "3   4      Edgar Lindenau Aabye   M  34.0     NaN     NaN  Denmark/Sweden   \n",
       "4   5  Christine Jacoba Aaftink   F  21.0   185.0    82.0     Netherlands   \n",
       "\n",
       "   NOC        Games  Year  Season       City          Sport  \\\n",
       "0  CHN  1992 Summer  1992  Summer  Barcelona     Basketball   \n",
       "1  CHN  2012 Summer  2012  Summer     London           Judo   \n",
       "2  DEN  1920 Summer  1920  Summer  Antwerpen       Football   \n",
       "3  DEN  1900 Summer  1900  Summer      Paris     Tug-Of-War   \n",
       "4  NED  1988 Winter  1988  Winter    Calgary  Speed Skating   \n",
       "\n",
       "                              Event Medal    BMI  \n",
       "0       Basketball Men's Basketball   NaN  24.69  \n",
       "1      Judo Men's Extra-Lightweight   NaN  20.76  \n",
       "2           Football Men's Football   NaN    NaN  \n",
       "3       Tug-Of-War Men's Tug-Of-War  Gold    NaN  \n",
       "4  Speed Skating Women's 500 metres   NaN  23.96  "
      ]
     },
     "execution_count": 85,
     "metadata": {},
     "output_type": "execute_result"
    }
   ],
   "source": [
    "df.head()"
   ]
  },
  {
   "cell_type": "code",
   "execution_count": 101,
   "id": "5a93d216",
   "metadata": {},
   "outputs": [
    {
     "data": {
      "text/html": [
       "<div>\n",
       "<style scoped>\n",
       "    .dataframe tbody tr th:only-of-type {\n",
       "        vertical-align: middle;\n",
       "    }\n",
       "\n",
       "    .dataframe tbody tr th {\n",
       "        vertical-align: top;\n",
       "    }\n",
       "\n",
       "    .dataframe thead th {\n",
       "        text-align: right;\n",
       "    }\n",
       "</style>\n",
       "<table border=\"1\" class=\"dataframe\">\n",
       "  <thead>\n",
       "    <tr style=\"text-align: right;\">\n",
       "      <th></th>\n",
       "      <th>Height</th>\n",
       "      <th>Weight</th>\n",
       "      <th>BMI</th>\n",
       "    </tr>\n",
       "  </thead>\n",
       "  <tbody>\n",
       "    <tr>\n",
       "      <th>69824</th>\n",
       "      <td>179.0</td>\n",
       "      <td>85.0</td>\n",
       "      <td>26.53</td>\n",
       "    </tr>\n",
       "    <tr>\n",
       "      <th>63852</th>\n",
       "      <td>NaN</td>\n",
       "      <td>NaN</td>\n",
       "      <td>NaN</td>\n",
       "    </tr>\n",
       "    <tr>\n",
       "      <th>7314</th>\n",
       "      <td>186.0</td>\n",
       "      <td>80.0</td>\n",
       "      <td>23.12</td>\n",
       "    </tr>\n",
       "    <tr>\n",
       "      <th>200731</th>\n",
       "      <td>181.0</td>\n",
       "      <td>87.0</td>\n",
       "      <td>26.56</td>\n",
       "    </tr>\n",
       "    <tr>\n",
       "      <th>136683</th>\n",
       "      <td>153.0</td>\n",
       "      <td>50.0</td>\n",
       "      <td>21.36</td>\n",
       "    </tr>\n",
       "    <tr>\n",
       "      <th>211189</th>\n",
       "      <td>159.0</td>\n",
       "      <td>55.0</td>\n",
       "      <td>21.76</td>\n",
       "    </tr>\n",
       "    <tr>\n",
       "      <th>123416</th>\n",
       "      <td>159.0</td>\n",
       "      <td>54.0</td>\n",
       "      <td>21.36</td>\n",
       "    </tr>\n",
       "    <tr>\n",
       "      <th>34181</th>\n",
       "      <td>NaN</td>\n",
       "      <td>NaN</td>\n",
       "      <td>NaN</td>\n",
       "    </tr>\n",
       "    <tr>\n",
       "      <th>226826</th>\n",
       "      <td>167.0</td>\n",
       "      <td>54.0</td>\n",
       "      <td>19.36</td>\n",
       "    </tr>\n",
       "    <tr>\n",
       "      <th>267752</th>\n",
       "      <td>NaN</td>\n",
       "      <td>NaN</td>\n",
       "      <td>NaN</td>\n",
       "    </tr>\n",
       "  </tbody>\n",
       "</table>\n",
       "</div>"
      ],
      "text/plain": [
       "        Height  Weight    BMI\n",
       "69824    179.0    85.0  26.53\n",
       "63852      NaN     NaN    NaN\n",
       "7314     186.0    80.0  23.12\n",
       "200731   181.0    87.0  26.56\n",
       "136683   153.0    50.0  21.36\n",
       "211189   159.0    55.0  21.76\n",
       "123416   159.0    54.0  21.36\n",
       "34181      NaN     NaN    NaN\n",
       "226826   167.0    54.0  19.36\n",
       "267752     NaN     NaN    NaN"
      ]
     },
     "execution_count": 101,
     "metadata": {},
     "output_type": "execute_result"
    }
   ],
   "source": [
    "df[['Height', 'Weight','BMI']].sample(10) #выборка случайных значений для проверки"
   ]
  },
  {
   "cell_type": "markdown",
   "id": "09159e4e",
   "metadata": {},
   "source": [
    "**Задание 9**. Найдите модуль разности между максимальным и минимальным значением индекса массы тела атлетов (BMI). Ответ округлите до двух знаков."
   ]
  },
  {
   "cell_type": "code",
   "execution_count": 102,
   "id": "c4b99e9c",
   "metadata": {},
   "outputs": [
    {
     "data": {
      "text/plain": [
       "55.54"
      ]
     },
     "execution_count": 102,
     "metadata": {},
     "output_type": "execute_result"
    }
   ],
   "source": [
    "df.BMI.max() - df.BMI.min()"
   ]
  },
  {
   "cell_type": "markdown",
   "id": "969291e2",
   "metadata": {},
   "source": [
    "**Задание 10**.\n",
    "\n",
    "Определите количество атлетов из Советского Союза (Soviet Union) чей процент успеха на олимпиаде не менее 50%. Показатель процента успеха рассчитывается как частное (количество завоеванных медалей к количеству категорий спортивных дисциплин, в которых они приняли участие), умноженное на 100."
   ]
  },
  {
   "cell_type": "code",
   "execution_count": 108,
   "id": "0ef99646",
   "metadata": {},
   "outputs": [],
   "source": [
    "sov_team = df[df.Team == 'Soviet Union'].groupby('Name')[['Event', 'Medal']].count().copy()"
   ]
  },
  {
   "cell_type": "code",
   "execution_count": 112,
   "id": "0474ba4c",
   "metadata": {},
   "outputs": [],
   "source": [
    "sov_team['success'] = 100 * sov_team.Medal / sov_team.Event"
   ]
  },
  {
   "cell_type": "code",
   "execution_count": 118,
   "id": "df13894a",
   "metadata": {},
   "outputs": [
    {
     "data": {
      "text/plain": [
       "1452"
      ]
     },
     "execution_count": 118,
     "metadata": {},
     "output_type": "execute_result"
    }
   ],
   "source": [
    "sov_team[sov_team.success >= 50].shape[0]"
   ]
  }
 ],
 "metadata": {
  "kernelspec": {
   "display_name": "Python 3 (ipykernel)",
   "language": "python",
   "name": "python3"
  },
  "language_info": {
   "codemirror_mode": {
    "name": "ipython",
    "version": 3
   },
   "file_extension": ".py",
   "mimetype": "text/x-python",
   "name": "python",
   "nbconvert_exporter": "python",
   "pygments_lexer": "ipython3",
   "version": "3.11.7"
  }
 },
 "nbformat": 4,
 "nbformat_minor": 5
}
