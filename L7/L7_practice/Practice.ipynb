{
 "cells": [
  {
   "cell_type": "code",
   "execution_count": 13,
   "id": "53c6b993",
   "metadata": {},
   "outputs": [
    {
     "name": "stdout",
     "output_type": "stream",
     "text": [
      "Кирилл 4\n",
      "Дмитрий 5\n",
      "Константин 5\n",
      "Мария 4\n",
      "Дарья 5\n",
      "Демьян 3\n",
      "Павел 4\n"
     ]
    }
   ],
   "source": [
    "with open('second_grade.txt', 'w', encoding = 'utf8') as out:\n",
    "    with open('grades.txt', 'r', encoding='utf8') as f:\n",
    "        for line in f:\n",
    "            name, grade = line.split()[0],line.split()[2]\n",
    "            print(name, grade)"
   ]
  },
  {
   "cell_type": "code",
   "execution_count": null,
   "id": "6c84726c",
   "metadata": {},
   "outputs": [],
   "source": [
    "conf = input()\n",
    "confdate = input()\n",
    "participantList = input().split(', ')\n",
    "\n",
    "\n",
    "with open('invitations.txt','w',encoding='utf8') as outfile:\n",
    "    i = 1\n",
    "    for participant in participantList:\n",
    "        print(f'Добрый день, {participant}!\\nВы зарегистрировались на конференцию {conf}, которая состоится {confdate}.\\nВаш регистрационный номер - {i}.',file=outfile)\n",
    "        i += 1"
   ]
  },
  {
   "cell_type": "code",
   "execution_count": 17,
   "id": "bdde65f2",
   "metadata": {},
   "outputs": [
    {
     "name": "stdout",
     "output_type": "stream",
     "text": [
      "Добрый день, Иван Иванов!\n",
      "Вы зарегистрировались на конференцию Фантастические твари и где они обитают, которая состоится 12 ноября в 18:00.\n",
      "Ваш регистрационный номер - 1.\n",
      "Добрый день, Петр Петров!\n",
      "Вы зарегистрировались на конференцию Фантастические твари и где они обитают, которая состоится 12 ноября в 18:00.\n",
      "Ваш регистрационный номер - 2.\n",
      "Добрый день, Анна Смирнова!\n",
      "Вы зарегистрировались на конференцию Фантастические твари и где они обитают, которая состоится 12 ноября в 18:00.\n",
      "Ваш регистрационный номер - 3.\n",
      "Добрый день, Татьяна Кузнецова!\n",
      "Вы зарегистрировались на конференцию Фантастические твари и где они обитают, которая состоится 12 ноября в 18:00.\n",
      "Ваш регистрационный номер - 4.\n",
      "Добрый день, Макар Макаров!\n",
      "Вы зарегистрировались на конференцию Фантастические твари и где они обитают, которая состоится 12 ноября в 18:00.\n",
      "Ваш регистрационный номер - 5.\n"
     ]
    }
   ],
   "source": [
    "i = 1\n",
    "for participant in participantList:\n",
    "    print(f'Добрый день, {participant}!\\nВы зарегистрировались на конференцию {conf}, которая состоится {confdate}.\\nВаш регистрационный номер - {i}.')\n",
    "    i += 1"
   ]
  },
  {
   "cell_type": "code",
   "execution_count": 27,
   "id": "fa9c9dba",
   "metadata": {},
   "outputs": [],
   "source": [
    "freq = {}\n",
    "with open('tweets.txt', 'r', encoding='utf8') as inputfile:\n",
    "    for line in inputfile:\n",
    "        s = line.split()\n",
    "        for word in s:\n",
    "            if word.startswith('#'):\n",
    "                freq[word] = freq.get(word, 0) + 1\n",
    "                \n",
    "with open('tags.txt', 'w', encoding='utf8') as outfile:\n",
    "    for k,v in sorted(freq.items(), key = lambda x: x[1], reverse=True):\n",
    "        print(f'тег: {k}, упоминаний: {v}', file = outfile)"
   ]
  },
  {
   "cell_type": "code",
   "execution_count": 43,
   "id": "361a3219",
   "metadata": {},
   "outputs": [],
   "source": [
    "with open('emails.txt','w',encoding='utf8') as outfile:\n",
    "    with open('students.csv', 'r', encoding='utf8') as f:\n",
    "        for line in f:\n",
    "            stud, mail, grade, exgrade = line.split(';')\n",
    "            final_grade = round(int(grade)*0.4 + int(exgrade)*0.6)\n",
    "            print(f'To: {mail}\\nДобрый день, {stud}!\\nВаша итоговая оценка за курс - {final_grade}.\\n{\"Хороших каникул\" if final_grade > 3 else \"Пересдача состоится 15 января в 10:00, место будет сообщено позднее.\"}', file=outfile) "
   ]
  },
  {
   "cell_type": "code",
   "execution_count": 33,
   "id": "34893b1a",
   "metadata": {},
   "outputs": [
    {
     "data": {
      "text/plain": [
       "6"
      ]
     },
     "execution_count": 33,
     "metadata": {},
     "output_type": "execute_result"
    }
   ],
   "source": [
    "round(5*0.4 + 6*0.6)"
   ]
  },
  {
   "cell_type": "markdown",
   "id": "86d7fb97",
   "metadata": {},
   "source": [
    "# 9"
   ]
  },
  {
   "cell_type": "code",
   "execution_count": 66,
   "id": "5f1fdc60",
   "metadata": {},
   "outputs": [
    {
     "name": "stdout",
     "output_type": "stream",
     "text": [
      "латте\n"
     ]
    }
   ],
   "source": [
    "syrups = {'большой': 30, 'средний': 20, 'маленький': 10}\n",
    "stats = {}\n",
    "\n",
    "with open('coffee-statistics-2.csv', 'r', encoding='utf8') as stat:\n",
    "    for line in stat:\n",
    "        coffie, size, syrup = line.strip().split(';')\n",
    "        size = syrups[size]\n",
    "        if syrup != '':\n",
    "            if coffie not in stats:\n",
    "                stats[coffie] = {syrup:size}\n",
    "            else:\n",
    "                if syrup not in stats[coffie]:\n",
    "                    stats[coffie][syrup] = size\n",
    "                else:\n",
    "                    stats[coffie][syrup] += size\n",
    "query = input()                    \n",
    "with open('syrups-statistics.csv','w',encoding='utf8') as outfile:\n",
    "    for k,v in sorted(stats[query].items()):\n",
    "        print(f'{k};{v}', file=outfile)\n",
    "    "
   ]
  },
  {
   "cell_type": "code",
   "execution_count": 62,
   "id": "df846880",
   "metadata": {},
   "outputs": [
    {
     "name": "stdout",
     "output_type": "stream",
     "text": [
      "('ванильный', 90) ('карамельный', 190) ('кленовый', 170) ('кокосовый', 250) ('розовый', 150) ('шоколадный', 190)\n"
     ]
    }
   ],
   "source": []
  },
  {
   "cell_type": "markdown",
   "id": "580564b3",
   "metadata": {},
   "source": [
    "# 10"
   ]
  },
  {
   "cell_type": "code",
   "execution_count": 92,
   "id": "beb12711",
   "metadata": {},
   "outputs": [],
   "source": [
    "priceList = {}\n",
    "counter = {'маленький':0,'средний':1,'большой':2}\n",
    "with open('price-list.csv','r',encoding='utf8') as prclst:\n",
    "    for line in prclst:    \n",
    "        c, *price = line.strip().split(';')\n",
    "        price = [int(x) for x in price]\n",
    "        priceList[c] = price\n",
    "incomeDB = {}\n",
    "with open('coffee-statistics-3.csv', 'r', encoding='utf8') as sales:\n",
    "    for line in sales:\n",
    "        name, size = line.strip().split(';')\n",
    "        incomeDB[name] = incomeDB.get(name,0) + priceList[name][counter[size]]\n",
    "with open('sale-statistics.csv', 'w', encoding='utf8') as outfile:\n",
    "        for k,v in sorted(incomeDB.items()):\n",
    "            print(f'{k};{v}',file=outfile)"
   ]
  },
  {
   "cell_type": "code",
   "execution_count": 84,
   "id": "ab7c8c00",
   "metadata": {},
   "outputs": [
    {
     "data": {
      "text/plain": [
       "{'глясе': 4860,\n",
       " 'раф': 4650,\n",
       " 'эспрессо': 3930,\n",
       " 'капучино': 3060,\n",
       " 'латте': 3614,\n",
       " 'мокачино': 3120}"
      ]
     },
     "execution_count": 84,
     "metadata": {},
     "output_type": "execute_result"
    }
   ],
   "source": [
    "incomeDB"
   ]
  }
 ],
 "metadata": {
  "kernelspec": {
   "display_name": "Python 3 (ipykernel)",
   "language": "python",
   "name": "python3"
  },
  "language_info": {
   "codemirror_mode": {
    "name": "ipython",
    "version": 3
   },
   "file_extension": ".py",
   "mimetype": "text/x-python",
   "name": "python",
   "nbconvert_exporter": "python",
   "pygments_lexer": "ipython3",
   "version": "3.11.7"
  }
 },
 "nbformat": 4,
 "nbformat_minor": 5
}
