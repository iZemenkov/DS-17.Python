{
 "cells": [
  {
   "cell_type": "markdown",
   "id": "59100130",
   "metadata": {},
   "source": [
    "Реализуйте программу, которая напечатает название товара и количество денег, потраченных на него: \n",
    "\n",
    "- На первой строке вводится название товара (строка). \n",
    "- Затем вводится цена этого товара за штуку (вещественное число).\n",
    "- Программа должна вывести фразу вида 'Были куплены <НАЗВАНИЕ ТОВАРА> в количестве 5 шт., всего было потрачено <КОЛИЧЕСТВО ДЕНЕГ, КОТОРОЕ УШЛО НА ПОКУПКУ> рублей'."
   ]
  },
  {
   "cell_type": "code",
   "execution_count": 2,
   "id": "82f7f9de",
   "metadata": {},
   "outputs": [
    {
     "name": "stdout",
     "output_type": "stream",
     "text": [
      "зеленые яблоки\n",
      "24.5\n",
      "Были куплены зеленые яблоки в количестве 5 шт., всего было потрачено 122.5 рублей\n"
     ]
    }
   ],
   "source": [
    "print(f'Были куплены {input()} в количестве 5 шт., всего было потрачено {float(input())*5} рублей')"
   ]
  },
  {
   "cell_type": "markdown",
   "id": "25abb992",
   "metadata": {},
   "source": [
    "Реализуйте программу, проверяющую, какое место по показателю ВВП на душу населения заняла страна:\n",
    "\n",
    "- На первой строке вводится название страны (строка). \n",
    "- Затем вводится место этой страны по показателю ВВП на душу населения (целое число).\n",
    "- Программа должна проверять, что страна занимает место от 5 до 10 (включительно в обоих случаях), и если да, то печатать фразу вида \"<НАЗВАНИЕ СТРАНЫ>, True\". \n",
    "- В остальных случаях программа должна печатать False."
   ]
  },
  {
   "cell_type": "code",
   "execution_count": 5,
   "id": "09a1ac6b",
   "metadata": {},
   "outputs": [
    {
     "name": "stdout",
     "output_type": "stream",
     "text": [
      "Hjccbz\n",
      "5\n",
      "Hjccbz, True\n"
     ]
    }
   ],
   "source": [
    "country = input()\n",
    "place = int(input())\n",
    "if 10>= place >= 5:\n",
    "    print(f'{country}, True')\n",
    "else: print(False)"
   ]
  },
  {
   "cell_type": "markdown",
   "id": "c10756ef",
   "metadata": {},
   "source": [
    "Реализуйте программу, которая определяет сумму цен товаров, удовлетворяющих определенным условиям:\n",
    "\n",
    "* В цикле while считываются строки вида \"<товар>, <цена>\" до тех пор, пока не введена строка \"END\".\n",
    "* Для каждого товара проверьте, что его цена больше 1000 и при этом кратна 500 (то есть делится на 500 без остатка).\n",
    "* Гарантируется, что до строки \"END\" будет введена как минимум одна строка с данными.\n",
    "* Напечатайте сумму цен товаров, удовлетворяющих условию."
   ]
  },
  {
   "cell_type": "code",
   "execution_count": 15,
   "id": "c7ebdf98",
   "metadata": {},
   "outputs": [
    {
     "name": "stdout",
     "output_type": "stream",
     "text": [
      ", 1500\n",
      "END\n",
      "1500\n"
     ]
    }
   ],
   "source": [
    "res = 0\n",
    "s = ''\n",
    "while True:\n",
    "    s = input()\n",
    "    if s == 'END':\n",
    "        break\n",
    "    else:\n",
    "        pr = s.split(', ')[-1]\n",
    "        pr = int(pr)\n",
    "        if pr > 1000 and pr % 500 == 0:\n",
    "            res += pr\n",
    "print(res)"
   ]
  },
  {
   "cell_type": "code",
   "execution_count": 11,
   "id": "23938e1d",
   "metadata": {},
   "outputs": [
    {
     "data": {
      "text/plain": [
       "1000"
      ]
     },
     "execution_count": 11,
     "metadata": {},
     "output_type": "execute_result"
    }
   ],
   "source": [
    "int('  1000')"
   ]
  },
  {
   "cell_type": "markdown",
   "id": "0d1b37c9",
   "metadata": {},
   "source": [
    "Реализуйте программу, определяющую компании, в которых доходы превысили расходы: \n",
    "\n",
    "* На первой строке через пробел вводятся названия компаний.\n",
    "* На второй строке через пробел вводятся целые числа — доходы каждой компании.\n",
    "* На третьей строке через пробел вводятся целые числа — расходы каждой компании.\n",
    "* Каждое значение доходов и расходов соответствует своей компании (первое — первой, второе — второй и т.д.).\n",
    "* Гарантируется, что будет введена информация минимум об одной компании. Программа должна определять компании, где доходы превысили расходы.\n",
    "* В конце программа печатает отсортированный по алфавиту список с названиями компаний, которые удовлетворяют условию. \n",
    "* Если таких компаний нет, программа печатает пустой список."
   ]
  },
  {
   "cell_type": "markdown",
   "id": "cde75646",
   "metadata": {},
   "source": [
    "Странник Грузик МыПоможем! Лучший XXIвек Мастер-на-час Избранный\n",
    "189 293 9223 892 495 193 444\n",
    "890 482 8900 892 400 100 300"
   ]
  },
  {
   "cell_type": "code",
   "execution_count": 27,
   "id": "85604392",
   "metadata": {},
   "outputs": [
    {
     "ename": "KeyboardInterrupt",
     "evalue": "Interrupted by user",
     "output_type": "error",
     "traceback": [
      "\u001b[1;31m---------------------------------------------------------------------------\u001b[0m",
      "\u001b[1;31mKeyboardInterrupt\u001b[0m                         Traceback (most recent call last)",
      "Cell \u001b[1;32mIn[27], line 1\u001b[0m\n\u001b[1;32m----> 1\u001b[0m companyes \u001b[38;5;241m=\u001b[39m \u001b[38;5;28minput\u001b[39m()\u001b[38;5;241m.\u001b[39msplit()\n\u001b[0;32m      2\u001b[0m income \u001b[38;5;241m=\u001b[39m \u001b[38;5;28mlist\u001b[39m(\u001b[38;5;28mmap\u001b[39m(\u001b[38;5;28mint\u001b[39m, \u001b[38;5;28minput\u001b[39m()\u001b[38;5;241m.\u001b[39msplit()))\n\u001b[0;32m      3\u001b[0m costs \u001b[38;5;241m=\u001b[39m \u001b[38;5;28mlist\u001b[39m(\u001b[38;5;28mmap\u001b[39m(\u001b[38;5;28mint\u001b[39m, \u001b[38;5;28minput\u001b[39m()\u001b[38;5;241m.\u001b[39msplit()))\n",
      "File \u001b[1;32m~\\anaconda3\\Lib\\site-packages\\ipykernel\\kernelbase.py:1262\u001b[0m, in \u001b[0;36mKernel.raw_input\u001b[1;34m(self, prompt)\u001b[0m\n\u001b[0;32m   1260\u001b[0m     msg \u001b[38;5;241m=\u001b[39m \u001b[38;5;124m\"\u001b[39m\u001b[38;5;124mraw_input was called, but this frontend does not support input requests.\u001b[39m\u001b[38;5;124m\"\u001b[39m\n\u001b[0;32m   1261\u001b[0m     \u001b[38;5;28;01mraise\u001b[39;00m StdinNotImplementedError(msg)\n\u001b[1;32m-> 1262\u001b[0m \u001b[38;5;28;01mreturn\u001b[39;00m \u001b[38;5;28mself\u001b[39m\u001b[38;5;241m.\u001b[39m_input_request(\n\u001b[0;32m   1263\u001b[0m     \u001b[38;5;28mstr\u001b[39m(prompt),\n\u001b[0;32m   1264\u001b[0m     \u001b[38;5;28mself\u001b[39m\u001b[38;5;241m.\u001b[39m_parent_ident[\u001b[38;5;124m\"\u001b[39m\u001b[38;5;124mshell\u001b[39m\u001b[38;5;124m\"\u001b[39m],\n\u001b[0;32m   1265\u001b[0m     \u001b[38;5;28mself\u001b[39m\u001b[38;5;241m.\u001b[39mget_parent(\u001b[38;5;124m\"\u001b[39m\u001b[38;5;124mshell\u001b[39m\u001b[38;5;124m\"\u001b[39m),\n\u001b[0;32m   1266\u001b[0m     password\u001b[38;5;241m=\u001b[39m\u001b[38;5;28;01mFalse\u001b[39;00m,\n\u001b[0;32m   1267\u001b[0m )\n",
      "File \u001b[1;32m~\\anaconda3\\Lib\\site-packages\\ipykernel\\kernelbase.py:1305\u001b[0m, in \u001b[0;36mKernel._input_request\u001b[1;34m(self, prompt, ident, parent, password)\u001b[0m\n\u001b[0;32m   1302\u001b[0m \u001b[38;5;28;01mexcept\u001b[39;00m \u001b[38;5;167;01mKeyboardInterrupt\u001b[39;00m:\n\u001b[0;32m   1303\u001b[0m     \u001b[38;5;66;03m# re-raise KeyboardInterrupt, to truncate traceback\u001b[39;00m\n\u001b[0;32m   1304\u001b[0m     msg \u001b[38;5;241m=\u001b[39m \u001b[38;5;124m\"\u001b[39m\u001b[38;5;124mInterrupted by user\u001b[39m\u001b[38;5;124m\"\u001b[39m\n\u001b[1;32m-> 1305\u001b[0m     \u001b[38;5;28;01mraise\u001b[39;00m \u001b[38;5;167;01mKeyboardInterrupt\u001b[39;00m(msg) \u001b[38;5;28;01mfrom\u001b[39;00m \u001b[38;5;28;01mNone\u001b[39;00m\n\u001b[0;32m   1306\u001b[0m \u001b[38;5;28;01mexcept\u001b[39;00m \u001b[38;5;167;01mException\u001b[39;00m:\n\u001b[0;32m   1307\u001b[0m     \u001b[38;5;28mself\u001b[39m\u001b[38;5;241m.\u001b[39mlog\u001b[38;5;241m.\u001b[39mwarning(\u001b[38;5;124m\"\u001b[39m\u001b[38;5;124mInvalid Message:\u001b[39m\u001b[38;5;124m\"\u001b[39m, exc_info\u001b[38;5;241m=\u001b[39m\u001b[38;5;28;01mTrue\u001b[39;00m)\n",
      "\u001b[1;31mKeyboardInterrupt\u001b[0m: Interrupted by user"
     ]
    }
   ],
   "source": [
    "companyes = input().split()\n",
    "income = list(map(int, input().split()))\n",
    "costs = list(map(int, input().split()))\n",
    "print(sorted([companyes[i] for i in range(len(income)) if (income[i] - costs[i]) > 0]))"
   ]
  },
  {
   "cell_type": "code",
   "execution_count": 23,
   "id": "a446c094",
   "metadata": {},
   "outputs": [
    {
     "name": "stdout",
     "output_type": "stream",
     "text": [
      "None\n"
     ]
    }
   ],
   "source": [
    "print([companyes[i] for i in range(len(income)) if (income[i] - costs[i]) > 0].sort())"
   ]
  },
  {
   "cell_type": "code",
   "execution_count": 24,
   "id": "fad952f2",
   "metadata": {},
   "outputs": [
    {
     "data": {
      "text/plain": [
       "(['Странник',\n",
       "  'Грузик',\n",
       "  'МыПоможем!',\n",
       "  'Лучший',\n",
       "  'XXIвек',\n",
       "  'Мастер-на-час',\n",
       "  'Избранный'],\n",
       " [189, 293, 9223, 892, 495, 193, 444],\n",
       " [890, 482, 8900, 892, 400, 100, 300])"
      ]
     },
     "execution_count": 24,
     "metadata": {},
     "output_type": "execute_result"
    }
   ],
   "source": [
    "companyes, income, costs"
   ]
  },
  {
   "cell_type": "markdown",
   "id": "b15dc935",
   "metadata": {},
   "source": [
    "Реализуйте программу, считающую сбережения компаний:\n",
    "\n",
    "* Дан словарь banks, где ключи — это названия банков, а значения — словари (где ключи — названия компаний, а значения — суммы на счетах этих компаний). Этот код уже написан.\n",
    "* Считывается название компании.\n",
    "* Определите, каким суммарным количеством средств обладает указанная компания, и напечатайте это число."
   ]
  },
  {
   "cell_type": "code",
   "execution_count": 28,
   "id": "ca433625",
   "metadata": {},
   "outputs": [],
   "source": [
    "banks = {\n",
    "    'Сберегу': {'Грузик': -900, 'МыЛучшие': 300, 'Петрович': -455},\n",
    "    'Великий Банк': {'Петрович': 890, 'Грузик': -780},\n",
    "    'АвиаБанк': {'МыЛучшие': 450, 'Грузик': 300},\n",
    "    'Love_банк': {'Петрович': -400, 'Изба': 900, 'Грузик': 450}\n",
    "}\n"
   ]
  },
  {
   "cell_type": "code",
   "execution_count": 30,
   "id": "d94d334c",
   "metadata": {},
   "outputs": [
    {
     "name": "stdout",
     "output_type": "stream",
     "text": [
      "Грузик\n"
     ]
    }
   ],
   "source": [
    "company = input()\n",
    "wealth = 0\n",
    "for bank in banks:\n",
    "    wealth += banks[bank].get(company, 0)\n",
    "print(wealth)"
   ]
  },
  {
   "cell_type": "code",
   "execution_count": 31,
   "id": "209fbe84",
   "metadata": {},
   "outputs": [
    {
     "data": {
      "text/plain": [
       "-930"
      ]
     },
     "execution_count": 31,
     "metadata": {},
     "output_type": "execute_result"
    }
   ],
   "source": [
    "wealth"
   ]
  },
  {
   "cell_type": "code",
   "execution_count": 37,
   "id": "62f2be34",
   "metadata": {},
   "outputs": [
    {
     "name": "stdout",
     "output_type": "stream",
     "text": [
      "Оля:0\n"
     ]
    },
    {
     "data": {
      "text/plain": [
       "0"
      ]
     },
     "execution_count": 37,
     "metadata": {},
     "output_type": "execute_result"
    }
   ],
   "source": [
    "sum([int(i.split(':')[1]) for i in input().split(', ')])"
   ]
  },
  {
   "cell_type": "code",
   "execution_count": 38,
   "id": "67226936",
   "metadata": {},
   "outputs": [
    {
     "data": {
      "text/plain": [
       "(700, -700)"
      ]
     },
     "execution_count": 38,
     "metadata": {},
     "output_type": "execute_result"
    }
   ],
   "source": [
    "int('+700'), int('-700')"
   ]
  },
  {
   "cell_type": "code",
   "execution_count": 51,
   "id": "967af122",
   "metadata": {},
   "outputs": [
    {
     "name": "stdout",
     "output_type": "stream",
     "text": [
      "15.01.2023,+700\n",
      "20.01.2023,+450\n",
      "21.01.2023,+600\n",
      "23.01.2023,+1450\n"
     ]
    }
   ],
   "source": [
    "with open('data.csv', 'r', encoding='utf-8') as f:\n",
    "    for line in f:\n",
    "        if '+' in line and int(line.split(',')[-1]) > 400:\n",
    "            print(line, end ='')"
   ]
  },
  {
   "cell_type": "code",
   "execution_count": 61,
   "id": "ae1424d9",
   "metadata": {},
   "outputs": [
    {
     "data": {
      "text/plain": [
       "['стол: 2 шт. 300 руб.',\n",
       " ' стул: 8 шт. 2800 руб.',\n",
       " ' шкаф: 1 шт. 900 руб.',\n",
       " ' комод: 6 шт. 3300 руб.',\n",
       " ' люстра: 2 шт. 1000 руб.',\n",
       " ' подвесной шкаф: 2 шт. 50 руб.']"
      ]
     },
     "execution_count": 61,
     "metadata": {},
     "output_type": "execute_result"
    }
   ],
   "source": [
    "string.split(',')"
   ]
  },
  {
   "cell_type": "code",
   "execution_count": 65,
   "id": "0cfaeebb",
   "metadata": {},
   "outputs": [
    {
     "data": {
      "text/plain": [
       "21"
      ]
     },
     "execution_count": 65,
     "metadata": {},
     "output_type": "execute_result"
    }
   ],
   "source": [
    "sum([int(j.split()[0]) for j in [i.split(': ')[1] for i in string.split(',')]])"
   ]
  },
  {
   "cell_type": "markdown",
   "id": "50675a58",
   "metadata": {},
   "source": [
    "dict_variable = {key:value for key, value in dictonary.items()}"
   ]
  },
  {
   "cell_type": "code",
   "execution_count": 67,
   "id": "8189a207",
   "metadata": {},
   "outputs": [],
   "source": [
    "inp = 'Тинькофф: Python, SQL, C++, Docker; Открытие: SQL, Python, Power BI; Сбер: Power BI, R, C++, Apache; Совкомбанк: Excel, SQL, R, Python'"
   ]
  },
  {
   "cell_type": "code",
   "execution_count": 68,
   "id": "1135d07f",
   "metadata": {},
   "outputs": [
    {
     "data": {
      "text/plain": [
       "'Тинькофф: Python, SQL, C++, Docker; Открытие: SQL, Python, Power BI; Сбер: Power BI, R, C++, Apache; Совкомбанк: Excel, SQL, R, Python'"
      ]
     },
     "execution_count": 68,
     "metadata": {},
     "output_type": "execute_result"
    }
   ],
   "source": [
    "inp"
   ]
  },
  {
   "cell_type": "code",
   "execution_count": 83,
   "id": "c6c106ec",
   "metadata": {},
   "outputs": [
    {
     "name": "stdout",
     "output_type": "stream",
     "text": [
      "Python\n",
      "Тинькофф, Открытие, Совкомбанк\n"
     ]
    }
   ],
   "source": [
    "# inp = input()\n",
    "skill = input()\n",
    "skills = {k:v for k,v in[i.split(':') for i in inp.split(';')]}\n",
    "companies = []\n",
    "\n",
    "for k in skills:\n",
    "    if skill in skills[k]:\n",
    "        companies.append(k)\n",
    "print(*companies, sep = ',')\n",
    "        "
   ]
  },
  {
   "cell_type": "code",
   "execution_count": 84,
   "id": "cefee40e",
   "metadata": {},
   "outputs": [],
   "source": [
    "inp_ = 'Болгария: 40.0, 39.7, 38.4; Эстония: 30.5, 30.6, 31.9; Латвия: 34.5, 35.7, 34.3; Польша: 27.2, 26.8, 26.3'"
   ]
  },
  {
   "cell_type": "code",
   "execution_count": 99,
   "id": "f491d19e",
   "metadata": {},
   "outputs": [
    {
     "name": "stdout",
     "output_type": "stream",
     "text": [
      "Польша\n",
      "Эстония\n",
      "Латвия\n",
      "Болгария\n"
     ]
    }
   ],
   "source": [
    "# inp_.split('; ')\n",
    "\n",
    "print(*[y[0] for y in sorted({k:[float(_) for _ in v.split(', ')] for k,v in[i.split(': ') for i in inp_.split('; ')]}.items(), key = lambda x: x[1][0])], sep = '\\n')"
   ]
  },
  {
   "cell_type": "code",
   "execution_count": 128,
   "id": "e04033dd",
   "metadata": {},
   "outputs": [
    {
     "name": "stdout",
     "output_type": "stream",
     "text": [
      "Боливия\n"
     ]
    }
   ],
   "source": [
    "deb_lst = []\n",
    "deb_dict = {}\n",
    "with open('balance.txt', 'r', encoding='utf-8') as f:\n",
    "    for line in f:\n",
    "        deb_lst += [x.split(', ')[0::2] for x in (line.strip().split('; ')) if 'кредит' in x]\n",
    "\n",
    "for el in deb_lst:\n",
    "    deb_dict[el[0]] = deb_dict.get(el[0], 0) + int(el[1])\n",
    "\n",
    "print(sorted(deb_dict.items(), key = lambda x: x[1],reverse=True)[0][0])"
   ]
  },
  {
   "cell_type": "code",
   "execution_count": 138,
   "id": "4d6851c5",
   "metadata": {},
   "outputs": [
    {
     "data": {
      "text/plain": [
       "['Россия-Китай-300',\n",
       " 'Куба-США-900',\n",
       " 'Куба-Канада-750',\n",
       " 'Италия-Россия-800',\n",
       " 'Индия-Испания-800',\n",
       " 'Китай-Индия-800',\n",
       " 'США-Китай-790',\n",
       " 'Куба-Китай-700',\n",
       " 'Куба-Россия-120',\n",
       " 'Италия-Испания-500',\n",
       " 'Индия-Куба-700',\n",
       " 'Италия-Китай-600',\n",
       " 'Россия-Беларусь-700',\n",
       " 'США-Россия-680',\n",
       " 'Италия-Испания-400',\n",
       " 'Куба-Индия-600',\n",
       " 'Италия-Россия-800',\n",
       " 'Индия-Китай-500',\n",
       " 'США-Индия-560',\n",
       " 'Испания-Португалия-700',\n",
       " 'Беларусь-Португалия-600']"
      ]
     },
     "execution_count": 138,
     "metadata": {},
     "output_type": "execute_result"
    }
   ],
   "source": [
    "data = ''\n",
    "\n",
    "with open('budget.txt', 'r', encoding='utf-8') as f:\n",
    "    for line in f:\n",
    "        data += line.strip() + ' '\n",
    "data.split()"
   ]
  },
  {
   "cell_type": "code",
   "execution_count": 166,
   "id": "d156fb10",
   "metadata": {},
   "outputs": [],
   "source": [
    "result = {}\n",
    "\n",
    "for i in data.split():\n",
    "    c_from, c_to, price = i.split('-')\n",
    "    price = int(price)\n",
    "    if c_from not in result:\n",
    "        result[c_from] = [[c_to], price]\n",
    "    else:\n",
    "        result[c_from][0].append(c_to)\n",
    "        result[c_from][1] += price    "
   ]
  },
  {
   "cell_type": "code",
   "execution_count": 167,
   "id": "d32b7c32",
   "metadata": {},
   "outputs": [
    {
     "data": {
      "text/plain": [
       "{'Россия': [['Китай', 'Беларусь'], 1000],\n",
       " 'Куба': [['США', 'Канада', 'Китай', 'Россия', 'Индия'], 3070],\n",
       " 'Италия': [['Россия', 'Испания', 'Китай', 'Испания', 'Россия'], 3100],\n",
       " 'Индия': [['Испания', 'Куба', 'Китай'], 2000],\n",
       " 'Китай': [['Индия'], 800],\n",
       " 'США': [['Китай', 'Россия', 'Индия'], 2030],\n",
       " 'Испания': [['Португалия'], 700],\n",
       " 'Беларусь': [['Португалия'], 600]}"
      ]
     },
     "execution_count": 167,
     "metadata": {},
     "output_type": "execute_result"
    }
   ],
   "source": [
    "result"
   ]
  },
  {
   "cell_type": "raw",
   "id": "bbc61a3b",
   "metadata": {},
   "source": [
    "\t\n",
    "\n",
    "FILE:\n",
    "Беларусь выплатил/а деньги следующим странам: Португалия\n",
    "Сумма выплат составила 600\n",
    "Индия выплатил/а деньги следующим странам: Испания, Китай, Куба\n",
    "Сумма выплат составила 2000\n",
    "Испания выплатил/а деньги следующим странам: Португалия\n",
    "Сумма выплат составила 700\n",
    "Италия выплатил/а деньги следующим странам: Испания, Китай, Россия\n",
    "Сумма выплат составила 3100\n",
    "Китай выплатил/а деньги следующим странам: Индия\n",
    "Сумма выплат составила 800\n",
    "Куба выплатил/а деньги следующим странам: Индия, Канада, Китай, Россия, США\n",
    "Сумма выплат составила 3070\n",
    "Россия выплатил/а деньги следующим странам: Беларусь, Китай\n",
    "Сумма выплат составила 1000\n",
    "США выплатил/а деньги следующим странам: Индия, Китай, Россия\n",
    "Сумма выплат составила 2030\n",
    "===\n",
    "Больше всего выплат (3100) совершил/а Италия"
   ]
  },
  {
   "cell_type": "code",
   "execution_count": 168,
   "id": "c2a88c90",
   "metadata": {},
   "outputs": [],
   "source": [
    "to_file = sorted(result.items())"
   ]
  },
  {
   "cell_type": "code",
   "execution_count": 178,
   "id": "856b4bf8",
   "metadata": {},
   "outputs": [],
   "source": [
    "resString = ''\n",
    "for _ in to_file:\n",
    "    resString += f'{_[0]} выплатил/а деньги следующим странам: {\", \".join(set(sorted(_[1][0])))}\\nСумма выплат составила {_[1][1]}\\n'\n",
    "resString += '===\\n'\n",
    "\n",
    "maxi = 0\n",
    "for _ in to_file:\n",
    "    if _[1][1] > maxi:\n",
    "        maxi = _[1][1]\n",
    "        maxi_c = _[0]\n",
    "resString += f'Больше всего выплат {maxi} совершил/а {maxi_c}'"
   ]
  },
  {
   "cell_type": "code",
   "execution_count": 175,
   "id": "45c4eebb",
   "metadata": {},
   "outputs": [
    {
     "data": {
      "text/plain": [
       "[('Беларусь', [['Португалия'], 600]),\n",
       " ('Индия', [['Испания', 'Куба', 'Китай'], 2000]),\n",
       " ('Испания', [['Португалия'], 700]),\n",
       " ('Италия', [['Россия', 'Испания', 'Китай', 'Испания', 'Россия'], 3100]),\n",
       " ('Китай', [['Индия'], 800]),\n",
       " ('Куба', [['США', 'Канада', 'Китай', 'Россия', 'Индия'], 3070]),\n",
       " ('Россия', [['Китай', 'Беларусь'], 1000]),\n",
       " ('США', [['Китай', 'Россия', 'Индия'], 2030])]"
      ]
     },
     "execution_count": 175,
     "metadata": {},
     "output_type": "execute_result"
    }
   ],
   "source": [
    "to_file"
   ]
  },
  {
   "cell_type": "code",
   "execution_count": 180,
   "id": "b22b3082",
   "metadata": {},
   "outputs": [],
   "source": [
    "with open('result.txt', 'w', encoding='utf-8') as outfile:r\n",
    "    print(resString, file = outfile)"
   ]
  },
  {
   "cell_type": "code",
   "execution_count": 4,
   "id": "60679a57",
   "metadata": {},
   "outputs": [
    {
     "name": "stdout",
     "output_type": "stream",
     "text": [
      "картошка: 160, 130, 160\n",
      "укроп: 40, 30, 40\n",
      "морковь: 70, 70, 80\n",
      "яблоки: 220, 230, 240\n",
      "клубника: 180, 190, 170\n",
      "черника: 90, 100, 110\n",
      "помидоры: 80, 80, 70\n",
      "конец\n",
      "черника, укроп, яблоки\n",
      "350\n"
     ]
    },
    {
     "ename": "ValueError",
     "evalue": "351 is not in list",
     "output_type": "error",
     "traceback": [
      "\u001b[1;31m---------------------------------------------------------------------------\u001b[0m",
      "\u001b[1;31mValueError\u001b[0m                                Traceback (most recent call last)",
      "Cell \u001b[1;32mIn[4], line 21\u001b[0m\n\u001b[0;32m     19\u001b[0m res \u001b[38;5;241m=\u001b[39m [first, second, third]\n\u001b[0;32m     20\u001b[0m \u001b[38;5;28mprint\u001b[39m(\u001b[38;5;28mmin\u001b[39m(res))\n\u001b[1;32m---> 21\u001b[0m \u001b[38;5;28mprint\u001b[39m(res\u001b[38;5;241m.\u001b[39mindex(\u001b[38;5;28mmin\u001b[39m(res) \u001b[38;5;241m+\u001b[39m \u001b[38;5;241m1\u001b[39m))\n",
      "\u001b[1;31mValueError\u001b[0m: 351 is not in list"
     ]
    }
   ],
   "source": [
    "priceDB = {}\n",
    "inpStr = input()\n",
    "while inpStr:\n",
    "    if inpStr == 'конец':\n",
    "        break\n",
    "    else:\n",
    "        k, v = inpStr.split(':')\n",
    "        v = list(map(int,(v.split(', '))))\n",
    "        priceDB[k] = v\n",
    "    inpStr = input()\n",
    "prdLst = input().split(', ')\n",
    "first = 0\n",
    "second = 0\n",
    "third = 0\n",
    "for prd in prdLst:\n",
    "    first += priceDB[prd][0]\n",
    "    second += priceDB[prd][1]\n",
    "    third += priceDB[prd][2]\n",
    "res = [first, second, third]\n",
    "print(min(res))\n",
    "print(res.index(min(res)) + 1)\n"
   ]
  },
  {
   "cell_type": "code",
   "execution_count": 2,
   "id": "52dcee4c",
   "metadata": {},
   "outputs": [
    {
     "data": {
      "text/plain": [
       "{'Картошка': [150, 120, 130], 'Моркошка': [130, 300, 100]}"
      ]
     },
     "execution_count": 2,
     "metadata": {},
     "output_type": "execute_result"
    }
   ],
   "source": [
    "priceDB"
   ]
  },
  {
   "cell_type": "code",
   "execution_count": 3,
   "id": "bfe7fcf8",
   "metadata": {},
   "outputs": [
    {
     "data": {
      "text/plain": [
       "['Моркошка']"
      ]
     },
     "execution_count": 3,
     "metadata": {},
     "output_type": "execute_result"
    }
   ],
   "source": [
    "prdLst"
   ]
  },
  {
   "cell_type": "code",
   "execution_count": 7,
   "id": "2b211c40",
   "metadata": {},
   "outputs": [
    {
     "data": {
      "text/plain": [
       "1211.745"
      ]
     },
     "execution_count": 7,
     "metadata": {},
     "output_type": "execute_result"
    }
   ],
   "source": [
    "sum([999.0, 1424.49])/len([999.0, 1424.49])"
   ]
  }
 ],
 "metadata": {
  "kernelspec": {
   "display_name": "Python 3 (ipykernel)",
   "language": "python",
   "name": "python3"
  },
  "language_info": {
   "codemirror_mode": {
    "name": "ipython",
    "version": 3
   },
   "file_extension": ".py",
   "mimetype": "text/x-python",
   "name": "python",
   "nbconvert_exporter": "python",
   "pygments_lexer": "ipython3",
   "version": "3.11.7"
  }
 },
 "nbformat": 4,
 "nbformat_minor": 5
}
