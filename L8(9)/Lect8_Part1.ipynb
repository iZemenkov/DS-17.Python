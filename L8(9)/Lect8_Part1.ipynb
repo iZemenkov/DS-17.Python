{
 "cells": [
  {
   "cell_type": "markdown",
   "metadata": {},
   "source": [
    "# Регулярные выражения (Regular Expressions)"
   ]
  },
  {
   "cell_type": "code",
   "execution_count": 26,
   "metadata": {},
   "outputs": [],
   "source": [
    "import re\n",
    "from datetime import datetime"
   ]
  },
  {
   "cell_type": "markdown",
   "metadata": {},
   "source": [
    "### Задача. Извлечь информацию из html-файла\n",
    "\n",
    "Допустим, нам надо извлечь информацию из html-файла, заключенную между `<td>` и `</td>` (из таблицы), кроме первого столбца с номером. Также будем считать, что html-код содержится в строке.\n",
    "\n",
    "Пример содержимого html-файла:"
   ]
  },
  {
   "cell_type": "code",
   "execution_count": 2,
   "metadata": {},
   "outputs": [
    {
     "data": {
      "text/plain": [
       "'1NoahEmma2LiamOlivia3MasonSophia4JacobIsabella5WilliamAva6EthanMia7MichaelEmily'"
      ]
     },
     "execution_count": 2,
     "metadata": {},
     "output_type": "execute_result"
    }
   ],
   "source": [
    "test_str = \"1NoahEmma2LiamOlivia3MasonSophia4JacobIsabella5WilliamAva6EthanMia7MichaelEmily\"\n",
    "test_str"
   ]
  },
  {
   "cell_type": "markdown",
   "metadata": {},
   "source": [
    "Для лучшего понимания строки, распишем ее в другом виде:\n",
    "\n",
    "1. NoahEmma\n",
    "2. LiamOlivia\n",
    "3. MasonSophia\n",
    "4. ...\n",
    "\n",
    "Сначала мы ищем число, которое будет у нас означать начало новой строки в таблице (стартовую позицию поиска в строке) `\\d`. После этого мы указываем, что имя начинается с заглавной буквы `[A-Z]`. Получим число и первую букву имени."
   ]
  },
  {
   "cell_type": "code",
   "execution_count": 3,
   "metadata": {},
   "outputs": [
    {
     "data": {
      "text/plain": [
       "['1N', '2L', '3M', '4J', '5W', '6E', '7M']"
      ]
     },
     "execution_count": 3,
     "metadata": {},
     "output_type": "execute_result"
    }
   ],
   "source": [
    "re.findall(r'\\d[A-Z]', test_str)"
   ]
  },
  {
   "cell_type": "markdown",
   "metadata": {},
   "source": [
    "Далее забираем основную часть имени `[a-z]`, там уже строчные буквы. Используем модификатор `+`, чтобы взять все буквы."
   ]
  },
  {
   "cell_type": "code",
   "execution_count": 4,
   "metadata": {},
   "outputs": [
    {
     "data": {
      "text/plain": [
       "['1Noah', '2Liam', '3Mason', '4Jacob', '5William', '6Ethan', '7Michael']"
      ]
     },
     "execution_count": 4,
     "metadata": {},
     "output_type": "execute_result"
    }
   ],
   "source": [
    "re.findall(r'\\d[A-Z][a-z]+', test_str)"
   ]
  },
  {
   "cell_type": "markdown",
   "metadata": {},
   "source": [
    "Но у нас в начале есть номер и имя с фамилией слеплены вместе. Сначала разберемся с номером: `()` позволяют нам указать, что мы будем выводить `([A-Z][a-z]+)`, число останется вне вывода и будет использоваться только для определения позиции следующего применения паттерна."
   ]
  },
  {
   "cell_type": "code",
   "execution_count": 5,
   "metadata": {},
   "outputs": [
    {
     "data": {
      "text/plain": [
       "['Noah', 'Liam', 'Mason', 'Jacob', 'William', 'Ethan', 'Michael']"
      ]
     },
     "execution_count": 5,
     "metadata": {},
     "output_type": "execute_result"
    }
   ],
   "source": [
    "re.findall(r'\\d([A-Z][a-z]+)', test_str)"
   ]
  },
  {
   "cell_type": "markdown",
   "metadata": {},
   "source": [
    "Теперь займемся фамилией. По условию задачи мы знаем, что фамилия тоже начинается с заглавной буквы. Поэтому мы укажем второй (аналогичный имени) паттерн и занесем его в `()` для отдельного вывода"
   ]
  },
  {
   "cell_type": "code",
   "execution_count": 7,
   "metadata": {},
   "outputs": [
    {
     "data": {
      "text/plain": [
       "[('Noah', 'Emma'),\n",
       " ('Liam', 'Olivia'),\n",
       " ('Mason', 'Sophia'),\n",
       " ('Jacob', 'Isabella'),\n",
       " ('William', 'Ava'),\n",
       " ('Ethan', 'Mia'),\n",
       " ('Michael', 'Emily')]"
      ]
     },
     "execution_count": 7,
     "metadata": {},
     "output_type": "execute_result"
    }
   ],
   "source": [
    "re.findall(r'\\d([A-Z][a-z]+)([A-Z][a-z]+)', test_str)"
   ]
  },
  {
   "cell_type": "markdown",
   "metadata": {},
   "source": [
    "Как видно по выводу, фамилия теперь отображается как второй элемент первого вывода паттерна."
   ]
  },
  {
   "cell_type": "markdown",
   "metadata": {},
   "source": [
    "### Задача 5. Поиск однокоренных слов\n",
    "\n",
    "Нужно в тексте найти все однокоренные слова. Будем выполнять на данной скороговорке:\n",
    "\n",
    "Рыла свинья белорыла, тупорыла; полдвора рылом изрыла, вырыла, подрыла."
   ]
  },
  {
   "cell_type": "code",
   "execution_count": 8,
   "metadata": {},
   "outputs": [
    {
     "data": {
      "text/plain": [
       "'Рыла свинья белорыла, тупорыла; полдвора рылом изрыла, вырыла, подрыла.'"
      ]
     },
     "execution_count": 8,
     "metadata": {},
     "output_type": "execute_result"
    }
   ],
   "source": [
    "pig = \"Рыла свинья белорыла, тупорыла; полдвора рылом изрыла, вырыла, подрыла.\"\n",
    "pig"
   ]
  },
  {
   "cell_type": "markdown",
   "metadata": {},
   "source": [
    "Корень может быть как в начале слова, так и где-то в середине. Поэтому учтем это. Сначала у нас могут быть буквы `[а-яА-Я]` длиной от 0 до бесконечности `*`"
   ]
  },
  {
   "cell_type": "code",
   "execution_count": 10,
   "metadata": {},
   "outputs": [
    {
     "data": {
      "text/plain": [
       "['Рыла',\n",
       " '',\n",
       " 'свинья',\n",
       " '',\n",
       " 'белорыла',\n",
       " '',\n",
       " '',\n",
       " 'тупорыла',\n",
       " '',\n",
       " '',\n",
       " 'полдвора',\n",
       " '',\n",
       " 'рылом',\n",
       " '',\n",
       " 'изрыла',\n",
       " '',\n",
       " '',\n",
       " 'вырыла',\n",
       " '',\n",
       " '',\n",
       " 'подрыла',\n",
       " '',\n",
       " '']"
      ]
     },
     "execution_count": 10,
     "metadata": {},
     "output_type": "execute_result"
    }
   ],
   "source": [
    "re.findall(r'[а-яА-Я]*', \"Рыла свинья белорыла, тупорыла; полдвора рылом изрыла, вырыла, подрыла.\")"
   ]
  },
  {
   "cell_type": "markdown",
   "metadata": {},
   "source": [
    "Нам попались все слова и пробелы, так как `*`. Далее будем искать наш корень. Нам нужно точное совпадение с `рыл` или `Рыл` для случая с началом предложения `(?:рыл|Рыл)`. `|` говорит нам о выборе между `рыл` и `Рыл`, т.е. подойдет любой из них.\n",
    "\n",
    "Что делает `(?:)` ? Этот символ помогает нам вернуть последовательность полностью. Выше мы уже видели, что, то, что последовательность в скобках соответствует формату вывода. В этом случае `(?:)` это меняет: если последовательность символов подходит ВСЕМУ шаблону, то оно и будет возвращено функцией findall.\n",
    "\n",
    "Но если мы уберем ?:, то любая последовательность подходящая под внутренний паттерн скобок будет выведена."
   ]
  },
  {
   "cell_type": "code",
   "execution_count": 11,
   "metadata": {},
   "outputs": [
    {
     "data": {
      "text/plain": [
       "['Рыл', 'белорыл', 'тупорыл', 'рыл', 'изрыл', 'вырыл', 'подрыл']"
      ]
     },
     "execution_count": 11,
     "metadata": {},
     "output_type": "execute_result"
    }
   ],
   "source": [
    "re.findall(r'[а-яА-Я]*(?:рыл|Рыл)', \"Рыла свинья белорыла, тупорыла; полдвора рылом изрыла, вырыла, подрыла.\")"
   ]
  },
  {
   "cell_type": "code",
   "execution_count": 12,
   "metadata": {},
   "outputs": [
    {
     "data": {
      "text/plain": [
       "['Рыл', 'рыл', 'рыл', 'рыл', 'рыл', 'рыл', 'рыл']"
      ]
     },
     "execution_count": 12,
     "metadata": {},
     "output_type": "execute_result"
    }
   ],
   "source": [
    "re.findall(r'[а-яА-Я]*(рыл|Рыл)', \"Рыла свинья белорыла, тупорыла; полдвора рылом изрыла, вырыла, подрыла.\")"
   ]
  },
  {
   "cell_type": "markdown",
   "metadata": {},
   "source": [
    "Есть начало слова и его корень. Осталось добавить окончание. Все аналогично началу слова:"
   ]
  },
  {
   "cell_type": "code",
   "execution_count": 14,
   "metadata": {},
   "outputs": [
    {
     "data": {
      "text/plain": [
       "['Рыла', 'белорыла', 'тупорыла', 'рылом', 'изрыла', 'вырыла', 'подрыла']"
      ]
     },
     "execution_count": 14,
     "metadata": {},
     "output_type": "execute_result"
    }
   ],
   "source": [
    "re.findall(r'[а-яА-Я]*(?:рыл|Рыл)[а-яА-Я]*', \"Рыла свинья белорыла, тупорыла; полдвора рылом изрыла, вырыла, подрыла.\")"
   ]
  },
  {
   "cell_type": "markdown",
   "metadata": {},
   "source": [
    "## Группирующие скобки (...)\n",
    "\n",
    "Если в шаблоне регулярного выражения встречаются скобки (...) без ?:, то они становятся группирующими. В match-объекте по каждой такой группе можно получить ту же информацию, что и по всему шаблону. А именно часть подстроки, которая соответствует (...), а также индексы начала и окончания в исходной строке."
   ]
  },
  {
   "cell_type": "code",
   "execution_count": 15,
   "metadata": {},
   "outputs": [
    {
     "name": "stdout",
     "output_type": "stream",
     "text": [
      "Найдена подстрока >   Опять45   < с позиции 3 до 16\n",
      "Группа букв >Опять< с позиции 6 до 11\n",
      "Группа цифр >45< с позиции 11 до 13\n"
     ]
    }
   ],
   "source": [
    "import re \n",
    "pattern = r'\\s*([А-Яа-яЁё]+)(\\d+)\\s*' \n",
    "\n",
    "string = r'---   Опять45   ---' \n",
    "\n",
    "match = re.search(pattern, string) \n",
    "\n",
    "print(f'Найдена подстрока >{match[0]}< с позиции {match.start(0)} до {match.end(0)}') \n",
    "\n",
    "print(f'Группа букв >{match[1]}< с позиции {match.start(1)} до {match.end(1)}') \n",
    "print(f'Группа цифр >{match[2]}< с позиции {match.start(2)} до {match.end(2)}') \n",
    "### \n",
    "# -> Найдена подстрока >   Опять45   < с позиции 3 до 16 \n",
    "# -> Группа букв >Опять< с позиции 6 до 11 \n",
    "# -> Группа цифр >45< с позиции 11 до 13 "
   ]
  },
  {
   "cell_type": "code",
   "execution_count": 16,
   "metadata": {},
   "outputs": [
    {
     "data": {
      "text/plain": [
       "'45'"
      ]
     },
     "execution_count": 16,
     "metadata": {},
     "output_type": "execute_result"
    }
   ],
   "source": [
    "match.group(2)"
   ]
  },
  {
   "cell_type": "markdown",
   "metadata": {},
   "source": [
    "## Заглядывание вперед и назад или позиционные шаблоны\n",
    "\n",
    "Следующие шаблоны применяются в основном в тех случаях, когда нужно уточнить, что должно идти непосредственно перед или после шаблона, но при этом \n",
    "не включать найденное в match-объект."
   ]
  },
  {
   "cell_type": "markdown",
   "metadata": {},
   "source": [
    "* `(?=...)` lookahead assertion, соответствует каждой позиции, сразу после которой начинается соответствие шаблону \n",
    "\n",
    "* `(?!...)` negative lookahead assertion, соответствует каждой позиции, сразу после которой НЕ может начинаться шаблон\n",
    "* `(?<=...)` positive lookbehind assertion, соответствует каждой позиции, которой может заканчиваться шаблон. Длина шаблона должна быть фиксированной, то есть abc и a|b — это ОК, а a* и a{2,3} — нет.\n",
    "\n",
    "* `(?<!...)` negative lookbehind assertion, соответствует каждой позиции, которой НЕ может заканчиваться шаблон"
   ]
  },
  {
   "cell_type": "code",
   "execution_count": 17,
   "metadata": {},
   "outputs": [
    {
     "data": {
      "text/plain": [
       "['ЛюдовикVI', 'ЛюдовикVII', 'ЛюдовикVIII']"
      ]
     },
     "execution_count": 17,
     "metadata": {},
     "output_type": "execute_result"
    }
   ],
   "source": [
    "string = 'КарлIV, КарлIX, КарлV, КарлVI, КарлVII, КарлVIII,ЛюдовикIX, \\\n",
    "ЛюдовикVI, ЛюдовикVII, ЛюдовикVIII, ЛюдовикX, ..., ЛюдовикXVIII, ФилиппI, \\\n",
    "ФилиппII, ФилиппIII, ФилиппIV, ФилиппV, ФилиппVI'\n",
    "\n",
    "# Людовик, после которого первые два символа == VI\n",
    "re.findall(r'Людовик(?=VI)\\w{2,4}',string)"
   ]
  },
  {
   "cell_type": "code",
   "execution_count": 18,
   "metadata": {},
   "outputs": [
    {
     "data": {
      "text/plain": [
       "['ЛюдовикIX', 'ЛюдовикX', 'ЛюдовикXVII']"
      ]
     },
     "execution_count": 18,
     "metadata": {},
     "output_type": "execute_result"
    }
   ],
   "source": [
    "string = 'КарлIV, КарлIX, КарлV, КарлVI, КарлVII, КарлVIII,ЛюдовикIX, \\\n",
    "ЛюдовикVI, ЛюдовикVII, ЛюдовикVIII, ЛюдовикX, ..., ЛюдовикXVIII, ФилиппI, \\\n",
    "ФилиппII, ФилиппIII, ФилиппIV, ФилиппV, ФилиппVI'\n",
    "# Людовик, после которого первые два символа != VI\n",
    "\n",
    "re.findall(r'Людовик(?!VI)\\w{1,4}',string)"
   ]
  },
  {
   "cell_type": "code",
   "execution_count": 19,
   "metadata": {},
   "outputs": [
    {
     "data": {
      "text/plain": [
       "['ЛюдовикVI', 'ЛюдовикVII', 'ЛюдовикVIII']"
      ]
     },
     "execution_count": 19,
     "metadata": {},
     "output_type": "execute_result"
    }
   ],
   "source": [
    "string = 'КарлIV, КарлIX, КарлV, КарлVI, КарлVII, КарлVIII,ЛюдовикIX, \\\n",
    "ЛюдовикVI, ЛюдовикVII, ЛюдовикVIII, ЛюдовикX, ..., ЛюдовикXVIII, ФилиппI, \\\n",
    "ФилиппII, ФилиппIII, ФилиппIV, ФилиппV, ФилиппVI'\n",
    "# цифра, начинающаяся на VI, только если перед ней стоит Людовик\n",
    "\n",
    "re.findall(r'\\w*(?<=Людови.)VI\\w{,2}',string)"
   ]
  },
  {
   "cell_type": "code",
   "execution_count": 20,
   "metadata": {},
   "outputs": [
    {
     "data": {
      "text/plain": [
       "['КарлVI', 'КарлVII', 'КарлVIII', 'ФилиппVI']"
      ]
     },
     "execution_count": 20,
     "metadata": {},
     "output_type": "execute_result"
    }
   ],
   "source": [
    "import re\n",
    "string = 'КарлIV, КарлIX, КарлV, КарлVI, КарлVII, КарлVIII,ЛюдовигIX, \\\n",
    "ЛюдовикVI, ЛюдовикVII, ЛюдовикVIII, ЛюдовикX, ..., ЛюдовикXVIII, ФилиппI, \\\n",
    "ФилиппII, ФилиппIII, ФилиппIV, ФилиппV, ФилиппVI'\n",
    "\n",
    "# цифра, начинающаяся на VI, только если перед ней НЕ стоит Людовик\n",
    "re.findall(r'[а-яА-Я]+(?<!Людови.)VI\\w{,2}',string)"
   ]
  },
  {
   "cell_type": "markdown",
   "metadata": {},
   "source": [
    "## Упражения"
   ]
  },
  {
   "cell_type": "markdown",
   "metadata": {},
   "source": [
    "### 1. Достать из строки имена-фамилии на русском языке"
   ]
  },
  {
   "cell_type": "code",
   "execution_count": 21,
   "metadata": {},
   "outputs": [],
   "source": [
    "users = 'Василий Зайцев, Erwin König, Людмила Павличенко, Josef Allerberger, Matthäus Hetzenauer, Александр Башлачёв'"
   ]
  },
  {
   "cell_type": "code",
   "execution_count": 25,
   "metadata": {},
   "outputs": [
    {
     "data": {
      "text/plain": [
       "[('Василий', 'Зайцев'), ('Людмила', 'Павличенко'), ('Александр', 'Башлачёв')]"
      ]
     },
     "execution_count": 25,
     "metadata": {},
     "output_type": "execute_result"
    }
   ],
   "source": [
    "re.findall(r'([А-Я][а-яё]+)\\s([А-Я][а-яё]+)',users)"
   ]
  },
  {
   "cell_type": "markdown",
   "metadata": {},
   "source": [
    "### 2. Сопоставление даты\n",
    "\n",
    "Предположим, у нас есть строка, содержащая дату в формате `dd/mm/yyyy`. Мы хотим извлечь дату из строки и проверить, является ли она действительной (вдруг там 95/32/2930).\n",
    "\n",
    "Напишите функцию `extract_date(text)`, которая принимает на вход строку `text` и возвращает строку, содержащую извлеченную дату в формате `yyyy-mm-dd`, если дата действительна, или пустую строку, если дата не найдена или не действительна.\n",
    "\n",
    "\n",
    "Используйте функцию `re.search()` для поиска шаблона, который соответствует дате в строке.<br>\n",
    "Используйте функцию `datetime.datetime.strptime()` для преобразования извлеченной строки даты в объект datetime.<br>\n",
    "Используйте функцию `datetime.datetime.strftime()`, чтобы преобразовать объект даты обратно в строку в нужном формате."
   ]
  },
  {
   "cell_type": "code",
   "execution_count": 47,
   "metadata": {},
   "outputs": [],
   "source": [
    "def extract_date(text):\n",
    "    match = re.search(r'\\b\\d{2}/\\d{2}/\\d{4}\\b', text)\n",
    "    if match:\n",
    "        try:\n",
    "            date = datetime.strptime(match.group(), '%d/%m/%Y')\n",
    "            return date.strftime('%Y-%m-%d')\n",
    "        except ValueError:\n",
    "            return None\n",
    "    else:\n",
    "        return None"
   ]
  },
  {
   "cell_type": "code",
   "execution_count": null,
   "metadata": {},
   "outputs": [],
   "source": []
  },
  {
   "cell_type": "code",
   "execution_count": 51,
   "metadata": {},
   "outputs": [
    {
     "data": {
      "text/plain": [
       "'2024-06-13'"
      ]
     },
     "execution_count": 51,
     "metadata": {},
     "output_type": "execute_result"
    }
   ],
   "source": [
    "text = \"Сегодняшняя дата: 13/06/2024\"\n",
    "extract_date(text)"
   ]
  },
  {
   "cell_type": "markdown",
   "metadata": {},
   "source": [
    "### 3. Извлечение URL-адресов\n",
    "\n",
    "Предположим, у нас есть строка, содержащая один или несколько URL-адресов. Мы хотим извлечь URL-адреса из строки и сохранить их в списке.\n",
    "\n",
    "Напишите функцию `extract_urls(text)`, которая принимает на вход строку `text` и возвращает список строк, содержащих извлеченные URL.\n",
    "\n",
    "Используйте функцию `re.findall()` для поиска всех вхождений шаблона, который соответствует URL в строке.<br>\n",
    "Используйте regex-шаблон, который соответствует URL в различных форматах, например http://example.com, https://www.example.com и www.example.com."
   ]
  },
  {
   "cell_type": "code",
   "execution_count": 128,
   "metadata": {},
   "outputs": [],
   "source": [
    "def extract_urls(text):\n",
    "    return re.findall(r'(?:http|www)[.:/A-Za-z]*', text)\n",
    "\n",
    "def extract_urls_2(text):\n",
    "    return re.findall(r'https?://\\S+\\w+|www\\.\\S+\\w+', text)"
   ]
  },
  {
   "cell_type": "code",
   "execution_count": 129,
   "metadata": {
    "scrolled": true
   },
   "outputs": [
    {
     "name": "stdout",
     "output_type": "stream",
     "text": [
      "http://www.example.com https://google.com www.learnonline.hse.ru\n",
      "http://www.example.com https://google.com www.learnonline.hse.ru\n"
     ]
    }
   ],
   "source": [
    "text = \"Посетите мой веб-сайт: http://www.example.com, а также https://google.com и www.learnonline.hse.ru\"\n",
    "print(*extract_urls(text))\n",
    "print(*extract_urls_2(text))"
   ]
  },
  {
   "cell_type": "markdown",
   "metadata": {},
   "source": [
    "30 упражнений на regex на [kaggle](https://www.kaggle.com/code/albeffe/regex-exercises-solutions)"
   ]
  }
 ],
 "metadata": {
  "kernelspec": {
   "display_name": "Python 3 (ipykernel)",
   "language": "python",
   "name": "python3"
  },
  "language_info": {
   "codemirror_mode": {
    "name": "ipython",
    "version": 3
   },
   "file_extension": ".py",
   "mimetype": "text/x-python",
   "name": "python",
   "nbconvert_exporter": "python",
   "pygments_lexer": "ipython3",
   "version": "3.11.7"
  }
 },
 "nbformat": 4,
 "nbformat_minor": 2
}
