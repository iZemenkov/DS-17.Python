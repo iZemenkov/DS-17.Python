{
 "cells": [
  {
   "cell_type": "markdown",
   "id": "37e91e9f",
   "metadata": {},
   "source": [
    "# Библиотеки и модули. Практика"
   ]
  },
  {
   "cell_type": "markdown",
   "id": "49c67883",
   "metadata": {},
   "source": [
    "Если у нас так много разных библиотек, то как найти ту, которая нужна?\n",
    "\n",
    "* Есть сообщество Python с репозиторием разных библиотек: https://pypi.org/\n",
    "    * Сделаем поисковый запрос \"pandas\" и изучим, как описываются библиотеки в этом репозитории.\n",
    "* https://stackoverflow.com/ -- наверное, главный сайт любого программиста (работает только на английском). Выполнен в формате вопросов и ответов с рейтингованием ответов. \n",
    "    * Сделаем поисковый запрос \"generate a list of random numbers\", увидим, как много ответов для абсолютно разных языков программирования. В поиске нужно использовать зарезервированный синтаксис. Например, \"[python] generate a list of random numbers answers:1\" будет искать ответ только среди постов с тегом Python и как минимум одним ответом. Полные правила поиска: https://stackoverflow.com/help/searching\n",
    "    \n",
    "<hr>\n",
    "\n",
    "<img src=\"https://enze-chen.github.io/mi-book-2022/_images/xkcd_wisdom.png\">\n",
    "\n",
    "*Я еще никогда не чувствовал себя настолько близко с другим человеком, но в то же время настолько беспомощно одиноким, как когда я загуглил ошибку в моем коде, и нашел один вопрос от человека с такой же ошибкой без ответов. Вопрос был задан в 2003 году. КТО ТЫ, DENVERCODER9? ЧТО ТЫ ВИДЕЛ?*\n",
    "\n",
    "<hr>\n",
    "    \n",
    "* https://github.com/ -- крупнейший веб-сервис для хостинга IT-проектов и их совместной разработки. Там можно найти интересные проекты (как учебные, так и настоящие).\n",
    "    * Сделаем поисковый запрос \"oil and gas\", слева отфильтруем Python / Jupyter Notebook.\n",
    "* Конечно же Google/Яндекс. На английском языке база данных больше, но и на русском есть солидное количество данных.Главное всегда указывайте в начале запроса \"python\", а если работаете с определенной библиотекой, то \"python pandas\".\n",
    "\n",
    "* Многочисленные сайты/блоги с инструкциями и примерами. Вот наиболее известные: \n",
    "    * Питонтьютор: https://pythontutor.ru/\n",
    "    * Tutorials Point: https://www.tutorialspoint.com/index.htm\n",
    "    * GeeksforGeeks: https://www.geeksforgeeks.org/\n",
    "    * W3Schools: https://www.w3schools.com/\n",
    "\n",
    "* YouTube: большое количество видео с объяснениями задач из абсолютно разных сфер."
   ]
  },
  {
   "cell_type": "markdown",
   "id": "5beab30a",
   "metadata": {},
   "source": [
    "### Если определились с библиотекой, то как найти, что она делает?\n",
    "\n",
    "1. Искать ответы на вопросы по конкретной библиотеке (быстрее, но не надежно).\n",
    "2. Прочитать документацию (медленнее, но надежно)."
   ]
  },
  {
   "cell_type": "markdown",
   "id": "d08f40a8",
   "metadata": {},
   "source": [
    "## Задача 1\n",
    "\n",
    "Напишите функцию, которая генерирует 10 случайных целых чисел в диапазоне от 1 до 100 и вычисляет их среднее, максимальное и минимальное значения.\n",
    "\n",
    "Для решения задачи используйте модуль [random](https://docs.python.org/3/library/random.html#module-random). Для расчета среднего используйте модуль [statistics](https://docs.python.org/3/library/statistics.html).\n",
    "\n",
    "*Интересным файлом здесь также будет [PEP450](https://peps.python.org/pep-0450/) -- Добавление модуля statistics в Стандартную библиотеку Python.* \n",
    "\n",
    "*PEP расшифровывается как Python Enhancement Proposal. PEP - это проектный документ, предоставляющий информацию сообществу Python или описывающий новую функцию для Python, его процессов или среды. PEP должен содержать краткую техническую спецификацию функции и ее обоснование.*"
   ]
  },
  {
   "cell_type": "code",
   "execution_count": 35,
   "id": "b7bbf0ec",
   "metadata": {},
   "outputs": [],
   "source": [
    "from random import randint\n",
    "from statistics import mean\n",
    "\n",
    "def rand_stat():\n",
    "    intlst = [randint(1,100) for _ in range(10)]\n",
    "    return intlst, mean(intlst), min(intlst), max(intlst)"
   ]
  },
  {
   "cell_type": "code",
   "execution_count": 37,
   "id": "8eb0cf4f",
   "metadata": {},
   "outputs": [],
   "source": [
    "x,*y = rand_stat()"
   ]
  },
  {
   "cell_type": "code",
   "execution_count": 39,
   "id": "ff295814",
   "metadata": {},
   "outputs": [
    {
     "data": {
      "text/plain": [
       "[42, 4, 89]"
      ]
     },
     "execution_count": 39,
     "metadata": {},
     "output_type": "execute_result"
    }
   ],
   "source": [
    "y"
   ]
  },
  {
   "cell_type": "markdown",
   "id": "d7186e17",
   "metadata": {},
   "source": [
    "## Задача 2\n",
    "\n",
    "Напишите функцию, который принимает на вход путь к папке, в которой вы сейчас работаете, и копирует все файлы .ipynb в новую папку, которую создает. Когда создана копия печатается сообщение \"Файлы успешно скопированы в папку <адрес папки>\", а дальше перечисляются все файлы и их размер в байтах.\n",
    "\n",
    "Для решения задачи используйте модули [os](https://docs.python.org/3/library/os.html#module-os), [os.path](https://docs.python.org/3/library/os.path.html#module-os.path), [shutil](https://docs.python.org/3/library/shutil.html#module-shutil)."
   ]
  },
  {
   "cell_type": "code",
   "execution_count": 58,
   "id": "ae3f7b43",
   "metadata": {},
   "outputs": [
    {
     "data": {
      "text/plain": [
       "'C:\\\\Users\\\\izeme\\\\OneDrive\\\\Desktop\\\\Git\\\\DS-17.Python\\\\L6'"
      ]
     },
     "execution_count": 58,
     "metadata": {},
     "output_type": "execute_result"
    }
   ],
   "source": [
    "# ваш код\n",
    "import os\n",
    "import shutil\n",
    "\n",
    "os.getcwd()\n",
    "# for file in os.listdir():\n",
    "#     if file.endswith('ipynb'):        \n",
    "#         print(file)"
   ]
  },
  {
   "cell_type": "code",
   "execution_count": null,
   "id": "c15d9ea5",
   "metadata": {},
   "outputs": [],
   "source": [
    "os.getcwd + '\\\\NewDirToCopy' + file"
   ]
  },
  {
   "cell_type": "code",
   "execution_count": 55,
   "id": "1f5bd92f",
   "metadata": {},
   "outputs": [],
   "source": [
    "os.mkdir(os.getcwd() + '\\\\NewDirToCopy')\n",
    "\n",
    "for file in os.listdir():\n",
    "    if file.endswith('ipynb'):\n",
    "        shutil.copyfile(os.getcwd() + '\\\\' + file, os.getcwd() + '\\\\NewDirToCopy\\\\' + file)"
   ]
  },
  {
   "cell_type": "code",
   "execution_count": 88,
   "id": "900f6e15",
   "metadata": {},
   "outputs": [],
   "source": [
    "def copy_files_to_nf(path):\n",
    "    '''\n",
    "    Принимает путь к папке, создает в ней папку newfolder, копирует в нее файлы *.ipynb\n",
    "    '''\n",
    "    dest = path + '\\\\newfolder'\n",
    "    os.mkdir(dest)\n",
    "    for file in os.listdir(path):\n",
    "        if file.endswith('ipynb'):\n",
    "            shutil.copyfile(path + '\\\\' + file, dest + '\\\\' + file[:-6] + '_COPY.ipynb')\n",
    "            print('filename = ', dest + '\\\\' + file[:-6] + '_COPY.ipynb','size = ',os.stat(dest + '\\\\' + file[:-6] + '_COPY.ipynb')[6])"
   ]
  },
  {
   "cell_type": "code",
   "execution_count": 86,
   "id": "b50c450e",
   "metadata": {},
   "outputs": [
    {
     "name": "stdout",
     "output_type": "stream",
     "text": [
      "size =  9498\n",
      "size =  92436\n",
      "size =  14194\n"
     ]
    }
   ],
   "source": [
    "copy_files_to_nf('C:\\\\Users\\\\izeme\\\\OneDrive\\\\Desktop\\\\Git\\\\DS-17.Python\\\\L6')"
   ]
  },
  {
   "cell_type": "markdown",
   "id": "8b97d5f0",
   "metadata": {},
   "source": [
    "## Задача 3\n",
    "\n",
    "Напишите функцию, которая просит пользователя ввести дату рождения в формате 'ГГГГ-ММ-ДД', а затем вычисляет его текущий возраст в годах, месяцах и днях.\n",
    "\n",
    "Для решения задачи используйте модуль [datetime](https://docs.python.org/3/library/datetime.html#module-datetime)."
   ]
  },
  {
   "cell_type": "code",
   "execution_count": 89,
   "id": "4ef8328f",
   "metadata": {},
   "outputs": [],
   "source": [
    "from datetime import datetime"
   ]
  },
  {
   "cell_type": "code",
   "execution_count": 90,
   "id": "7c2ce68a",
   "metadata": {},
   "outputs": [
    {
     "ename": "TypeError",
     "evalue": "strptime() takes exactly 2 arguments (1 given)",
     "output_type": "error",
     "traceback": [
      "\u001b[1;31m---------------------------------------------------------------------------\u001b[0m",
      "\u001b[1;31mTypeError\u001b[0m                                 Traceback (most recent call last)",
      "Cell \u001b[1;32mIn[90], line 1\u001b[0m\n\u001b[1;32m----> 1\u001b[0m datetime\u001b[38;5;241m.\u001b[39mstrptime(\u001b[38;5;124m'\u001b[39m\u001b[38;5;124m1986-11-19\u001b[39m\u001b[38;5;124m'\u001b[39m)\n",
      "\u001b[1;31mTypeError\u001b[0m: strptime() takes exactly 2 arguments (1 given)"
     ]
    }
   ],
   "source": [
    "datetime.strptime('1986-11-19')"
   ]
  }
 ],
 "metadata": {
  "kernelspec": {
   "display_name": "Python 3 (ipykernel)",
   "language": "python",
   "name": "python3"
  },
  "language_info": {
   "codemirror_mode": {
    "name": "ipython",
    "version": 3
   },
   "file_extension": ".py",
   "mimetype": "text/x-python",
   "name": "python",
   "nbconvert_exporter": "python",
   "pygments_lexer": "ipython3",
   "version": "3.11.7"
  }
 },
 "nbformat": 4,
 "nbformat_minor": 5
}
