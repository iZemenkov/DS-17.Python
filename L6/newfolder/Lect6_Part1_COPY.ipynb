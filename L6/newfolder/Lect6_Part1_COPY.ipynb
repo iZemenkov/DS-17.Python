{
 "cells": [
  {
   "cell_type": "markdown",
   "metadata": {
    "id": "aeCztTKUEUMg"
   },
   "source": [
    "# Библиотеки и модули\n",
    "\n",
    "Мы умеем пользоваться некоторыми встроенными функциями Python и научились создавать собственные функции. Но это еще не все возможности. Поговорим про библиотеки и модули и научимся их использовать.\n",
    "\n",
    "Если несколько функций позволяют решать схожие задачи, то их объединяют в **модули**.  Например, модуль `math` объединяет в себе математические функции , модуль `string` предназначен для работы со строками, модуль `random` предлагает функции для генерации псевдослучайных чисел.  Причем в модуле могут быть собраны не только функции, но и, например, значения переменных.\n",
    "\n",
    "Эти модули и многие другие объединены в **Стандартную библиотеку Python**. Эта библиотека поставляется в составе Python, ее не нужно отдельно скачивать и устанавливать. Библиотека и входящие в нее модули описана в документации: https://docs.python.org/3/library/.\n",
    "\n",
    "\n",
    "При этом многие программисты и корпорации создают свои модули и готовы делиться ими с другими. В частности, вы можете найти библиотеки и модули для написания игр, для работы с Telegram и vk.com и многие другие. Возможность пользоваться чужими наработками существенно упрощает работу программиста. В отличие от модулей Стандартной библиотеки Python, другие модули нужно скачивать и устанавливать отдельно. А информацию о них искать в поисковиках — это тоже часть работы программиста.\n",
    "\n",
    "\n",
    "\n",
    "\n",
    "Сейчас мы научимся использовать модули Стандартной библиотеки Python. "
   ]
  },
  {
   "cell_type": "markdown",
   "metadata": {
    "id": "fKNEhWQKEUMk"
   },
   "source": [
    "## Пример использования модуля Стандартной библиотеки Python\n",
    "\n",
    "Допустим, мы хотим сделать квадратную лужайку и засадить ее искусственным газоном. Такой газон продается маленькими квадратами метр на метр. Какова будет длина стороны лужайки, если мы купили 16 таких маленьких квадратов? Вспоминаем школьную программу: длина стороны квадратной лужайки будет равна корню из 16. Корень из 16 равен 4, так как 4 * 4 = 16. Попробуем написать программу, которая сможет дать ответ на этот вопрос. Ведь если квадратов всего 16, мы легко посчитаем все в уме. А если 4489? Пусть за нас это сделает компьютер. \n",
    "Воспользуемся функцией `sqrt()` из модуля  `math`. Эта функция как раз вычисляет квадратный корень, попробуем ее вызвать."
   ]
  },
  {
   "cell_type": "code",
   "execution_count": 1,
   "metadata": {
    "id": "Y2qpyo4kEUMl",
    "outputId": "bceae8e7-ae5f-4a47-a501-ae88c1e91c00"
   },
   "outputs": [
    {
     "ename": "NameError",
     "evalue": "name 'sqrt' is not defined",
     "output_type": "error",
     "traceback": [
      "\u001b[1;31m---------------------------------------------------------------------------\u001b[0m",
      "\u001b[1;31mNameError\u001b[0m                                 Traceback (most recent call last)",
      "Cell \u001b[1;32mIn[1], line 1\u001b[0m\n\u001b[1;32m----> 1\u001b[0m sqrt(\u001b[38;5;241m16\u001b[39m)\n",
      "\u001b[1;31mNameError\u001b[0m: name 'sqrt' is not defined"
     ]
    }
   ],
   "source": [
    "sqrt(16) # Пытаемся вызвать функцию sqrt() из модуля math"
   ]
  },
  {
   "cell_type": "markdown",
   "metadata": {
    "id": "a3ap8pGHEUMn"
   },
   "source": [
    "Не получилось. Потому что в отличие от тех частых, нужных, популярных функций типа `print()`, которые мы уже использовали, функция `sqrt()` \"убрана\" в отдельный модуль — и этот модуль надо **импортировать**. "
   ]
  },
  {
   "cell_type": "code",
   "execution_count": 2,
   "metadata": {
    "id": "XieNCrq9EUMn"
   },
   "outputs": [],
   "source": [
    "import math # Импортируем модуль math"
   ]
  },
  {
   "cell_type": "code",
   "execution_count": 3,
   "metadata": {
    "id": "cwYsJhZJEUMo",
    "outputId": "6406f594-59e6-488a-a8d5-e52214ac65b6"
   },
   "outputs": [
    {
     "ename": "NameError",
     "evalue": "name 'sqrt' is not defined",
     "output_type": "error",
     "traceback": [
      "\u001b[1;31m---------------------------------------------------------------------------\u001b[0m",
      "\u001b[1;31mNameError\u001b[0m                                 Traceback (most recent call last)",
      "Cell \u001b[1;32mIn[3], line 1\u001b[0m\n\u001b[1;32m----> 1\u001b[0m sqrt(\u001b[38;5;241m16\u001b[39m)\n",
      "\u001b[1;31mNameError\u001b[0m: name 'sqrt' is not defined"
     ]
    }
   ],
   "source": [
    "sqrt(16) # Снова пытаемся вызвать функцию sqrt() из модуля math, предварительно его импортировав"
   ]
  },
  {
   "cell_type": "markdown",
   "metadata": {
    "id": "igtDQnoFEUMo"
   },
   "source": [
    "Снова не получилось. Дело в том, что мы никак не пояснили, что это _именно та_ функция `sqrt()`, которая лежит в модуле `math`, а не какая-то другая. Чтобы это указать, нужно написать через точку: `<модуль>.<функция()>`. Попробуем."
   ]
  },
  {
   "cell_type": "code",
   "execution_count": 5,
   "metadata": {
    "id": "85Yb61feEUMp",
    "outputId": "9c373c1c-94cc-4891-8ad1-aa734b2eccc6"
   },
   "outputs": [
    {
     "data": {
      "text/plain": [
       "4.0"
      ]
     },
     "execution_count": 5,
     "metadata": {},
     "output_type": "execute_result"
    }
   ],
   "source": [
    "math.sqrt(16) # снова пытаемся вызвать функцию sqrt(), указав, что это функция из модуля math"
   ]
  },
  {
   "cell_type": "markdown",
   "metadata": {
    "id": "myPNwIGrEUMp"
   },
   "source": [
    "Получилось! Мы могли бы сделать печать значения через `print`: `print(math.sqrt(16))` — попробуйте.\n",
    "\n",
    "Теперь посчитаем сторону квадратной лужайки для случая с 4489 квадратиками."
   ]
  },
  {
   "cell_type": "code",
   "execution_count": 6,
   "metadata": {
    "id": "rt7F_izwEUMp",
    "outputId": "28a6f8f5-0dd2-4b21-de0b-86577419f661"
   },
   "outputs": [],
   "source": [
    "x = math.sqrt(4489) # Или распечатаем: print(math.sqrt(4489))"
   ]
  },
  {
   "cell_type": "code",
   "execution_count": 7,
   "metadata": {},
   "outputs": [
    {
     "name": "stdout",
     "output_type": "stream",
     "text": [
      "67.0\n"
     ]
    }
   ],
   "source": [
    "print(x)"
   ]
  },
  {
   "cell_type": "code",
   "execution_count": 8,
   "metadata": {},
   "outputs": [
    {
     "data": {
      "text/plain": [
       "3.141592653589793"
      ]
     },
     "execution_count": 8,
     "metadata": {},
     "output_type": "execute_result"
    }
   ],
   "source": [
    "math.pi"
   ]
  },
  {
   "cell_type": "markdown",
   "metadata": {
    "id": "2EPoCbhnEUMq"
   },
   "source": [
    "Длина стороны равна 67 метрам — большая будет лужайка!"
   ]
  },
  {
   "cell_type": "markdown",
   "metadata": {
    "id": "O_RfnljHEUMq"
   },
   "source": [
    "# Импорт отдельных компонент модуля\n",
    "\n",
    "Вам может показаться, что не слишком удобно писать каждый раз название модуля, точку, название функции. \n",
    "\n",
    "Чтобы этого избежать, можем явно указать, _что именно_ мы импортируем из модуля.\n",
    "\n",
    "Давайте сделаем это для двух функций из модуля `random`, позволяющих генерировать псевдослучайные числа. На псевдослучайных числах основаны \"непредсказуемые\" передвижения персонажей в компьютерных играх, а также с их помощью обеспечивается защита банковских операций по кредитным картам."
   ]
  },
  {
   "cell_type": "code",
   "execution_count": 9,
   "metadata": {
    "id": "jb8XgX_0EUMq"
   },
   "outputs": [],
   "source": [
    "from random import randint, uniform # Импортируем две функции из модуля random, здесь скобки не нужны"
   ]
  },
  {
   "cell_type": "markdown",
   "metadata": {
    "id": "ACVfRQPyEUMr"
   },
   "source": [
    "Чтобы узнать, что делают эти функции и какие аргументы им нужно подавать, можно посмотреть документацию или воспользоваться функцией `help()`:"
   ]
  },
  {
   "cell_type": "code",
   "execution_count": 10,
   "metadata": {
    "id": "47l6FMnLEUMr",
    "outputId": "4bb92cc1-2559-4b59-aaaa-268acdf66256"
   },
   "outputs": [
    {
     "name": "stdout",
     "output_type": "stream",
     "text": [
      "Help on method randint in module random:\n",
      "\n",
      "randint(a, b) method of random.Random instance\n",
      "    Return random integer in range [a, b], including both end points.\n",
      "\n"
     ]
    }
   ],
   "source": [
    "help(randint)"
   ]
  },
  {
   "cell_type": "code",
   "execution_count": 11,
   "metadata": {},
   "outputs": [
    {
     "name": "stdout",
     "output_type": "stream",
     "text": [
      "Help on method uniform in module random:\n",
      "\n",
      "uniform(a, b) method of random.Random instance\n",
      "    Get a random number in the range [a, b) or [a, b] depending on rounding.\n",
      "\n"
     ]
    }
   ],
   "source": [
    "help(uniform)"
   ]
  },
  {
   "cell_type": "markdown",
   "metadata": {
    "id": "A2Qw5LsdEUMr"
   },
   "source": [
    "Мы видим всю информацию о функции `randint()`: она содержится в модуле `random`, возвращает целое псевдослучайное число в заданном диапазоне, принимая на вход границы диапазона.\n",
    "\n",
    "Аналогичным образом можно узнать, что функция `uniform()` принимает границы диапазона и возвращает дробное псевдослучайное число.\n",
    "\n",
    "Посмотрим, как сработают эти функции в диапазоне от 100 до 200:"
   ]
  },
  {
   "cell_type": "code",
   "execution_count": 12,
   "metadata": {
    "id": "kjuUZ5w8EUMr",
    "outputId": "fa04c1f2-c2e8-4599-d825-902fc7b97779"
   },
   "outputs": [
    {
     "name": "stdout",
     "output_type": "stream",
     "text": [
      "[111, 134, 171, 149, 137]\n",
      "[182.44230479590163, 179.46853997415263, 116.15349940445714, 192.1954754390345, 145.60244917996295]\n"
     ]
    }
   ],
   "source": [
    "# Вызываем функции по 5 раз\n",
    "print([randint(100, 200) for _ in range(5)])\n",
    "print([uniform(100, 200) for _ in range(5)])"
   ]
  },
  {
   "cell_type": "markdown",
   "metadata": {},
   "source": [
    "Посмотреть на документацию можно не только у функций, но и у методов:"
   ]
  },
  {
   "cell_type": "code",
   "execution_count": 17,
   "metadata": {},
   "outputs": [
    {
     "name": "stdout",
     "output_type": "stream",
     "text": [
      "Help on method_descriptor:\n",
      "\n",
      "upper(self, /)\n",
      "    Return a copy of the string converted to uppercase.\n",
      "\n"
     ]
    }
   ],
   "source": [
    "help(str.upper)"
   ]
  },
  {
   "cell_type": "markdown",
   "metadata": {
    "id": "nF7F8X2IEUMv"
   },
   "source": [
    "# Импорт под псевдонимом\n",
    "\n",
    "Можно воспользоваться следующим упрощением: дать модулю псевдоним. Посмотрим на примере модуля `string`, предназначенного для работы со строками. Допустим, мы решили, что целиком слово `string` писать слишком долго, и хотим писать просто `s`. Посмотрим, как это можно сделать."
   ]
  },
  {
   "cell_type": "code",
   "execution_count": 13,
   "metadata": {
    "id": "OBUja_geEUMv",
    "outputId": "05933234-9378-4a6b-c8c1-b40873556ac9"
   },
   "outputs": [
    {
     "name": "stdout",
     "output_type": "stream",
     "text": [
      "!\"#$%&'()*+,-./:;<=>?@[\\]^_`{|}~\n"
     ]
    }
   ],
   "source": [
    "import string as s    # Даем псевдоним модулю string\n",
    "print(s.punctuation)  # Печатаем строку со знаками препинания, хранящуюся в модуле "
   ]
  },
  {
   "cell_type": "code",
   "execution_count": 14,
   "metadata": {},
   "outputs": [
    {
     "data": {
      "text/plain": [
       "'ABCDEFGHIJKLMNOPQRSTUVWXYZ'"
      ]
     },
     "execution_count": 14,
     "metadata": {},
     "output_type": "execute_result"
    }
   ],
   "source": [
    "s.ascii_uppercase"
   ]
  },
  {
   "cell_type": "markdown",
   "metadata": {
    "id": "IzB9YC1dEUMw"
   },
   "source": [
    "Теперь мы вместо `string.punctuation` будем писать `s.punctuation`, а `string.punctuation` не сработает."
   ]
  },
  {
   "cell_type": "code",
   "execution_count": 15,
   "metadata": {
    "id": "ZypEiwekEUMw",
    "outputId": "35482cb6-d4e4-4ac9-e57a-ace034713d1e"
   },
   "outputs": [
    {
     "ename": "NameError",
     "evalue": "name 'string' is not defined",
     "output_type": "error",
     "traceback": [
      "\u001b[1;31m---------------------------------------------------------------------------\u001b[0m",
      "\u001b[1;31mNameError\u001b[0m                                 Traceback (most recent call last)",
      "Cell \u001b[1;32mIn[15], line 1\u001b[0m\n\u001b[1;32m----> 1\u001b[0m \u001b[38;5;28mprint\u001b[39m(string\u001b[38;5;241m.\u001b[39mpunctuation)\n",
      "\u001b[1;31mNameError\u001b[0m: name 'string' is not defined"
     ]
    }
   ],
   "source": [
    "print(string.punctuation)"
   ]
  },
  {
   "cell_type": "markdown",
   "metadata": {},
   "source": [
    "# Пример модуля: pprint\n",
    "\n",
    "Позволяет отображать объекты Python различными способами. Документация: https://docs.python.org/3/library/pprint.html"
   ]
  },
  {
   "cell_type": "code",
   "execution_count": 16,
   "metadata": {},
   "outputs": [
    {
     "name": "stdout",
     "output_type": "stream",
     "text": [
      "[['Греция', 'Афины', 131940, 10793526], ['Грузия', 'Тбилиси', 69700, 3720400], ['Дания', 'Копенгаген', 43094, 5707251]]\n",
      "\n",
      "-----------------------------\n",
      "\n",
      "[['Греция', 'Афины', 131940, 10793526],\n",
      " ['Грузия', 'Тбилиси', 69700, 3720400],\n",
      " ['Дания', 'Копенгаген', 43094, 5707251]]\n"
     ]
    }
   ],
   "source": [
    "from pprint import pprint, pformat\n",
    "\n",
    "s = [['Греция', 'Афины', 131_940, 10_793_526],['Грузия', 'Тбилиси', 69_700, 3_720_400],['Дания', 'Копенгаген', 43_094, 5_707_251]]\n",
    "\n",
    "print(s)\n",
    "print(\"\\n-----------------------------\\n\")\n",
    "pprint(s)"
   ]
  },
  {
   "cell_type": "code",
   "execution_count": 18,
   "metadata": {},
   "outputs": [
    {
     "name": "stdout",
     "output_type": "stream",
     "text": [
      "{'Азия': [...], 'Европа': [...]}\n",
      "\n",
      "-----------------------------\n",
      "\n",
      "{'Азия': [[...]], 'Европа': [[...], [...]]}\n",
      "\n",
      "-----------------------------\n",
      "\n",
      "{'Азия': [['Грузия', 'Тбилиси', 69700, 3720400]],\n",
      " 'Европа': [['Греция', 'Афины', 131940, 10793526],\n",
      "            ['Дания', 'Копенгаген', 43094, 5707251]]}\n",
      "\n",
      "-----------------------------\n",
      "\n",
      "{'Европа': [[...], [...]], 'Азия': [[...]]}\n"
     ]
    }
   ],
   "source": [
    "m = {'Европа': [['Греция', 'Афины', 131_940, 10_793_526], ['Дания', 'Копенгаген', 43_094, 5_707_251]], 'Азия': [['Грузия', 'Тбилиси', 69_700, 3_720_400]]}\n",
    "\n",
    "pprint(m, depth=1) # показать 1 уровень вложенности\n",
    "print(\"\\n-----------------------------\\n\")\n",
    "pprint(m, depth=2) # показать 2 уровня вложенности\n",
    "print(\"\\n-----------------------------\\n\")\n",
    "pprint(m, depth=3) # показать 3 уровня вложенности\n",
    "print(\"\\n-----------------------------\\n\")\n",
    "\n",
    "# pprint сортирует словари при выводе, что не всегда удобно. Но сортировку можно отключить.\n",
    "pprint(m, depth=2, sort_dicts=False)"
   ]
  },
  {
   "cell_type": "code",
   "execution_count": 19,
   "metadata": {},
   "outputs": [
    {
     "name": "stdout",
     "output_type": "stream",
     "text": [
      "['generate_csv\\\\train_00.csv', 'generate_csv\\\\train_01.csv', 'generate_csv\\\\train_02.csv', 'generate_csv\\\\train_03.csv', 'generate_csv\\\\train_04.csv', 'generate_csv\\\\train_05.csv', 'generate_csv\\\\train_06.csv', 'generate_csv\\\\train_07.csv', 'generate_csv\\\\train_08.csv', 'generate_csv\\\\train_09.csv', 'generate_csv\\\\train_10.csv', 'generate_csv\\\\train_11.csv']\n",
      "\n",
      "-------- Граница --------------\n",
      "\n",
      "['generate_csv\\\\train_00.csv',\n",
      " 'generate_csv\\\\train_01.csv',\n",
      " 'generate_csv\\\\train_02.csv',\n",
      " 'generate_csv\\\\train_03.csv',\n",
      " 'generate_csv\\\\train_04.csv',\n",
      " 'generate_csv\\\\train_05.csv',\n",
      " 'generate_csv\\\\train_06.csv',\n",
      " 'generate_csv\\\\train_07.csv',\n",
      " 'generate_csv\\\\train_08.csv',\n",
      " 'generate_csv\\\\train_09.csv',\n",
      " 'generate_csv\\\\train_10.csv',\n",
      " 'generate_csv\\\\train_11.csv']\n"
     ]
    }
   ],
   "source": [
    "data=['generate_csv\\\\train_00.csv', 'generate_csv\\\\train_01.csv', \n",
    "      'generate_csv\\\\train_02.csv', 'generate_csv\\\\train_03.csv',\n",
    "      'generate_csv\\\\train_04.csv', 'generate_csv\\\\train_05.csv', \n",
    "      'generate_csv\\\\train_06.csv', 'generate_csv\\\\train_07.csv', \n",
    "      'generate_csv\\\\train_08.csv', 'generate_csv\\\\train_09.csv',\n",
    "      'generate_csv\\\\train_10.csv', 'generate_csv\\\\train_11.csv']\n",
    "print(data)\n",
    "print(\"\\n-------- Граница --------------\\n\")\n",
    "pprint(data)"
   ]
  },
  {
   "cell_type": "code",
   "execution_count": 20,
   "metadata": {},
   "outputs": [
    {
     "name": "stdout",
     "output_type": "stream",
     "text": [
      "['generate_csv\\\\train_00.csv',\n",
      " 'generate_csv\\\\train_01.csv',\n",
      " 'generate_csv\\\\train_02.csv',\n",
      " 'generate_csv\\\\train_03.csv',\n",
      " 'generate_csv\\\\train_04.csv',\n",
      " 'generate_csv\\\\train_05.csv',\n",
      " 'generate_csv\\\\train_06.csv',\n",
      " 'generate_csv\\\\train_07.csv',\n",
      " 'generate_csv\\\\train_08.csv',\n",
      " 'generate_csv\\\\train_09.csv',\n",
      " 'generate_csv\\\\train_10.csv',\n",
      " 'generate_csv\\\\train_11.csv']\n"
     ]
    }
   ],
   "source": [
    "o = pformat(data)\n",
    "print(o)"
   ]
  },
  {
   "cell_type": "code",
   "execution_count": 22,
   "metadata": {},
   "outputs": [
    {
     "name": "stdout",
     "output_type": "stream",
     "text": [
      "{   'r1': {   'IOS': '15.4',\n",
      "              'IP': '10.255.0.1',\n",
      "              'hostname': 'london_r1',\n",
      "              'location': '21 New Globe Walk',\n",
      "              'model': '4451',\n",
      "              'vendor': 'Cisco'},\n",
      "    'r2': {   'IOS': '15.4',\n",
      "              'IP': '10.255.0.2',\n",
      "              'hostname': 'london_r2',\n",
      "              'location': '21 New Globe Walk',\n",
      "              'model': '4451',\n",
      "              'vendor': 'Cisco'},\n",
      "    'sw1': {   'IOS': '3.6.XE',\n",
      "               'IP': '10.255.0.101',\n",
      "               'hostname': 'london_sw1',\n",
      "               'location': '21 New Globe Walk',\n",
      "               'model': '3850',\n",
      "               'vendor': 'Cisco'}}\n",
      "\n",
      "-------- Граница --------------\n",
      "\n",
      "{'r1': {'hostname': 'london_r1', 'location': '21 New Globe Walk', 'vendor': 'Cisco', 'model': '4451', 'IOS': '15.4', 'IP': '10.255.0.1'}, 'r2': {'hostname': 'london_r2', 'location': '21 New Globe Walk', 'vendor': 'Cisco', 'model': '4451', 'IOS': '15.4', 'IP': '10.255.0.2'}, 'sw1': {'hostname': 'london_sw1', 'location': '21 New Globe Walk', 'vendor': 'Cisco', 'model': '3850', 'IOS': '3.6.XE', 'IP': '10.255.0.101'}}\n"
     ]
    }
   ],
   "source": [
    "import pprint\n",
    "\n",
    "london_co = {'r1': {'hostname': 'london_r1', 'location': '21 New Globe Walk', 'vendor': 'Cisco', 'model': '4451', 'IOS': '15.4', 'IP': '10.255.0.1'},\n",
    "   'r2': {'hostname': 'london_r2', 'location': '21 New Globe Walk', 'vendor': 'Cisco', 'model': '4451', 'IOS': '15.4', 'IP': '10.255.0.2'}, \n",
    "   'sw1': {'hostname': 'london_sw1', 'location': '21 New Globe Walk', 'vendor': 'Cisco', 'model': '3850', 'IOS': '3.6.XE', 'IP': '10.255.0.101'}}\n",
    "\n",
    "pp = pprint.PrettyPrinter(indent=4) #создает объект PrettyPrinter с отступом последующего уровня вложенности\n",
    "\n",
    "pp.pprint(london_co)\n",
    "print(\"\\n-------- Граница --------------\\n\")\n",
    "print(london_co)"
   ]
  },
  {
   "cell_type": "markdown",
   "metadata": {},
   "source": [
    "# Пример модуля operator\n",
    "\n",
    "Предоставляет набор функций, многие из которых соответствуют встроенным операторам (+, -, \\**), но не заменяют их  Документация: https://docs.python.org/3/library/operator.html"
   ]
  },
  {
   "cell_type": "code",
   "execution_count": 24,
   "metadata": {},
   "outputs": [],
   "source": [
    "from operator import itemgetter"
   ]
  },
  {
   "cell_type": "code",
   "execution_count": 25,
   "metadata": {},
   "outputs": [],
   "source": [
    "# (название материка, площадь, количество косударств/стран)\n",
    "lands = [('Евразия', 54.6, 108), ('Африка', 30.3, 62), ('Северная Америка', 24.4, 23), ('Южная Америка', 17.8, 12), ('Австралия', 7.7, 1), ('Антарктида', 14.1, 0)]"
   ]
  },
  {
   "cell_type": "code",
   "execution_count": 26,
   "metadata": {},
   "outputs": [
    {
     "name": "stdout",
     "output_type": "stream",
     "text": [
      "[('Евразия', 54.6, 108),\n",
      " ('Африка', 30.3, 62),\n",
      " ('Северная Америка', 24.4, 23),\n",
      " ('Южная Америка', 17.8, 12),\n",
      " ('Австралия', 7.7, 1),\n",
      " ('Антарктида', 14.1, 0)]\n"
     ]
    }
   ],
   "source": [
    "pprint.pprint(lands)"
   ]
  },
  {
   "cell_type": "code",
   "execution_count": 29,
   "metadata": {},
   "outputs": [
    {
     "data": {
      "text/plain": [
       "[('Антарктида', 14.1, 0),\n",
       " ('Австралия', 7.7, 1),\n",
       " ('Южная Америка', 17.8, 12),\n",
       " ('Северная Америка', 24.4, 23),\n",
       " ('Африка', 30.3, 62),\n",
       " ('Евразия', 54.6, 108)]"
      ]
     },
     "execution_count": 29,
     "metadata": {},
     "output_type": "execute_result"
    }
   ],
   "source": [
    "sorted(lands, key= lambda x: x[2])"
   ]
  },
  {
   "cell_type": "code",
   "execution_count": 30,
   "metadata": {},
   "outputs": [
    {
     "data": {
      "text/plain": [
       "[('Антарктида', 14.1, 0),\n",
       " ('Австралия', 7.7, 1),\n",
       " ('Южная Америка', 17.8, 12),\n",
       " ('Северная Америка', 24.4, 23),\n",
       " ('Африка', 30.3, 62),\n",
       " ('Евразия', 54.6, 108)]"
      ]
     },
     "execution_count": 30,
     "metadata": {},
     "output_type": "execute_result"
    }
   ],
   "source": [
    "sorted(lands, key=itemgetter(2))"
   ]
  },
  {
   "cell_type": "code",
   "execution_count": 31,
   "metadata": {},
   "outputs": [
    {
     "data": {
      "text/plain": [
       "{'Евразия': [54.6, 108],\n",
       " 'Африка': [30.3, 62],\n",
       " 'Северная Америка': [24.4, 23],\n",
       " 'Южная Америка': [17.8, 12],\n",
       " 'Австралия': [7.7, 1],\n",
       " 'Антарктида': [14.1, 0]}"
      ]
     },
     "execution_count": 31,
     "metadata": {},
     "output_type": "execute_result"
    }
   ],
   "source": [
    "lands_dict = {}\n",
    "\n",
    "for x in lands:\n",
    "      lands_dict[x[0]] = [x[1], x[2]]\n",
    "        \n",
    "lands_dict"
   ]
  },
  {
   "cell_type": "code",
   "execution_count": 32,
   "metadata": {},
   "outputs": [
    {
     "data": {
      "text/plain": [
       "[('Австралия', [7.7, 1]),\n",
       " ('Антарктида', [14.1, 0]),\n",
       " ('Южная Америка', [17.8, 12]),\n",
       " ('Северная Америка', [24.4, 23]),\n",
       " ('Африка', [30.3, 62]),\n",
       " ('Евразия', [54.6, 108])]"
      ]
     },
     "execution_count": 32,
     "metadata": {},
     "output_type": "execute_result"
    }
   ],
   "source": [
    "sorted(lands_dict.items(), key = lambda x: x[1][0])"
   ]
  },
  {
   "cell_type": "code",
   "execution_count": 34,
   "metadata": {},
   "outputs": [
    {
     "data": {
      "text/plain": [
       "[('Австралия', [7.7, 1]),\n",
       " ('Антарктида', [14.1, 0]),\n",
       " ('Южная Америка', [17.8, 12]),\n",
       " ('Северная Америка', [24.4, 23]),\n",
       " ('Африка', [30.3, 62]),\n",
       " ('Евразия', [54.6, 108])]"
      ]
     },
     "execution_count": 34,
     "metadata": {},
     "output_type": "execute_result"
    }
   ],
   "source": [
    "sorted(lands_dict.items(), key = itemgetter(1))"
   ]
  },
  {
   "cell_type": "code",
   "execution_count": 36,
   "metadata": {},
   "outputs": [
    {
     "data": {
      "text/plain": [
       "[('Австралия', [7.7, 1]),\n",
       " ('Антарктида', [14.1, 0]),\n",
       " ('Африка', [30.3, 62]),\n",
       " ('Евразия', [54.6, 108]),\n",
       " ('Северная Америка', [24.4, 23]),\n",
       " ('Южная Америка', [17.8, 12])]"
      ]
     },
     "execution_count": 36,
     "metadata": {},
     "output_type": "execute_result"
    }
   ],
   "source": [
    "sorted(lands_dict.items(), key = itemgetter(0))"
   ]
  },
  {
   "cell_type": "code",
   "execution_count": 37,
   "metadata": {},
   "outputs": [
    {
     "data": {
      "text/plain": [
       "[('Антарктида', [14.1, 0]),\n",
       " ('Австралия', [7.7, 1]),\n",
       " ('Южная Америка', [17.8, 12]),\n",
       " ('Северная Америка', [24.4, 23]),\n",
       " ('Африка', [30.3, 62]),\n",
       " ('Евразия', [54.6, 108])]"
      ]
     },
     "execution_count": 37,
     "metadata": {},
     "output_type": "execute_result"
    }
   ],
   "source": [
    "sorted(lands_dict.items(), key = lambda x: x[1][1])"
   ]
  },
  {
   "cell_type": "code",
   "execution_count": 39,
   "metadata": {},
   "outputs": [
    {
     "data": {
      "text/plain": [
       "[('Австралия', [7.7, 1]),\n",
       " ('Антарктида', [14.1, 0]),\n",
       " ('Южная Америка', [17.8, 12]),\n",
       " ('Северная Америка', [24.4, 23]),\n",
       " ('Африка', [30.3, 62]),\n",
       " ('Евразия', [54.6, 108])]"
      ]
     },
     "execution_count": 39,
     "metadata": {},
     "output_type": "execute_result"
    }
   ],
   "source": [
    "sorted(lands_dict.items(), key = itemgetter(1, 1)) # не то же самое, что key = lambda x: x[1][1]"
   ]
  },
  {
   "cell_type": "code",
   "execution_count": 40,
   "metadata": {},
   "outputs": [
    {
     "data": {
      "text/plain": [
       "[(1, 1), (1, 13), (1, 5), (1, 0), (2, 3)]"
      ]
     },
     "execution_count": 40,
     "metadata": {},
     "output_type": "execute_result"
    }
   ],
   "source": [
    "points = [(1, 1), (1, 13), (2, 3), (1, 5), (1, 0)]\n",
    "sorted(points, key = lambda x: x[0])"
   ]
  },
  {
   "cell_type": "code",
   "execution_count": 41,
   "metadata": {},
   "outputs": [
    {
     "data": {
      "text/plain": [
       "[(1, 1), (1, 13), (1, 5), (1, 0), (2, 3)]"
      ]
     },
     "execution_count": 41,
     "metadata": {},
     "output_type": "execute_result"
    }
   ],
   "source": [
    "sorted(points, key = itemgetter(0)) "
   ]
  },
  {
   "cell_type": "code",
   "execution_count": 42,
   "metadata": {},
   "outputs": [
    {
     "data": {
      "text/plain": [
       "[(1, 0), (1, 1), (1, 5), (1, 13), (2, 3)]"
      ]
     },
     "execution_count": 42,
     "metadata": {},
     "output_type": "execute_result"
    }
   ],
   "source": [
    "sorted(points, key = lambda x: (x[0], x[1]))"
   ]
  },
  {
   "cell_type": "code",
   "execution_count": 43,
   "metadata": {},
   "outputs": [
    {
     "data": {
      "text/plain": [
       "[(1, 0), (1, 1), (1, 5), (1, 13), (2, 3)]"
      ]
     },
     "execution_count": 43,
     "metadata": {},
     "output_type": "execute_result"
    }
   ],
   "source": [
    "sorted(points, key = itemgetter(0, 1)) # то же самое, что key = lambda x: (x[0], x[1])"
   ]
  },
  {
   "cell_type": "markdown",
   "metadata": {},
   "source": [
    "# Создание собственных модулей"
   ]
  },
  {
   "cell_type": "markdown",
   "metadata": {},
   "source": [
    "Давайте создадим простой модуль с несколькими функциями. Создадим файл 'hello.py' в той же папке, где мы работаем.\n",
    "\n",
    "Внутри файла сохраним следующий код:\n",
    "\n",
    "    def greet(name):\n",
    "        return f\"Привет, {name}!\"\n",
    "\n",
    "    def square(x):\n",
    "        return x ** 2\n",
    "\n",
    "Теперь мы можем импортировать его и использовать в других программах. "
   ]
  },
  {
   "cell_type": "code",
   "execution_count": 60,
   "metadata": {},
   "outputs": [
    {
     "name": "stdout",
     "output_type": "stream",
     "text": [
      "Привет, Игорь!\n",
      "4\n"
     ]
    }
   ],
   "source": [
    "import hello\n",
    "\n",
    "print(hello.greet(\"Игорь\"))\n",
    "print(hello.square(2))"
   ]
  },
  {
   "cell_type": "markdown",
   "metadata": {},
   "source": [
    "Можно импортировать только отдельные функции."
   ]
  },
  {
   "cell_type": "code",
   "execution_count": 47,
   "metadata": {},
   "outputs": [
    {
     "name": "stdout",
     "output_type": "stream",
     "text": [
      "Привет, Михалыч!\n"
     ]
    }
   ],
   "source": [
    "from hello import greet\n",
    "\n",
    "print(greet(\"Михалыч\"))"
   ]
  },
  {
   "cell_type": "code",
   "execution_count": 48,
   "metadata": {},
   "outputs": [
    {
     "name": "stdout",
     "output_type": "stream",
     "text": [
      "Help on function greet in module hello:\n",
      "\n",
      "greet(name)\n",
      "\n"
     ]
    }
   ],
   "source": [
    "help(greet)"
   ]
  },
  {
   "cell_type": "code",
   "execution_count": 55,
   "metadata": {},
   "outputs": [
    {
     "data": {
      "text/plain": [
       "['__builtins__',\n",
       " '__cached__',\n",
       " '__doc__',\n",
       " '__file__',\n",
       " '__loader__',\n",
       " '__name__',\n",
       " '__package__',\n",
       " '__spec__',\n",
       " 'greet',\n",
       " 'square']"
      ]
     },
     "execution_count": 55,
     "metadata": {},
     "output_type": "execute_result"
    }
   ],
   "source": [
    "dir(hello) # так найдем все функции, методы, константы и атрибуты"
   ]
  },
  {
   "cell_type": "markdown",
   "metadata": {},
   "source": [
    "Почитать подробнее про атрибуты при импортировании модулей можно здесь: https://docs.python.org/3/library/importlib.html\n",
    "\n",
    "<hr>"
   ]
  },
  {
   "cell_type": "markdown",
   "metadata": {},
   "source": [
    "Поскольку модули -- это всего лишь файлы .py, то вы можете найти их у себя на компьютере в папке. А если вы закинете туда свой файл с модулем, то можно будет писать просто import <название модуля> без добавления файла в текущую рабочую папку.\n",
    "\n",
    "Обычно модули лежат по адресу: C:\\\\Users\\\\<имя пользователя>\\\\AppData\\\\Local\\\\anaconda3\\\\Lib\\\\site-packages\n",
    "\n",
    "*AppData -- это скрытая папка. Чтобы ее открыть, нужно нажать в проводнике раздел \"Вид\" и поставить галку \"Скрытые элементы\".*"
   ]
  },
  {
   "cell_type": "code",
   "execution_count": 50,
   "metadata": {},
   "outputs": [
    {
     "data": {
      "text/plain": [
       "'C:\\\\Users\\\\izeme\\\\anaconda3\\\\Lib\\\\site-packages\\\\pandas\\\\__init__.py'"
      ]
     },
     "execution_count": 50,
     "metadata": {},
     "output_type": "execute_result"
    }
   ],
   "source": [
    "import pandas as pd\n",
    "pd.__file__ # так можно найти, где лежит конкретный модуль"
   ]
  },
  {
   "cell_type": "code",
   "execution_count": 56,
   "metadata": {
    "scrolled": true
   },
   "outputs": [
    {
     "data": {
      "text/plain": [
       "{'__name__': 'pandas',\n",
       " '__doc__': '\\npandas - a powerful data analysis and manipulation library for Python\\n=====================================================================\\n\\n**pandas** is a Python package providing fast, flexible, and expressive data\\nstructures designed to make working with \"relational\" or \"labeled\" data both\\neasy and intuitive. It aims to be the fundamental high-level building block for\\ndoing practical, **real world** data analysis in Python. Additionally, it has\\nthe broader goal of becoming **the most powerful and flexible open source data\\nanalysis / manipulation tool available in any language**. It is already well on\\nits way toward this goal.\\n\\nMain Features\\n-------------\\nHere are just a few of the things that pandas does well:\\n\\n  - Easy handling of missing data in floating point as well as non-floating\\n    point data.\\n  - Size mutability: columns can be inserted and deleted from DataFrame and\\n    higher dimensional objects\\n  - Automatic and explicit data alignment: objects can be explicitly aligned\\n    to a set of labels, or the user can simply ignore the labels and let\\n    `Series`, `DataFrame`, etc. automatically align the data for you in\\n    computations.\\n  - Powerful, flexible group by functionality to perform split-apply-combine\\n    operations on data sets, for both aggregating and transforming data.\\n  - Make it easy to convert ragged, differently-indexed data in other Python\\n    and NumPy data structures into DataFrame objects.\\n  - Intelligent label-based slicing, fancy indexing, and subsetting of large\\n    data sets.\\n  - Intuitive merging and joining data sets.\\n  - Flexible reshaping and pivoting of data sets.\\n  - Hierarchical labeling of axes (possible to have multiple labels per tick).\\n  - Robust IO tools for loading data from flat files (CSV and delimited),\\n    Excel files, databases, and saving/loading data from the ultrafast HDF5\\n    format.\\n  - Time series-specific functionality: date range generation and frequency\\n    conversion, moving window statistics, date shifting and lagging.\\n',\n",
       " '__package__': 'pandas',\n",
       " '__loader__': <_frozen_importlib_external.SourceFileLoader at 0x1f283ac0e50>,\n",
       " '__spec__': ModuleSpec(name='pandas', loader=<_frozen_importlib_external.SourceFileLoader object at 0x000001F283AC0E50>, origin='C:\\\\Users\\\\izeme\\\\anaconda3\\\\Lib\\\\site-packages\\\\pandas\\\\__init__.py', submodule_search_locations=['C:\\\\Users\\\\izeme\\\\anaconda3\\\\Lib\\\\site-packages\\\\pandas']),\n",
       " '__path__': ['C:\\\\Users\\\\izeme\\\\anaconda3\\\\Lib\\\\site-packages\\\\pandas'],\n",
       " '__file__': 'C:\\\\Users\\\\izeme\\\\anaconda3\\\\Lib\\\\site-packages\\\\pandas\\\\__init__.py',\n",
       " '__cached__': 'C:\\\\Users\\\\izeme\\\\anaconda3\\\\Lib\\\\site-packages\\\\pandas\\\\__pycache__\\\\__init__.cpython-311.pyc',\n",
       " '__builtins__': {'__name__': 'builtins',\n",
       "  '__doc__': \"Built-in functions, types, exceptions, and other objects.\\n\\nThis module provides direct access to all 'built-in'\\nidentifiers of Python; for example, builtins.len is\\nthe full name for the built-in function len().\\n\\nThis module is not normally accessed explicitly by most\\napplications, but can be useful in modules that provide\\nobjects with the same name as a built-in value, but in\\nwhich the built-in of that name is also needed.\",\n",
       "  '__package__': '',\n",
       "  '__loader__': _frozen_importlib.BuiltinImporter,\n",
       "  '__spec__': ModuleSpec(name='builtins', loader=<class '_frozen_importlib.BuiltinImporter'>, origin='built-in'),\n",
       "  '__build_class__': <function __build_class__>,\n",
       "  '__import__': <function __import__(name, globals=None, locals=None, fromlist=(), level=0)>,\n",
       "  'abs': <function abs(x, /)>,\n",
       "  'all': <function all(iterable, /)>,\n",
       "  'any': <function any(iterable, /)>,\n",
       "  'ascii': <function ascii(obj, /)>,\n",
       "  'bin': <function bin(number, /)>,\n",
       "  'breakpoint': <function breakpoint>,\n",
       "  'callable': <function callable(obj, /)>,\n",
       "  'chr': <function chr(i, /)>,\n",
       "  'compile': <function compile(source, filename, mode, flags=0, dont_inherit=False, optimize=-1, *, _feature_version=-1)>,\n",
       "  'delattr': <function delattr(obj, name, /)>,\n",
       "  'dir': <function dir>,\n",
       "  'divmod': <function divmod(x, y, /)>,\n",
       "  'eval': <function eval(source, globals=None, locals=None, /)>,\n",
       "  'exec': <function exec(source, globals=None, locals=None, /, *, closure=None)>,\n",
       "  'format': <function format(value, format_spec='', /)>,\n",
       "  'getattr': <function getattr>,\n",
       "  'globals': <function globals()>,\n",
       "  'hasattr': <function hasattr(obj, name, /)>,\n",
       "  'hash': <function hash(obj, /)>,\n",
       "  'hex': <function hex(number, /)>,\n",
       "  'id': <function id(obj, /)>,\n",
       "  'input': <bound method Kernel.raw_input of <ipykernel.ipkernel.IPythonKernel object at 0x000001F2834B2D50>>,\n",
       "  'isinstance': <function isinstance(obj, class_or_tuple, /)>,\n",
       "  'issubclass': <function issubclass(cls, class_or_tuple, /)>,\n",
       "  'iter': <function iter>,\n",
       "  'aiter': <function aiter(async_iterable, /)>,\n",
       "  'len': <function len(obj, /)>,\n",
       "  'locals': <function locals()>,\n",
       "  'max': <function max>,\n",
       "  'min': <function min>,\n",
       "  'next': <function next>,\n",
       "  'anext': <function anext>,\n",
       "  'oct': <function oct(number, /)>,\n",
       "  'ord': <function ord(c, /)>,\n",
       "  'pow': <function pow(base, exp, mod=None)>,\n",
       "  'print': <function print(*args, sep=' ', end='\\n', file=None, flush=False)>,\n",
       "  'repr': <function repr(obj, /)>,\n",
       "  'round': <function round(number, ndigits=None)>,\n",
       "  'setattr': <function setattr(obj, name, value, /)>,\n",
       "  'sorted': <function sorted(iterable, /, *, key=None, reverse=False)>,\n",
       "  'sum': <function sum(iterable, /, start=0)>,\n",
       "  'vars': <function vars>,\n",
       "  'None': None,\n",
       "  'Ellipsis': Ellipsis,\n",
       "  'NotImplemented': NotImplemented,\n",
       "  'False': False,\n",
       "  'True': True,\n",
       "  'bool': bool,\n",
       "  'memoryview': memoryview,\n",
       "  'bytearray': bytearray,\n",
       "  'bytes': bytes,\n",
       "  'classmethod': classmethod,\n",
       "  'complex': complex,\n",
       "  'dict': dict,\n",
       "  'enumerate': enumerate,\n",
       "  'filter': filter,\n",
       "  'float': float,\n",
       "  'frozenset': frozenset,\n",
       "  'property': property,\n",
       "  'int': int,\n",
       "  'list': list,\n",
       "  'map': map,\n",
       "  'object': object,\n",
       "  'range': range,\n",
       "  'reversed': reversed,\n",
       "  'set': set,\n",
       "  'slice': slice,\n",
       "  'staticmethod': staticmethod,\n",
       "  'str': str,\n",
       "  'super': super,\n",
       "  'tuple': tuple,\n",
       "  'type': type,\n",
       "  'zip': zip,\n",
       "  '__debug__': True,\n",
       "  'BaseException': BaseException,\n",
       "  'BaseExceptionGroup': BaseExceptionGroup,\n",
       "  'Exception': Exception,\n",
       "  'GeneratorExit': GeneratorExit,\n",
       "  'KeyboardInterrupt': KeyboardInterrupt,\n",
       "  'SystemExit': SystemExit,\n",
       "  'ArithmeticError': ArithmeticError,\n",
       "  'AssertionError': AssertionError,\n",
       "  'AttributeError': AttributeError,\n",
       "  'BufferError': BufferError,\n",
       "  'EOFError': EOFError,\n",
       "  'ImportError': ImportError,\n",
       "  'LookupError': LookupError,\n",
       "  'MemoryError': MemoryError,\n",
       "  'NameError': NameError,\n",
       "  'OSError': OSError,\n",
       "  'ReferenceError': ReferenceError,\n",
       "  'RuntimeError': RuntimeError,\n",
       "  'StopAsyncIteration': StopAsyncIteration,\n",
       "  'StopIteration': StopIteration,\n",
       "  'SyntaxError': SyntaxError,\n",
       "  'SystemError': SystemError,\n",
       "  'TypeError': TypeError,\n",
       "  'ValueError': ValueError,\n",
       "  'Warning': Warning,\n",
       "  'FloatingPointError': FloatingPointError,\n",
       "  'OverflowError': OverflowError,\n",
       "  'ZeroDivisionError': ZeroDivisionError,\n",
       "  'BytesWarning': BytesWarning,\n",
       "  'DeprecationWarning': DeprecationWarning,\n",
       "  'EncodingWarning': EncodingWarning,\n",
       "  'FutureWarning': FutureWarning,\n",
       "  'ImportWarning': ImportWarning,\n",
       "  'PendingDeprecationWarning': PendingDeprecationWarning,\n",
       "  'ResourceWarning': ResourceWarning,\n",
       "  'RuntimeWarning': RuntimeWarning,\n",
       "  'SyntaxWarning': SyntaxWarning,\n",
       "  'UnicodeWarning': UnicodeWarning,\n",
       "  'UserWarning': UserWarning,\n",
       "  'BlockingIOError': BlockingIOError,\n",
       "  'ChildProcessError': ChildProcessError,\n",
       "  'ConnectionError': ConnectionError,\n",
       "  'FileExistsError': FileExistsError,\n",
       "  'FileNotFoundError': FileNotFoundError,\n",
       "  'InterruptedError': InterruptedError,\n",
       "  'IsADirectoryError': IsADirectoryError,\n",
       "  'NotADirectoryError': NotADirectoryError,\n",
       "  'PermissionError': PermissionError,\n",
       "  'ProcessLookupError': ProcessLookupError,\n",
       "  'TimeoutError': TimeoutError,\n",
       "  'IndentationError': IndentationError,\n",
       "  'IndexError': IndexError,\n",
       "  'KeyError': KeyError,\n",
       "  'ModuleNotFoundError': ModuleNotFoundError,\n",
       "  'NotImplementedError': NotImplementedError,\n",
       "  'RecursionError': RecursionError,\n",
       "  'UnboundLocalError': UnboundLocalError,\n",
       "  'UnicodeError': UnicodeError,\n",
       "  'BrokenPipeError': BrokenPipeError,\n",
       "  'ConnectionAbortedError': ConnectionAbortedError,\n",
       "  'ConnectionRefusedError': ConnectionRefusedError,\n",
       "  'ConnectionResetError': ConnectionResetError,\n",
       "  'TabError': TabError,\n",
       "  'UnicodeDecodeError': UnicodeDecodeError,\n",
       "  'UnicodeEncodeError': UnicodeEncodeError,\n",
       "  'UnicodeTranslateError': UnicodeTranslateError,\n",
       "  'ExceptionGroup': ExceptionGroup,\n",
       "  'EnvironmentError': OSError,\n",
       "  'IOError': OSError,\n",
       "  'WindowsError': OSError,\n",
       "  'open': <function io.open(file, mode='r', buffering=-1, encoding=None, errors=None, newline=None, closefd=True, opener=None)>,\n",
       "  'copyright': Copyright (c) 2001-2023 Python Software Foundation.\n",
       "  All Rights Reserved.\n",
       "  \n",
       "  Copyright (c) 2000 BeOpen.com.\n",
       "  All Rights Reserved.\n",
       "  \n",
       "  Copyright (c) 1995-2001 Corporation for National Research Initiatives.\n",
       "  All Rights Reserved.\n",
       "  \n",
       "  Copyright (c) 1991-1995 Stichting Mathematisch Centrum, Amsterdam.\n",
       "  All Rights Reserved.,\n",
       "  'credits':     Thanks to CWI, CNRI, BeOpen.com, Zope Corporation and a cast of thousands\n",
       "      for supporting Python development.  See www.python.org for more information.,\n",
       "  'license': See https://www.python.org/psf/license/,\n",
       "  'help': Type help() for interactive help, or help(object) for help about object.,\n",
       "  'execfile': <function _pydev_bundle._pydev_execfile.execfile(file, glob=None, loc=None)>,\n",
       "  'runfile': <function _pydev_bundle.pydev_umd.runfile(filename, args=None, wdir=None, namespace=None)>,\n",
       "  '__IPYTHON__': True,\n",
       "  'display': <function IPython.core.display_functions.display(*objs, include=None, exclude=None, metadata=None, transient=None, display_id=None, raw=False, clear=False, **kwargs)>,\n",
       "  'get_ipython': <bound method InteractiveShell.get_ipython of <ipykernel.zmqshell.ZMQInteractiveShell object at 0x000001F2834BF210>>},\n",
       " 'annotations': _Feature((3, 7, 0, 'beta', 1), None, 16777216),\n",
       " '__docformat__': 'restructuredtext',\n",
       " 'util': <module 'pandas.util' from 'C:\\\\Users\\\\izeme\\\\anaconda3\\\\Lib\\\\site-packages\\\\pandas\\\\util\\\\__init__.py'>,\n",
       " 'compat': <module 'pandas.compat' from 'C:\\\\Users\\\\izeme\\\\anaconda3\\\\Lib\\\\site-packages\\\\pandas\\\\compat\\\\__init__.py'>,\n",
       " '_is_numpy_dev': False,\n",
       " '_typing': <module 'pandas._typing' from 'C:\\\\Users\\\\izeme\\\\anaconda3\\\\Lib\\\\site-packages\\\\pandas\\\\_typing.py'>,\n",
       " '_config': <module 'pandas._config' from 'C:\\\\Users\\\\izeme\\\\anaconda3\\\\Lib\\\\site-packages\\\\pandas\\\\_config\\\\__init__.py'>,\n",
       " 'get_option': <pandas._config.config.CallableDynamicDoc at 0x1f284bc4610>,\n",
       " 'set_option': <pandas._config.config.CallableDynamicDoc at 0x1f284bc4650>,\n",
       " 'reset_option': <pandas._config.config.CallableDynamicDoc at 0x1f284bc45d0>,\n",
       " 'describe_option': <pandas._config.config.CallableDynamicDoc at 0x1f284bc4690>,\n",
       " 'option_context': pandas._config.config.option_context,\n",
       " 'options': <pandas._config.config.DictWrapper at 0x1f284bc46d0>,\n",
       " 'core': <module 'pandas.core' from 'C:\\\\Users\\\\izeme\\\\anaconda3\\\\Lib\\\\site-packages\\\\pandas\\\\core\\\\__init__.py'>,\n",
       " 'pandas': <module 'pandas' from 'C:\\\\Users\\\\izeme\\\\anaconda3\\\\Lib\\\\site-packages\\\\pandas\\\\__init__.py'>,\n",
       " '_pandas_parser_CAPI': <capsule object \"pandas._pandas_parser_CAPI\" at 0x000001F284BB3C00>,\n",
       " '_pandas_datetime_CAPI': <capsule object \"pandas._pandas_datetime_CAPI\" at 0x000001F284BB3C30>,\n",
       " '_libs': <module 'pandas._libs' from 'C:\\\\Users\\\\izeme\\\\anaconda3\\\\Lib\\\\site-packages\\\\pandas\\\\_libs\\\\__init__.py'>,\n",
       " 'errors': <module 'pandas.errors' from 'C:\\\\Users\\\\izeme\\\\anaconda3\\\\Lib\\\\site-packages\\\\pandas\\\\errors\\\\__init__.py'>,\n",
       " 'io': <module 'pandas.io' from 'C:\\\\Users\\\\izeme\\\\anaconda3\\\\Lib\\\\site-packages\\\\pandas\\\\io\\\\__init__.py'>,\n",
       " 'tseries': <module 'pandas.tseries' from 'C:\\\\Users\\\\izeme\\\\anaconda3\\\\Lib\\\\site-packages\\\\pandas\\\\tseries\\\\__init__.py'>,\n",
       " 'arrays': <module 'pandas.arrays' from 'C:\\\\Users\\\\izeme\\\\anaconda3\\\\Lib\\\\site-packages\\\\pandas\\\\arrays\\\\__init__.py'>,\n",
       " 'plotting': <module 'pandas.plotting' from 'C:\\\\Users\\\\izeme\\\\anaconda3\\\\Lib\\\\site-packages\\\\pandas\\\\plotting\\\\__init__.py'>,\n",
       " 'ArrowDtype': pandas.core.dtypes.dtypes.ArrowDtype,\n",
       " 'Int8Dtype': pandas.core.arrays.integer.Int8Dtype,\n",
       " 'Int16Dtype': pandas.core.arrays.integer.Int16Dtype,\n",
       " 'Int32Dtype': pandas.core.arrays.integer.Int32Dtype,\n",
       " 'Int64Dtype': pandas.core.arrays.integer.Int64Dtype,\n",
       " 'UInt8Dtype': pandas.core.arrays.integer.UInt8Dtype,\n",
       " 'UInt16Dtype': pandas.core.arrays.integer.UInt16Dtype,\n",
       " 'UInt32Dtype': pandas.core.arrays.integer.UInt32Dtype,\n",
       " 'UInt64Dtype': pandas.core.arrays.integer.UInt64Dtype,\n",
       " 'Float32Dtype': pandas.core.arrays.floating.Float32Dtype,\n",
       " 'Float64Dtype': pandas.core.arrays.floating.Float64Dtype,\n",
       " 'CategoricalDtype': pandas.core.dtypes.dtypes.CategoricalDtype,\n",
       " 'PeriodDtype': pandas.core.dtypes.dtypes.PeriodDtype,\n",
       " 'IntervalDtype': pandas.core.dtypes.dtypes.IntervalDtype,\n",
       " 'DatetimeTZDtype': pandas.core.dtypes.dtypes.DatetimeTZDtype,\n",
       " 'StringDtype': pandas.core.arrays.string_.StringDtype,\n",
       " 'BooleanDtype': pandas.core.arrays.boolean.BooleanDtype,\n",
       " 'NA': <NA>,\n",
       " 'isna': <function pandas.core.dtypes.missing.isna(obj: 'object') -> 'bool | npt.NDArray[np.bool_] | NDFrame'>,\n",
       " 'isnull': <function pandas.core.dtypes.missing.isna(obj: 'object') -> 'bool | npt.NDArray[np.bool_] | NDFrame'>,\n",
       " 'notna': <function pandas.core.dtypes.missing.notna(obj: 'object') -> 'bool | npt.NDArray[np.bool_] | NDFrame'>,\n",
       " 'notnull': <function pandas.core.dtypes.missing.notna(obj: 'object') -> 'bool | npt.NDArray[np.bool_] | NDFrame'>,\n",
       " 'Index': pandas.core.indexes.base.Index,\n",
       " 'CategoricalIndex': pandas.core.indexes.category.CategoricalIndex,\n",
       " 'RangeIndex': pandas.core.indexes.range.RangeIndex,\n",
       " 'MultiIndex': pandas.core.indexes.multi.MultiIndex,\n",
       " 'IntervalIndex': pandas.core.indexes.interval.IntervalIndex,\n",
       " 'TimedeltaIndex': pandas.core.indexes.timedeltas.TimedeltaIndex,\n",
       " 'DatetimeIndex': pandas.core.indexes.datetimes.DatetimeIndex,\n",
       " 'PeriodIndex': pandas.core.indexes.period.PeriodIndex,\n",
       " 'IndexSlice': <pandas.core.indexing._IndexSlice at 0x1f285298850>,\n",
       " 'NaT': NaT,\n",
       " 'Period': pandas._libs.tslibs.period.Period,\n",
       " 'period_range': <function pandas.core.indexes.period.period_range(start=None, end=None, periods: 'int | None' = None, freq=None, name: 'Hashable | None' = None) -> 'PeriodIndex'>,\n",
       " 'Timedelta': pandas._libs.tslibs.timedeltas.Timedelta,\n",
       " 'timedelta_range': <function pandas.core.indexes.timedeltas.timedelta_range(start=None, end=None, periods: 'int | None' = None, freq=None, name=None, closed=None, *, unit: 'str | None' = None) -> 'TimedeltaIndex'>,\n",
       " 'Timestamp': pandas._libs.tslibs.timestamps.Timestamp,\n",
       " 'date_range': <function pandas.core.indexes.datetimes.date_range(start=None, end=None, periods=None, freq=None, tz=None, normalize: 'bool' = False, name: 'Hashable | None' = None, inclusive: 'IntervalClosedType' = 'both', *, unit: 'str | None' = None, **kwargs) -> 'DatetimeIndex'>,\n",
       " 'bdate_range': <function pandas.core.indexes.datetimes.bdate_range(start=None, end=None, periods: 'int | None' = None, freq: 'Frequency | dt.timedelta' = 'B', tz=None, normalize: 'bool' = True, name: 'Hashable | None' = None, weekmask=None, holidays=None, inclusive: 'IntervalClosedType' = 'both', **kwargs) -> 'DatetimeIndex'>,\n",
       " 'Interval': pandas._libs.interval.Interval,\n",
       " 'interval_range': <function pandas.core.indexes.interval.interval_range(start=None, end=None, periods=None, freq=None, name: 'Hashable | None' = None, closed: 'IntervalClosedType' = 'right') -> 'IntervalIndex'>,\n",
       " 'DateOffset': pandas._libs.tslibs.offsets.DateOffset,\n",
       " 'to_numeric': <function pandas.core.tools.numeric.to_numeric(arg, errors: 'DateTimeErrorChoices' = 'raise', downcast: \"Literal['integer', 'signed', 'unsigned', 'float'] | None\" = None, dtype_backend: 'DtypeBackend | lib.NoDefault' = <no_default>)>,\n",
       " 'to_datetime': <function pandas.core.tools.datetimes.to_datetime(arg: 'DatetimeScalarOrArrayConvertible | DictConvertible', errors: 'DateTimeErrorChoices' = 'raise', dayfirst: 'bool' = False, yearfirst: 'bool' = False, utc: 'bool' = False, format: 'str | None' = None, exact: 'bool | lib.NoDefault' = <no_default>, unit: 'str | None' = None, infer_datetime_format: 'lib.NoDefault | bool' = <no_default>, origin: 'str' = 'unix', cache: 'bool' = True) -> 'DatetimeIndex | Series | DatetimeScalar | NaTType | None'>,\n",
       " 'to_timedelta': <function pandas.core.tools.timedeltas.to_timedelta(arg: 'str | int | float | timedelta | list | tuple | range | ArrayLike | Index | Series', unit: 'UnitChoices | None' = None, errors: 'DateTimeErrorChoices' = 'raise') -> 'Timedelta | TimedeltaIndex | Series'>,\n",
       " 'Flags': pandas.core.flags.Flags,\n",
       " 'Grouper': pandas.core.groupby.grouper.Grouper,\n",
       " 'factorize': <function pandas.core.algorithms.factorize(values, sort: 'bool' = False, use_na_sentinel: 'bool' = True, size_hint: 'int | None' = None) -> 'tuple[np.ndarray, np.ndarray | Index]'>,\n",
       " 'unique': <function pandas.core.algorithms.unique(values)>,\n",
       " 'value_counts': <function pandas.core.algorithms.value_counts(values, sort: 'bool' = True, ascending: 'bool' = False, normalize: 'bool' = False, bins=None, dropna: 'bool' = True) -> 'Series'>,\n",
       " 'NamedAgg': pandas.core.groupby.generic.NamedAgg,\n",
       " 'array': <function pandas.core.construction.array(data: 'Sequence[object] | AnyArrayLike', dtype: 'Dtype | None' = None, copy: 'bool' = True) -> 'ExtensionArray'>,\n",
       " 'Categorical': pandas.core.arrays.categorical.Categorical,\n",
       " 'set_eng_float_format': <function pandas.io.formats.format.set_eng_float_format(accuracy: 'int' = 3, use_eng_prefix: 'bool' = False) -> 'None'>,\n",
       " 'Series': pandas.core.series.Series,\n",
       " 'DataFrame': pandas.core.frame.DataFrame,\n",
       " 'SparseDtype': pandas.core.dtypes.dtypes.SparseDtype,\n",
       " 'infer_freq': <function pandas.tseries.frequencies.infer_freq(index: 'DatetimeIndex | TimedeltaIndex | Series | DatetimeLikeArrayMixin') -> 'str | None'>,\n",
       " 'offsets': <module 'pandas.tseries.offsets' from 'C:\\\\Users\\\\izeme\\\\anaconda3\\\\Lib\\\\site-packages\\\\pandas\\\\tseries\\\\offsets.py'>,\n",
       " 'eval': <function pandas.core.computation.eval.eval(expr: 'str | BinOp', parser: 'str' = 'pandas', engine: 'str | None' = None, local_dict=None, global_dict=None, resolvers=(), level: 'int' = 0, target=None, inplace: 'bool' = False)>,\n",
       " 'concat': <function pandas.core.reshape.concat.concat(objs: 'Iterable[Series | DataFrame] | Mapping[HashableT, Series | DataFrame]', *, axis: 'Axis' = 0, join: 'str' = 'outer', ignore_index: 'bool' = False, keys=None, levels=None, names: 'list[HashableT] | None' = None, verify_integrity: 'bool' = False, sort: 'bool' = False, copy: 'bool | None' = None) -> 'DataFrame | Series'>,\n",
       " 'lreshape': <function pandas.core.reshape.melt.lreshape(data: 'DataFrame', groups, dropna: 'bool' = True) -> 'DataFrame'>,\n",
       " 'melt': <function pandas.core.reshape.melt.melt(frame: 'DataFrame', id_vars=None, value_vars=None, var_name=None, value_name: 'Hashable' = 'value', col_level=None, ignore_index: 'bool' = True) -> 'DataFrame'>,\n",
       " 'wide_to_long': <function pandas.core.reshape.melt.wide_to_long(df: 'DataFrame', stubnames, i, j, sep: 'str' = '', suffix: 'str' = '\\\\d+') -> 'DataFrame'>,\n",
       " 'merge': <function pandas.core.reshape.merge.merge(left: 'DataFrame | Series', right: 'DataFrame | Series', how: 'MergeHow' = 'inner', on: 'IndexLabel | None' = None, left_on: 'IndexLabel | None' = None, right_on: 'IndexLabel | None' = None, left_index: 'bool' = False, right_index: 'bool' = False, sort: 'bool' = False, suffixes: 'Suffixes' = ('_x', '_y'), copy: 'bool | None' = None, indicator: 'str | bool' = False, validate: 'str | None' = None) -> 'DataFrame'>,\n",
       " 'merge_asof': <function pandas.core.reshape.merge.merge_asof(left: 'DataFrame | Series', right: 'DataFrame | Series', on: 'IndexLabel | None' = None, left_on: 'IndexLabel | None' = None, right_on: 'IndexLabel | None' = None, left_index: 'bool' = False, right_index: 'bool' = False, by=None, left_by=None, right_by=None, suffixes: 'Suffixes' = ('_x', '_y'), tolerance: 'int | Timedelta | None' = None, allow_exact_matches: 'bool' = True, direction: 'str' = 'backward') -> 'DataFrame'>,\n",
       " 'merge_ordered': <function pandas.core.reshape.merge.merge_ordered(left: 'DataFrame', right: 'DataFrame', on: 'IndexLabel | None' = None, left_on: 'IndexLabel | None' = None, right_on: 'IndexLabel | None' = None, left_by=None, right_by=None, fill_method: 'str | None' = None, suffixes: 'Suffixes' = ('_x', '_y'), how: 'JoinHow' = 'outer') -> 'DataFrame'>,\n",
       " 'crosstab': <function pandas.core.reshape.pivot.crosstab(index, columns, values=None, rownames=None, colnames=None, aggfunc=None, margins: 'bool' = False, margins_name: 'Hashable' = 'All', dropna: 'bool' = True, normalize: 'bool' = False) -> 'DataFrame'>,\n",
       " 'pivot': <function pandas.core.reshape.pivot.pivot(data: 'DataFrame', *, columns: 'IndexLabel', index: 'IndexLabel | lib.NoDefault' = <no_default>, values: 'IndexLabel | lib.NoDefault' = <no_default>) -> 'DataFrame'>,\n",
       " 'pivot_table': <function pandas.core.reshape.pivot.pivot_table(data: 'DataFrame', values=None, index=None, columns=None, aggfunc: 'AggFuncType' = 'mean', fill_value=None, margins: 'bool' = False, dropna: 'bool' = True, margins_name: 'Hashable' = 'All', observed: 'bool' = False, sort: 'bool' = True) -> 'DataFrame'>,\n",
       " 'get_dummies': <function pandas.core.reshape.encoding.get_dummies(data, prefix=None, prefix_sep: 'str | Iterable[str] | dict[str, str]' = '_', dummy_na: 'bool' = False, columns=None, sparse: 'bool' = False, drop_first: 'bool' = False, dtype: 'NpDtype | None' = None) -> 'DataFrame'>,\n",
       " 'from_dummies': <function pandas.core.reshape.encoding.from_dummies(data: 'DataFrame', sep: 'None | str' = None, default_category: 'None | Hashable | dict[str, Hashable]' = None) -> 'DataFrame'>,\n",
       " 'cut': <function pandas.core.reshape.tile.cut(x, bins, right: 'bool' = True, labels=None, retbins: 'bool' = False, precision: 'int' = 3, include_lowest: 'bool' = False, duplicates: 'str' = 'raise', ordered: 'bool' = True)>,\n",
       " 'qcut': <function pandas.core.reshape.tile.qcut(x, q, labels=None, retbins: 'bool' = False, precision: 'int' = 3, duplicates: 'str' = 'raise')>,\n",
       " 'api': <module 'pandas.api' from 'C:\\\\Users\\\\izeme\\\\anaconda3\\\\Lib\\\\site-packages\\\\pandas\\\\api\\\\__init__.py'>,\n",
       " '_testing': <module 'pandas._testing' from 'C:\\\\Users\\\\izeme\\\\anaconda3\\\\Lib\\\\site-packages\\\\pandas\\\\_testing\\\\__init__.py'>,\n",
       " 'testing': <module 'pandas.testing' from 'C:\\\\Users\\\\izeme\\\\anaconda3\\\\Lib\\\\site-packages\\\\pandas\\\\testing.py'>,\n",
       " 'show_versions': <function pandas.util._print_versions.show_versions(as_json: 'str | bool' = False) -> 'None'>,\n",
       " 'ExcelFile': pandas.io.excel._base.ExcelFile,\n",
       " 'ExcelWriter': pandas.io.excel._base.ExcelWriter,\n",
       " 'read_excel': <function pandas.io.excel._base.read_excel(io, sheet_name: 'str | int | list[IntStrT] | None' = 0, *, header: 'int | Sequence[int] | None' = 0, names: 'list[str] | None' = None, index_col: 'int | Sequence[int] | None' = None, usecols: 'int | str | Sequence[int] | Sequence[str] | Callable[[str], bool] | None' = None, dtype: 'DtypeArg | None' = None, engine: \"Literal['xlrd', 'openpyxl', 'odf', 'pyxlsb'] | None\" = None, converters: 'dict[str, Callable] | dict[int, Callable] | None' = None, true_values: 'Iterable[Hashable] | None' = None, false_values: 'Iterable[Hashable] | None' = None, skiprows: 'Sequence[int] | int | Callable[[int], object] | None' = None, nrows: 'int | None' = None, na_values=None, keep_default_na: 'bool' = True, na_filter: 'bool' = True, verbose: 'bool' = False, parse_dates: 'list | dict | bool' = False, date_parser: 'Callable | lib.NoDefault' = <no_default>, date_format: 'dict[Hashable, str] | str | None' = None, thousands: 'str | None' = None, decimal: 'str' = '.', comment: 'str | None' = None, skipfooter: 'int' = 0, storage_options: 'StorageOptions | None' = None, dtype_backend: 'DtypeBackend | lib.NoDefault' = <no_default>, engine_kwargs: 'dict | None' = None) -> 'DataFrame | dict[IntStrT, DataFrame]'>,\n",
       " 'read_csv': <function pandas.io.parsers.readers.read_csv(filepath_or_buffer: 'FilePath | ReadCsvBuffer[bytes] | ReadCsvBuffer[str]', *, sep: 'str | None | lib.NoDefault' = <no_default>, delimiter: 'str | None | lib.NoDefault' = None, header: \"int | Sequence[int] | None | Literal['infer']\" = 'infer', names: 'Sequence[Hashable] | None | lib.NoDefault' = <no_default>, index_col: 'IndexLabel | Literal[False] | None' = None, usecols: 'list[HashableT] | Callable[[Hashable], bool] | None' = None, dtype: 'DtypeArg | None' = None, engine: 'CSVEngine | None' = None, converters: 'Mapping[Hashable, Callable] | None' = None, true_values: 'list | None' = None, false_values: 'list | None' = None, skipinitialspace: 'bool' = False, skiprows: 'list[int] | int | Callable[[Hashable], bool] | None' = None, skipfooter: 'int' = 0, nrows: 'int | None' = None, na_values: 'Sequence[str] | Mapping[str, Sequence[str]] | None' = None, keep_default_na: 'bool' = True, na_filter: 'bool' = True, verbose: 'bool' = False, skip_blank_lines: 'bool' = True, parse_dates: 'bool | Sequence[Hashable] | None' = None, infer_datetime_format: 'bool | lib.NoDefault' = <no_default>, keep_date_col: 'bool' = False, date_parser: 'Callable | lib.NoDefault' = <no_default>, date_format: 'str | None' = None, dayfirst: 'bool' = False, cache_dates: 'bool' = True, iterator: 'bool' = False, chunksize: 'int | None' = None, compression: 'CompressionOptions' = 'infer', thousands: 'str | None' = None, decimal: 'str' = '.', lineterminator: 'str | None' = None, quotechar: 'str' = '\"', quoting: 'int' = 0, doublequote: 'bool' = True, escapechar: 'str | None' = None, comment: 'str | None' = None, encoding: 'str | None' = None, encoding_errors: 'str | None' = 'strict', dialect: 'str | csv.Dialect | None' = None, on_bad_lines: 'str' = 'error', delim_whitespace: 'bool' = False, low_memory: 'bool' = True, memory_map: 'bool' = False, float_precision: \"Literal['high', 'legacy'] | None\" = None, storage_options: 'StorageOptions | None' = None, dtype_backend: 'DtypeBackend | lib.NoDefault' = <no_default>) -> 'DataFrame | TextFileReader'>,\n",
       " 'read_fwf': <function pandas.io.parsers.readers.read_fwf(filepath_or_buffer: 'FilePath | ReadCsvBuffer[bytes] | ReadCsvBuffer[str]', *, colspecs: 'Sequence[tuple[int, int]] | str | None' = 'infer', widths: 'Sequence[int] | None' = None, infer_nrows: 'int' = 100, dtype_backend: 'DtypeBackend | lib.NoDefault' = <no_default>, **kwds) -> 'DataFrame | TextFileReader'>,\n",
       " 'read_table': <function pandas.io.parsers.readers.read_table(filepath_or_buffer: 'FilePath | ReadCsvBuffer[bytes] | ReadCsvBuffer[str]', *, sep: 'str | None | lib.NoDefault' = <no_default>, delimiter: 'str | None | lib.NoDefault' = None, header: \"int | Sequence[int] | None | Literal['infer']\" = 'infer', names: 'Sequence[Hashable] | None | lib.NoDefault' = <no_default>, index_col: 'IndexLabel | Literal[False] | None' = None, usecols: 'list[HashableT] | Callable[[Hashable], bool] | None' = None, dtype: 'DtypeArg | None' = None, engine: 'CSVEngine | None' = None, converters: 'Mapping[Hashable, Callable] | None' = None, true_values: 'list | None' = None, false_values: 'list | None' = None, skipinitialspace: 'bool' = False, skiprows: 'list[int] | int | Callable[[Hashable], bool] | None' = None, skipfooter: 'int' = 0, nrows: 'int | None' = None, na_values: 'Sequence[str] | Mapping[str, Sequence[str]] | None' = None, keep_default_na: 'bool' = True, na_filter: 'bool' = True, verbose: 'bool' = False, skip_blank_lines: 'bool' = True, parse_dates: 'bool | Sequence[Hashable]' = False, infer_datetime_format: 'bool | lib.NoDefault' = <no_default>, keep_date_col: 'bool' = False, date_parser: 'Callable | lib.NoDefault' = <no_default>, date_format: 'str | None' = None, dayfirst: 'bool' = False, cache_dates: 'bool' = True, iterator: 'bool' = False, chunksize: 'int | None' = None, compression: 'CompressionOptions' = 'infer', thousands: 'str | None' = None, decimal: 'str' = '.', lineterminator: 'str | None' = None, quotechar: 'str' = '\"', quoting: 'int' = 0, doublequote: 'bool' = True, escapechar: 'str | None' = None, comment: 'str | None' = None, encoding: 'str | None' = None, encoding_errors: 'str | None' = 'strict', dialect: 'str | csv.Dialect | None' = None, on_bad_lines: 'str' = 'error', delim_whitespace: 'bool' = False, low_memory: 'bool' = True, memory_map: 'bool' = False, float_precision: 'str | None' = None, storage_options: 'StorageOptions | None' = None, dtype_backend: 'DtypeBackend | lib.NoDefault' = <no_default>) -> 'DataFrame | TextFileReader'>,\n",
       " 'read_pickle': <function pandas.io.pickle.read_pickle(filepath_or_buffer: 'FilePath | ReadPickleBuffer', compression: 'CompressionOptions' = 'infer', storage_options: 'StorageOptions | None' = None) -> 'DataFrame | Series'>,\n",
       " 'to_pickle': <function pandas.io.pickle.to_pickle(obj: 'Any', filepath_or_buffer: 'FilePath | WriteBuffer[bytes]', compression: 'CompressionOptions' = 'infer', protocol: 'int' = 5, storage_options: 'StorageOptions | None' = None) -> 'None'>,\n",
       " 'HDFStore': pandas.io.pytables.HDFStore,\n",
       " 'read_hdf': <function pandas.io.pytables.read_hdf(path_or_buf: 'FilePath | HDFStore', key=None, mode: 'str' = 'r', errors: 'str' = 'strict', where: 'str | list | None' = None, start: 'int | None' = None, stop: 'int | None' = None, columns: 'list[str] | None' = None, iterator: 'bool' = False, chunksize: 'int | None' = None, **kwargs)>,\n",
       " 'read_sql': <function pandas.io.sql.read_sql(sql, con, index_col: 'str | list[str] | None' = None, coerce_float: 'bool' = True, params=None, parse_dates=None, columns: 'list[str] | None' = None, chunksize: 'int | None' = None, dtype_backend: 'DtypeBackend | lib.NoDefault' = <no_default>, dtype: 'DtypeArg | None' = None) -> 'DataFrame | Iterator[DataFrame]'>,\n",
       " 'read_sql_query': <function pandas.io.sql.read_sql_query(sql, con, index_col: 'str | list[str] | None' = None, coerce_float: 'bool' = True, params: 'list[Any] | Mapping[str, Any] | None' = None, parse_dates: 'list[str] | dict[str, str] | None' = None, chunksize: 'int | None' = None, dtype: 'DtypeArg | None' = None, dtype_backend: 'DtypeBackend | lib.NoDefault' = <no_default>) -> 'DataFrame | Iterator[DataFrame]'>,\n",
       " 'read_sql_table': <function pandas.io.sql.read_sql_table(table_name: 'str', con, schema: 'str | None' = None, index_col: 'str | list[str] | None' = None, coerce_float: 'bool' = True, parse_dates: 'list[str] | dict[str, str] | None' = None, columns: 'list[str] | None' = None, chunksize: 'int | None' = None, dtype_backend: 'DtypeBackend | lib.NoDefault' = <no_default>) -> 'DataFrame | Iterator[DataFrame]'>,\n",
       " 'read_clipboard': <function pandas.io.clipboards.read_clipboard(sep: 'str' = '\\\\s+', dtype_backend: 'DtypeBackend | lib.NoDefault' = <no_default>, **kwargs)>,\n",
       " 'read_parquet': <function pandas.io.parquet.read_parquet(path: 'FilePath | ReadBuffer[bytes]', engine: 'str' = 'auto', columns: 'list[str] | None' = None, storage_options: 'StorageOptions | None' = None, use_nullable_dtypes: 'bool | lib.NoDefault' = <no_default>, dtype_backend: 'DtypeBackend | lib.NoDefault' = <no_default>, filesystem: 'Any' = None, filters: 'list[tuple] | list[list[tuple]] | None' = None, **kwargs) -> 'DataFrame'>,\n",
       " 'read_orc': <function pandas.io.orc.read_orc(path: 'FilePath | ReadBuffer[bytes]', columns: 'list[str] | None' = None, dtype_backend: 'DtypeBackend | lib.NoDefault' = <no_default>, filesystem: 'pyarrow.fs.FileSystem | fsspec.spec.AbstractFileSystem | None' = None, **kwargs: 'Any') -> 'DataFrame'>,\n",
       " 'read_feather': <function pandas.io.feather_format.read_feather(path: 'FilePath | ReadBuffer[bytes]', columns: 'Sequence[Hashable] | None' = None, use_threads: 'bool' = True, storage_options: 'StorageOptions | None' = None, dtype_backend: 'DtypeBackend | lib.NoDefault' = <no_default>) -> 'DataFrame'>,\n",
       " 'read_gbq': <function pandas.io.gbq.read_gbq(query: 'str', project_id: 'str | None' = None, index_col: 'str | None' = None, col_order: 'list[str] | None' = None, reauth: 'bool' = False, auth_local_webserver: 'bool' = True, dialect: 'str | None' = None, location: 'str | None' = None, configuration: 'dict[str, Any] | None' = None, credentials: 'google.auth.credentials.Credentials | None' = None, use_bqstorage_api: 'bool | None' = None, max_results: 'int | None' = None, progress_bar_type: 'str | None' = None) -> 'DataFrame'>,\n",
       " 'read_html': <function pandas.io.html.read_html(io: 'FilePath | ReadBuffer[str]', *, match: 'str | Pattern' = '.+', flavor: 'str | None' = None, header: 'int | Sequence[int] | None' = None, index_col: 'int | Sequence[int] | None' = None, skiprows: 'int | Sequence[int] | slice | None' = None, attrs: 'dict[str, str] | None' = None, parse_dates: 'bool' = False, thousands: 'str | None' = ',', encoding: 'str | None' = None, decimal: 'str' = '.', converters: 'dict | None' = None, na_values: 'Iterable[object] | None' = None, keep_default_na: 'bool' = True, displayed_only: 'bool' = True, extract_links: \"Literal[None, 'header', 'footer', 'body', 'all']\" = None, dtype_backend: 'DtypeBackend | lib.NoDefault' = <no_default>, storage_options: 'StorageOptions' = None) -> 'list[DataFrame]'>,\n",
       " 'read_xml': <function pandas.io.xml.read_xml(path_or_buffer: 'FilePath | ReadBuffer[bytes] | ReadBuffer[str]', *, xpath: 'str' = './*', namespaces: 'dict[str, str] | None' = None, elems_only: 'bool' = False, attrs_only: 'bool' = False, names: 'Sequence[str] | None' = None, dtype: 'DtypeArg | None' = None, converters: 'ConvertersArg | None' = None, parse_dates: 'ParseDatesArg | None' = None, encoding: 'str | None' = 'utf-8', parser: 'XMLParsers' = 'lxml', stylesheet: 'FilePath | ReadBuffer[bytes] | ReadBuffer[str] | None' = None, iterparse: 'dict[str, list[str]] | None' = None, compression: 'CompressionOptions' = 'infer', storage_options: 'StorageOptions | None' = None, dtype_backend: 'DtypeBackend | lib.NoDefault' = <no_default>) -> 'DataFrame'>,\n",
       " 'read_json': <function pandas.io.json._json.read_json(path_or_buf: 'FilePath | ReadBuffer[str] | ReadBuffer[bytes]', *, orient: 'str | None' = None, typ: \"Literal['frame', 'series']\" = 'frame', dtype: 'DtypeArg | None' = None, convert_axes: 'bool | None' = None, convert_dates: 'bool | list[str]' = True, keep_default_dates: 'bool' = True, precise_float: 'bool' = False, date_unit: 'str | None' = None, encoding: 'str | None' = None, encoding_errors: 'str | None' = 'strict', lines: 'bool' = False, chunksize: 'int | None' = None, compression: 'CompressionOptions' = 'infer', nrows: 'int | None' = None, storage_options: 'StorageOptions | None' = None, dtype_backend: 'DtypeBackend | lib.NoDefault' = <no_default>, engine: 'JSONEngine' = 'ujson') -> 'DataFrame | Series | JsonReader'>,\n",
       " 'read_stata': <function pandas.io.stata.read_stata(filepath_or_buffer: 'FilePath | ReadBuffer[bytes]', *, convert_dates: 'bool' = True, convert_categoricals: 'bool' = True, index_col: 'str | None' = None, convert_missing: 'bool' = False, preserve_dtypes: 'bool' = True, columns: 'Sequence[str] | None' = None, order_categoricals: 'bool' = True, chunksize: 'int | None' = None, iterator: 'bool' = False, compression: 'CompressionOptions' = 'infer', storage_options: 'StorageOptions | None' = None) -> 'DataFrame | StataReader'>,\n",
       " 'read_sas': <function pandas.io.sas.sasreader.read_sas(filepath_or_buffer: 'FilePath | ReadBuffer[bytes]', *, format: 'str | None' = None, index: 'Hashable | None' = None, encoding: 'str | None' = None, chunksize: 'int | None' = None, iterator: 'bool' = False, compression: 'CompressionOptions' = 'infer') -> 'DataFrame | ReaderBase'>,\n",
       " 'read_spss': <function pandas.io.spss.read_spss(path: 'str | Path', usecols: 'Sequence[str] | None' = None, convert_categoricals: 'bool' = True, dtype_backend: 'DtypeBackend | lib.NoDefault' = <no_default>) -> 'DataFrame'>,\n",
       " 'json_normalize': <function pandas.io.json._normalize.json_normalize(data: 'dict | list[dict]', record_path: 'str | list | None' = None, meta: 'str | list[str | list[str]] | None' = None, meta_prefix: 'str | None' = None, record_prefix: 'str | None' = None, errors: 'IgnoreRaise' = 'raise', sep: 'str' = '.', max_level: 'int | None' = None) -> 'DataFrame'>,\n",
       " 'test': <function pandas.util._tester.test(extra_args: 'list[str] | None' = None, run_doctests: 'bool' = False) -> 'None'>,\n",
       " '_built_with_meson': True,\n",
       " '_version_meson': <module 'pandas._version_meson' from 'C:\\\\Users\\\\izeme\\\\anaconda3\\\\Lib\\\\site-packages\\\\pandas\\\\_version_meson.py'>,\n",
       " '__version__': '2.1.4',\n",
       " '__git_version__': 'a671b5a8bf5dd13fb19f0e88edc679bc9e15c673',\n",
       " '__all__': ['ArrowDtype',\n",
       "  'BooleanDtype',\n",
       "  'Categorical',\n",
       "  'CategoricalDtype',\n",
       "  'CategoricalIndex',\n",
       "  'DataFrame',\n",
       "  'DateOffset',\n",
       "  'DatetimeIndex',\n",
       "  'DatetimeTZDtype',\n",
       "  'ExcelFile',\n",
       "  'ExcelWriter',\n",
       "  'Flags',\n",
       "  'Float32Dtype',\n",
       "  'Float64Dtype',\n",
       "  'Grouper',\n",
       "  'HDFStore',\n",
       "  'Index',\n",
       "  'IndexSlice',\n",
       "  'Int16Dtype',\n",
       "  'Int32Dtype',\n",
       "  'Int64Dtype',\n",
       "  'Int8Dtype',\n",
       "  'Interval',\n",
       "  'IntervalDtype',\n",
       "  'IntervalIndex',\n",
       "  'MultiIndex',\n",
       "  'NA',\n",
       "  'NaT',\n",
       "  'NamedAgg',\n",
       "  'Period',\n",
       "  'PeriodDtype',\n",
       "  'PeriodIndex',\n",
       "  'RangeIndex',\n",
       "  'Series',\n",
       "  'SparseDtype',\n",
       "  'StringDtype',\n",
       "  'Timedelta',\n",
       "  'TimedeltaIndex',\n",
       "  'Timestamp',\n",
       "  'UInt16Dtype',\n",
       "  'UInt32Dtype',\n",
       "  'UInt64Dtype',\n",
       "  'UInt8Dtype',\n",
       "  'api',\n",
       "  'array',\n",
       "  'arrays',\n",
       "  'bdate_range',\n",
       "  'concat',\n",
       "  'crosstab',\n",
       "  'cut',\n",
       "  'date_range',\n",
       "  'describe_option',\n",
       "  'errors',\n",
       "  'eval',\n",
       "  'factorize',\n",
       "  'get_dummies',\n",
       "  'from_dummies',\n",
       "  'get_option',\n",
       "  'infer_freq',\n",
       "  'interval_range',\n",
       "  'io',\n",
       "  'isna',\n",
       "  'isnull',\n",
       "  'json_normalize',\n",
       "  'lreshape',\n",
       "  'melt',\n",
       "  'merge',\n",
       "  'merge_asof',\n",
       "  'merge_ordered',\n",
       "  'notna',\n",
       "  'notnull',\n",
       "  'offsets',\n",
       "  'option_context',\n",
       "  'options',\n",
       "  'period_range',\n",
       "  'pivot',\n",
       "  'pivot_table',\n",
       "  'plotting',\n",
       "  'qcut',\n",
       "  'read_clipboard',\n",
       "  'read_csv',\n",
       "  'read_excel',\n",
       "  'read_feather',\n",
       "  'read_fwf',\n",
       "  'read_gbq',\n",
       "  'read_hdf',\n",
       "  'read_html',\n",
       "  'read_json',\n",
       "  'read_orc',\n",
       "  'read_parquet',\n",
       "  'read_pickle',\n",
       "  'read_sas',\n",
       "  'read_spss',\n",
       "  'read_sql',\n",
       "  'read_sql_query',\n",
       "  'read_sql_table',\n",
       "  'read_stata',\n",
       "  'read_table',\n",
       "  'read_xml',\n",
       "  'reset_option',\n",
       "  'set_eng_float_format',\n",
       "  'set_option',\n",
       "  'show_versions',\n",
       "  'test',\n",
       "  'testing',\n",
       "  'timedelta_range',\n",
       "  'to_datetime',\n",
       "  'to_numeric',\n",
       "  'to_pickle',\n",
       "  'to_timedelta',\n",
       "  'tseries',\n",
       "  'unique',\n",
       "  'value_counts',\n",
       "  'wide_to_long']}"
      ]
     },
     "execution_count": 56,
     "metadata": {},
     "output_type": "execute_result"
    }
   ],
   "source": [
    "pd.__dict__ # так создастся словарь с описанием каждого элемента библиотеки"
   ]
  },
  {
   "cell_type": "code",
   "execution_count": 57,
   "metadata": {
    "scrolled": true
   },
   "outputs": [
    {
     "data": {
      "text/plain": [
       "{'__name__': 'hello',\n",
       " '__doc__': None,\n",
       " '__package__': '',\n",
       " '__loader__': <_frozen_importlib_external.SourceFileLoader at 0x1f283ac2150>,\n",
       " '__spec__': ModuleSpec(name='hello', loader=<_frozen_importlib_external.SourceFileLoader object at 0x000001F283AC2150>, origin='C:\\\\Users\\\\izeme\\\\OneDrive\\\\Desktop\\\\Git\\\\DS-17.Python\\\\L6\\\\hello.py'),\n",
       " '__file__': 'C:\\\\Users\\\\izeme\\\\OneDrive\\\\Desktop\\\\Git\\\\DS-17.Python\\\\L6\\\\hello.py',\n",
       " '__cached__': 'C:\\\\Users\\\\izeme\\\\OneDrive\\\\Desktop\\\\Git\\\\DS-17.Python\\\\L6\\\\__pycache__\\\\hello.cpython-311.pyc',\n",
       " '__builtins__': {'__name__': 'builtins',\n",
       "  '__doc__': \"Built-in functions, types, exceptions, and other objects.\\n\\nThis module provides direct access to all 'built-in'\\nidentifiers of Python; for example, builtins.len is\\nthe full name for the built-in function len().\\n\\nThis module is not normally accessed explicitly by most\\napplications, but can be useful in modules that provide\\nobjects with the same name as a built-in value, but in\\nwhich the built-in of that name is also needed.\",\n",
       "  '__package__': '',\n",
       "  '__loader__': _frozen_importlib.BuiltinImporter,\n",
       "  '__spec__': ModuleSpec(name='builtins', loader=<class '_frozen_importlib.BuiltinImporter'>, origin='built-in'),\n",
       "  '__build_class__': <function __build_class__>,\n",
       "  '__import__': <function __import__(name, globals=None, locals=None, fromlist=(), level=0)>,\n",
       "  'abs': <function abs(x, /)>,\n",
       "  'all': <function all(iterable, /)>,\n",
       "  'any': <function any(iterable, /)>,\n",
       "  'ascii': <function ascii(obj, /)>,\n",
       "  'bin': <function bin(number, /)>,\n",
       "  'breakpoint': <function breakpoint>,\n",
       "  'callable': <function callable(obj, /)>,\n",
       "  'chr': <function chr(i, /)>,\n",
       "  'compile': <function compile(source, filename, mode, flags=0, dont_inherit=False, optimize=-1, *, _feature_version=-1)>,\n",
       "  'delattr': <function delattr(obj, name, /)>,\n",
       "  'dir': <function dir>,\n",
       "  'divmod': <function divmod(x, y, /)>,\n",
       "  'eval': <function eval(source, globals=None, locals=None, /)>,\n",
       "  'exec': <function exec(source, globals=None, locals=None, /, *, closure=None)>,\n",
       "  'format': <function format(value, format_spec='', /)>,\n",
       "  'getattr': <function getattr>,\n",
       "  'globals': <function globals()>,\n",
       "  'hasattr': <function hasattr(obj, name, /)>,\n",
       "  'hash': <function hash(obj, /)>,\n",
       "  'hex': <function hex(number, /)>,\n",
       "  'id': <function id(obj, /)>,\n",
       "  'input': <bound method Kernel.raw_input of <ipykernel.ipkernel.IPythonKernel object at 0x000001F2834B2D50>>,\n",
       "  'isinstance': <function isinstance(obj, class_or_tuple, /)>,\n",
       "  'issubclass': <function issubclass(cls, class_or_tuple, /)>,\n",
       "  'iter': <function iter>,\n",
       "  'aiter': <function aiter(async_iterable, /)>,\n",
       "  'len': <function len(obj, /)>,\n",
       "  'locals': <function locals()>,\n",
       "  'max': <function max>,\n",
       "  'min': <function min>,\n",
       "  'next': <function next>,\n",
       "  'anext': <function anext>,\n",
       "  'oct': <function oct(number, /)>,\n",
       "  'ord': <function ord(c, /)>,\n",
       "  'pow': <function pow(base, exp, mod=None)>,\n",
       "  'print': <function print(*args, sep=' ', end='\\n', file=None, flush=False)>,\n",
       "  'repr': <function repr(obj, /)>,\n",
       "  'round': <function round(number, ndigits=None)>,\n",
       "  'setattr': <function setattr(obj, name, value, /)>,\n",
       "  'sorted': <function sorted(iterable, /, *, key=None, reverse=False)>,\n",
       "  'sum': <function sum(iterable, /, start=0)>,\n",
       "  'vars': <function vars>,\n",
       "  'None': None,\n",
       "  'Ellipsis': Ellipsis,\n",
       "  'NotImplemented': NotImplemented,\n",
       "  'False': False,\n",
       "  'True': True,\n",
       "  'bool': bool,\n",
       "  'memoryview': memoryview,\n",
       "  'bytearray': bytearray,\n",
       "  'bytes': bytes,\n",
       "  'classmethod': classmethod,\n",
       "  'complex': complex,\n",
       "  'dict': dict,\n",
       "  'enumerate': enumerate,\n",
       "  'filter': filter,\n",
       "  'float': float,\n",
       "  'frozenset': frozenset,\n",
       "  'property': property,\n",
       "  'int': int,\n",
       "  'list': list,\n",
       "  'map': map,\n",
       "  'object': object,\n",
       "  'range': range,\n",
       "  'reversed': reversed,\n",
       "  'set': set,\n",
       "  'slice': slice,\n",
       "  'staticmethod': staticmethod,\n",
       "  'str': str,\n",
       "  'super': super,\n",
       "  'tuple': tuple,\n",
       "  'type': type,\n",
       "  'zip': zip,\n",
       "  '__debug__': True,\n",
       "  'BaseException': BaseException,\n",
       "  'BaseExceptionGroup': BaseExceptionGroup,\n",
       "  'Exception': Exception,\n",
       "  'GeneratorExit': GeneratorExit,\n",
       "  'KeyboardInterrupt': KeyboardInterrupt,\n",
       "  'SystemExit': SystemExit,\n",
       "  'ArithmeticError': ArithmeticError,\n",
       "  'AssertionError': AssertionError,\n",
       "  'AttributeError': AttributeError,\n",
       "  'BufferError': BufferError,\n",
       "  'EOFError': EOFError,\n",
       "  'ImportError': ImportError,\n",
       "  'LookupError': LookupError,\n",
       "  'MemoryError': MemoryError,\n",
       "  'NameError': NameError,\n",
       "  'OSError': OSError,\n",
       "  'ReferenceError': ReferenceError,\n",
       "  'RuntimeError': RuntimeError,\n",
       "  'StopAsyncIteration': StopAsyncIteration,\n",
       "  'StopIteration': StopIteration,\n",
       "  'SyntaxError': SyntaxError,\n",
       "  'SystemError': SystemError,\n",
       "  'TypeError': TypeError,\n",
       "  'ValueError': ValueError,\n",
       "  'Warning': Warning,\n",
       "  'FloatingPointError': FloatingPointError,\n",
       "  'OverflowError': OverflowError,\n",
       "  'ZeroDivisionError': ZeroDivisionError,\n",
       "  'BytesWarning': BytesWarning,\n",
       "  'DeprecationWarning': DeprecationWarning,\n",
       "  'EncodingWarning': EncodingWarning,\n",
       "  'FutureWarning': FutureWarning,\n",
       "  'ImportWarning': ImportWarning,\n",
       "  'PendingDeprecationWarning': PendingDeprecationWarning,\n",
       "  'ResourceWarning': ResourceWarning,\n",
       "  'RuntimeWarning': RuntimeWarning,\n",
       "  'SyntaxWarning': SyntaxWarning,\n",
       "  'UnicodeWarning': UnicodeWarning,\n",
       "  'UserWarning': UserWarning,\n",
       "  'BlockingIOError': BlockingIOError,\n",
       "  'ChildProcessError': ChildProcessError,\n",
       "  'ConnectionError': ConnectionError,\n",
       "  'FileExistsError': FileExistsError,\n",
       "  'FileNotFoundError': FileNotFoundError,\n",
       "  'InterruptedError': InterruptedError,\n",
       "  'IsADirectoryError': IsADirectoryError,\n",
       "  'NotADirectoryError': NotADirectoryError,\n",
       "  'PermissionError': PermissionError,\n",
       "  'ProcessLookupError': ProcessLookupError,\n",
       "  'TimeoutError': TimeoutError,\n",
       "  'IndentationError': IndentationError,\n",
       "  'IndexError': IndexError,\n",
       "  'KeyError': KeyError,\n",
       "  'ModuleNotFoundError': ModuleNotFoundError,\n",
       "  'NotImplementedError': NotImplementedError,\n",
       "  'RecursionError': RecursionError,\n",
       "  'UnboundLocalError': UnboundLocalError,\n",
       "  'UnicodeError': UnicodeError,\n",
       "  'BrokenPipeError': BrokenPipeError,\n",
       "  'ConnectionAbortedError': ConnectionAbortedError,\n",
       "  'ConnectionRefusedError': ConnectionRefusedError,\n",
       "  'ConnectionResetError': ConnectionResetError,\n",
       "  'TabError': TabError,\n",
       "  'UnicodeDecodeError': UnicodeDecodeError,\n",
       "  'UnicodeEncodeError': UnicodeEncodeError,\n",
       "  'UnicodeTranslateError': UnicodeTranslateError,\n",
       "  'ExceptionGroup': ExceptionGroup,\n",
       "  'EnvironmentError': OSError,\n",
       "  'IOError': OSError,\n",
       "  'WindowsError': OSError,\n",
       "  'open': <function io.open(file, mode='r', buffering=-1, encoding=None, errors=None, newline=None, closefd=True, opener=None)>,\n",
       "  'copyright': Copyright (c) 2001-2023 Python Software Foundation.\n",
       "  All Rights Reserved.\n",
       "  \n",
       "  Copyright (c) 2000 BeOpen.com.\n",
       "  All Rights Reserved.\n",
       "  \n",
       "  Copyright (c) 1995-2001 Corporation for National Research Initiatives.\n",
       "  All Rights Reserved.\n",
       "  \n",
       "  Copyright (c) 1991-1995 Stichting Mathematisch Centrum, Amsterdam.\n",
       "  All Rights Reserved.,\n",
       "  'credits':     Thanks to CWI, CNRI, BeOpen.com, Zope Corporation and a cast of thousands\n",
       "      for supporting Python development.  See www.python.org for more information.,\n",
       "  'license': See https://www.python.org/psf/license/,\n",
       "  'help': Type help() for interactive help, or help(object) for help about object.,\n",
       "  'execfile': <function _pydev_bundle._pydev_execfile.execfile(file, glob=None, loc=None)>,\n",
       "  'runfile': <function _pydev_bundle.pydev_umd.runfile(filename, args=None, wdir=None, namespace=None)>,\n",
       "  '__IPYTHON__': True,\n",
       "  'display': <function IPython.core.display_functions.display(*objs, include=None, exclude=None, metadata=None, transient=None, display_id=None, raw=False, clear=False, **kwargs)>,\n",
       "  'get_ipython': <bound method InteractiveShell.get_ipython of <ipykernel.zmqshell.ZMQInteractiveShell object at 0x000001F2834BF210>>},\n",
       " 'greet': <function hello.greet(name)>,\n",
       " 'square': <function hello.square(x)>}"
      ]
     },
     "execution_count": 57,
     "metadata": {},
     "output_type": "execute_result"
    }
   ],
   "source": [
    "hello.__dict__"
   ]
  },
  {
   "cell_type": "code",
   "execution_count": 69,
   "metadata": {},
   "outputs": [
    {
     "name": "stdout",
     "output_type": "stream",
     "text": [
      "Help on function greet in module hello:\n",
      "\n",
      "greet(name)\n",
      "\n"
     ]
    }
   ],
   "source": [
    "help(hello.greet)"
   ]
  },
  {
   "cell_type": "markdown",
   "metadata": {},
   "source": [
    "Почитать подробнее про модули и пакеты в Python: https://habr.com/ru/articles/718828/"
   ]
  }
 ],
 "metadata": {
  "colab": {
   "provenance": []
  },
  "kernelspec": {
   "display_name": "Python 3 (ipykernel)",
   "language": "python",
   "name": "python3"
  },
  "language_info": {
   "codemirror_mode": {
    "name": "ipython",
    "version": 3
   },
   "file_extension": ".py",
   "mimetype": "text/x-python",
   "name": "python",
   "nbconvert_exporter": "python",
   "pygments_lexer": "ipython3",
   "version": "3.11.7"
  }
 },
 "nbformat": 4,
 "nbformat_minor": 1
}
